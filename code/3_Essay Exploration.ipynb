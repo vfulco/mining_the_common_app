{
 "cells": [
  {
   "cell_type": "code",
   "execution_count": 277,
   "metadata": {
    "collapsed": true
   },
   "outputs": [],
   "source": [
    "import pandas as pd\n",
    "import numpy as np\n",
    "import matplotlib.pyplot as plt\n",
    "import essay_analysis as ea\n",
    "import re\n",
    "from string import punctuation\n",
    "from collections import OrderedDict, defaultdict, Counter\n",
    "from sklearn.preprocessing import StandardScaler\n",
    "from sklearn.cluster import KMeans\n",
    "from sklearn.metrics import silhouette_score, pairwise_distances\n",
    "from sklearn.feature_extraction.text import TfidfVectorizer, CountVectorizer\n",
    "from nltk.stem import WordNetLemmatizer, PorterStemmer, SnowballStemmer, RegexpStemmer\n",
    "from sklearn.decomposition import NMF, PCA, LatentDirichletAllocation\n",
    "from scipy.spatial.distance import pdist, squareform, cosine, euclidean\n",
    "from scipy.cluster.hierarchy import linkage, dendrogram, set_link_color_palette\n",
    "from scipy.misc import comb\n",
    "from nltk.corpus import stopwords\n",
    "from sklearn.manifold import TSNE\n",
    "import seaborn as sns\n",
    "import cPickle as pickle\n",
    "from scipy.stats import ttest_ind\n",
    "from itertools import combinations\n",
    "import networkx as nx\n",
    "%matplotlib inline"
   ]
  },
  {
   "cell_type": "code",
   "execution_count": 2,
   "metadata": {
    "collapsed": true
   },
   "outputs": [],
   "source": [
    "df = pd.read_csv('../data/master_essay.csv', low_memory=False)"
   ]
  },
  {
   "cell_type": "code",
   "execution_count": 3,
   "metadata": {
    "collapsed": false
   },
   "outputs": [
    {
     "data": {
      "text/plain": [
       "0    2126\n",
       "1    1051\n",
       "Name: top_school_final, dtype: int64"
      ]
     },
     "execution_count": 3,
     "metadata": {},
     "output_type": "execute_result"
    }
   ],
   "source": [
    "df[df['essay_final'].notnull()]['top_school_final'].value_counts()"
   ]
  },
  {
   "cell_type": "code",
   "execution_count": 4,
   "metadata": {
    "collapsed": true
   },
   "outputs": [],
   "source": [
    "df2 = df[df['essay_final'].notnull()].copy()"
   ]
  },
  {
   "cell_type": "code",
   "execution_count": 5,
   "metadata": {
    "collapsed": false
   },
   "outputs": [],
   "source": [
    "essays = df2['essay_final'].values.copy()\n",
    "essays_idx = df2['id'].values\n",
    "X = essays.copy()\n",
    "y = df2['top_school_final'].values"
   ]
  },
  {
   "cell_type": "markdown",
   "metadata": {},
   "source": [
    "### Stop Words & Stemming/Lemmatizing"
   ]
  },
  {
   "cell_type": "markdown",
   "metadata": {},
   "source": [
    "1. Let's remove ASCII characters to avoid UnicodeDecodeErrors later.\n",
    "2. We should remove stop words before stemming / lemmatizing (e.g. PorterStemmer turns 'was' into 'wa')\n",
    "3. Stemming is better than Lemmatizing in our case, because we don't really need to preserve contextual meanings - it's more important that we group words that mean the same thing even if they take different forms. For instance, using a PorterStemmer, if we stem 'familial' and 'family', we get the 'famili' root word in both cases. However, with a WordNetLemmatizer, the output is distinct - it returns 'familial' and 'family'. Since we will eventually build a tfidf matrix, it is preferable to use a PorterStemmer here."
   ]
  },
  {
   "cell_type": "code",
   "execution_count": 7,
   "metadata": {
    "collapsed": false
   },
   "outputs": [],
   "source": [
    "reload(ea)\n",
    "ae = ea.AnalyzeEssays()"
   ]
  },
  {
   "cell_type": "code",
   "execution_count": 8,
   "metadata": {
    "collapsed": false
   },
   "outputs": [
    {
     "name": "stderr",
     "output_type": "stream",
     "text": [
      "essay_analysis.py:170: UnicodeWarning: Unicode equal comparison failed to convert both arguments to Unicode - interpreting them as being unequal\n",
      "  essay = ' '.join([word for word in essay.split() if word not in self.stop_words])\n",
      "/Users/MikeYung/anaconda/lib/python2.7/site-packages/nltk/stem/porter.py:274: UnicodeWarning: Unicode equal comparison failed to convert both arguments to Unicode - interpreting them as being unequal\n",
      "  if word[-1] == 's':\n"
     ]
    }
   ],
   "source": [
    "ae.stopWordsAndStem(X)"
   ]
  },
  {
   "cell_type": "markdown",
   "metadata": {},
   "source": [
    "### Transform Essays into TFIDF Matrix"
   ]
  },
  {
   "cell_type": "code",
   "execution_count": 74,
   "metadata": {
    "collapsed": false,
    "scrolled": true
   },
   "outputs": [],
   "source": [
    "# essays[10]"
   ]
  },
  {
   "cell_type": "code",
   "execution_count": 9,
   "metadata": {
    "collapsed": false
   },
   "outputs": [],
   "source": [
    "vec = TfidfVectorizer(stop_words='english', max_df=0.95, min_df=2, max_features=10000)\n",
    "mat = vec.fit_transform(X)"
   ]
  },
  {
   "cell_type": "code",
   "execution_count": 10,
   "metadata": {
    "collapsed": false
   },
   "outputs": [
    {
     "data": {
      "text/plain": [
       "<3177x10000 sparse matrix of type '<type 'numpy.float64'>'\n",
       "\twith 582653 stored elements in Compressed Sparse Row format>"
      ]
     },
     "execution_count": 10,
     "metadata": {},
     "output_type": "execute_result"
    }
   ],
   "source": [
    "mat"
   ]
  },
  {
   "cell_type": "markdown",
   "metadata": {},
   "source": [
    "### Visualizing using PCA"
   ]
  },
  {
   "cell_type": "markdown",
   "metadata": {},
   "source": [
    "Goal: reduce the dimensions from 27k to 2, and visualize in a scatter plot."
   ]
  },
  {
   "cell_type": "code",
   "execution_count": 10,
   "metadata": {
    "collapsed": true
   },
   "outputs": [],
   "source": [
    "pca = PCA(n_components=2)\n",
    "pca.fit(mat.toarray())\n",
    "mat_pca = pca.transform(mat.toarray())"
   ]
  },
  {
   "cell_type": "code",
   "execution_count": 13,
   "metadata": {
    "collapsed": false,
    "scrolled": true
   },
   "outputs": [
    {
     "data": {
      "text/plain": [
       "<matplotlib.collections.PathCollection at 0x11c969350>"
      ]
     },
     "execution_count": 13,
     "metadata": {},
     "output_type": "execute_result"
    },
    {
     "data": {
      "image/png": "[encoded data removed]",
      "text/plain": [
       "<matplotlib.figure.Figure at 0x11e148f50>"
      ]
     },
     "metadata": {},
     "output_type": "display_data"
    }
   ],
   "source": [
    "rand_idx = np.random.randint(0, len(X), 1000)\n",
    "plt.figure(figsize=(8,6))\n",
    "plt.scatter(mat_pca[rand_idx,0], mat_pca[rand_idx,1], alpha=0.7, s=20, c=y[rand_idx], cmap='bwr')"
   ]
  },
  {
   "cell_type": "markdown",
   "metadata": {},
   "source": [
    "### Visualing using TSNE (t-Distributed Stochastic Neighbor Embedding)"
   ]
  },
  {
   "cell_type": "markdown",
   "metadata": {},
   "source": [
    "http://scikit-learn.org/stable/modules/generated/sklearn.manifold.TSNE.html <br>\n",
    "Author recommends performing an inital round of dimensionality reduction first before doing TSNE. In our case, we will will NMF to reduce the data to 10 components first."
   ]
  },
  {
   "cell_type": "code",
   "execution_count": 14,
   "metadata": {
    "collapsed": false
   },
   "outputs": [],
   "source": [
    "dr = ea.dimReduction()\n",
    "mat_tsne = dr.getTSNE(NMF, 10, mat)"
   ]
  },
  {
   "cell_type": "code",
   "execution_count": 15,
   "metadata": {
    "collapsed": false
   },
   "outputs": [
    {
     "data": {
      "text/plain": [
       "<matplotlib.collections.PathCollection at 0x11a15e2d0>"
      ]
     },
     "execution_count": 15,
     "metadata": {},
     "output_type": "execute_result"
    },
    {
     "data": {
      "image/png": "[encoded data removed]",
      "text/plain": [
       "<matplotlib.figure.Figure at 0x11b069f90>"
      ]
     },
     "metadata": {},
     "output_type": "display_data"
    }
   ],
   "source": [
    "rand_idx = np.random.randint(0, len(X), 800)\n",
    "plt.figure(figsize=(8,6))\n",
    "plt.scatter(mat_tsne[rand_idx,0], mat_tsne[rand_idx,1], alpha=0.6, s=30, c=y[rand_idx], cmap='bwr')"
   ]
  },
  {
   "cell_type": "markdown",
   "metadata": {},
   "source": [
    "##### If time permits, try TruncatedSVD"
   ]
  },
  {
   "cell_type": "markdown",
   "metadata": {},
   "source": [
    "http://scikit-learn.org/stable/modules/generated/sklearn.decomposition.TruncatedSVD.html"
   ]
  },
  {
   "cell_type": "markdown",
   "metadata": {},
   "source": [
    "### Non-Negative Matrix Factorization (NMF)"
   ]
  },
  {
   "cell_type": "markdown",
   "metadata": {},
   "source": [
    "Chose this over SVD to preserve the interpretability of positive values."
   ]
  },
  {
   "cell_type": "markdown",
   "metadata": {},
   "source": [
    "Goal: identify latent features / hidden topics across the essays. May be able to use these as features in our predictive model. We can also compute a cosine similarity matrix: the idea is so we can show most 'similar' essays."
   ]
  },
  {
   "cell_type": "code",
   "execution_count": 11,
   "metadata": {
    "collapsed": false
   },
   "outputs": [],
   "source": [
    "reload(ea)\n",
    "tm = ea.TopicModeling()"
   ]
  },
  {
   "cell_type": "code",
   "execution_count": 12,
   "metadata": {
    "collapsed": false
   },
   "outputs": [
    {
     "data": {
      "image/png": "[encoded data removed]",
      "text/plain": [
       "<matplotlib.figure.Figure at 0x112f734d0>"
      ]
     },
     "metadata": {},
     "output_type": "display_data"
    }
   ],
   "source": [
    "tm.plotOptimalNMF(mat, 12)"
   ]
  },
  {
   "cell_type": "markdown",
   "metadata": {},
   "source": [
    "Doesn't look like there's any significant 'elbow' in the reconstruction error graph in the first 11 components. Any more than that and we'll likely lose the ability to 'bin'/categorize topics with similar semantic meaning."
   ]
  },
  {
   "cell_type": "markdown",
   "metadata": {},
   "source": [
    "After examining the various 'topics' generated from 2-10 topics, we heuristically decide that 7 is the best number. Let's take a look at the key words that represent each of these 7 topics."
   ]
  },
  {
   "cell_type": "code",
   "execution_count": 13,
   "metadata": {
    "collapsed": false,
    "scrolled": false
   },
   "outputs": [
    {
     "data": {
      "text/plain": [
       "[array([u'mother', u'father', u'famili', u'parent', u'mom', u'dad', u'life',\n",
       "        u'brother', u'work', u'sister', u'home', u'live', u'family',\n",
       "        u'help', u'time', u'day', u'grandmoth', u'care', u'alway', u'want',\n",
       "        u'cancer', u'dream', u'hous', u'hard', u'children', u'hospit',\n",
       "        u'job', u'make', u'becam', u'year', u'love', u'sibl', u'age',\n",
       "        u'support', u'doctor', u'old', u'know', u'child', u'everyth',\n",
       "        u'money'], \n",
       "       dtype='<U17'),\n",
       " array([u'music', u'play', u'piano', u'perform', u'song', u'band', u'danc',\n",
       "        u'note', u'sing', u'stage', u'concert', u'orchestra', u'sound',\n",
       "        u'guitar', u'jazz', u'piec', u'instrument', u'art', u'listen',\n",
       "        u'chord', u'emot', u'musician', u'room', u'practic', u'audienc',\n",
       "        u'content', u'love', u'theater', u'passion', u'feel', u'express',\n",
       "        u'classic', u'audit', u'performance', u'melodi', u'violin',\n",
       "        u'choir', u'everi', u'artist', u'piece'], \n",
       "       dtype='<U17'),\n",
       " array([u'cultur', u'american', u'world', u'english', u'languag', u'chines',\n",
       "        u'differ', u'peopl', u'countri', u'speak', u'live', u'spanish',\n",
       "        u'famili', u'new', u'america', u'culture', u'learn', u'divers',\n",
       "        u'understand', u'commun', u'china', u'french', u'travel', u'parent',\n",
       "        u'unit', u'cultures', u'experi', u'language', u'life', u'korean',\n",
       "        u'background', u'word', u'mani', u'home', u'citi', u'indian',\n",
       "        u'foreign', u'ident', u'asian', u'like'], \n",
       "       dtype='<U17'),\n",
       " array([u'team', u'game', u'coach', u'play', u'player', u'season', u'ball',\n",
       "        u'sport', u'run', u'year', u'basketbal', u'captain', u'win',\n",
       "        u'debat', u'teammat', u'soccer', u'varsiti', u'leadership', u'time',\n",
       "        u'athlet', u'practic', u'work', u'race', u'hard', u'leader',\n",
       "        u'tournament', u'success', u'court', u'robot', u'footbal', u'tenni',\n",
       "        u'start', u'club', u'failur', u'track', u'field', u'competit',\n",
       "        u'practice', u'swim', u'match'], \n",
       "       dtype='<U17'),\n",
       " array([u'like', u'im', u'time', u'day', u'feel', u'look', u'know',\n",
       "        u'peopl', u'everi', u'didnt', u'friend', u'life', u'ive', u'felt',\n",
       "        u'dont', u'want', u'thing', u'make', u'think', u'someth',\n",
       "        u'thought', u'moment', u'love', u'girl', u'book', u'read', u'way',\n",
       "        u'tri', u'year', u'walk', u'hand', u'word', u'eye', u'littl',\n",
       "        u'alway', u'world', u'place', u'say', u'away', u'ask'], \n",
       "       dtype='<U17'),\n",
       " array([u'research', u'scienc', u'comput', u'art', u'engin', u'work',\n",
       "        u'learn', u'design', u'program', u'field', u'studi', u'world',\n",
       "        u'creat', u'use', u'science', u'lab', u'passion', u'knowledg',\n",
       "        u'medic', u'technolog', u'math', u'experi', u'project', u'human',\n",
       "        u'read', u'problem', u'career', u'develop', u'doctor', u'robot',\n",
       "        u'creativ', u'univers', u'love', u'understand', u'new', u'solv',\n",
       "        u'explor', u'scientif', u'subject', u'physic'], \n",
       "       dtype='<U17'),\n",
       " array([u'school', u'student', u'high', u'class', u'help', u'year',\n",
       "        u'colleg', u'work', u'grade', u'educ', u'want', u'commun', u'learn',\n",
       "        u'academ', u'club', u'teacher', u'attend', u'program', u'college',\n",
       "        u'abl', u'peopl', u'life', u'mani', u'person', u'opportun',\n",
       "        u'univers', u'career', u'success', u'hard', u'make', u'start',\n",
       "        u'becom', u'goal', u'studi', u'education', u'believ', u'graduat',\n",
       "        u'better', u'receiv', u'honor'], \n",
       "       dtype='<U17')]"
      ]
     },
     "execution_count": 13,
     "metadata": {},
     "output_type": "execute_result"
    }
   ],
   "source": [
    "nmf = NMF(n_components=7, random_state=100)\n",
    "nmf.fit(mat)\n",
    "H = nmf.components_\n",
    "tm.showTopWords(H, vec, no_words=40)"
   ]
  },
  {
   "cell_type": "markdown",
   "metadata": {},
   "source": [
    "Let's now transform our tfidf matrix to get the low-dimensional (7-topic) version of it."
   ]
  },
  {
   "cell_type": "code",
   "execution_count": 14,
   "metadata": {
    "collapsed": true
   },
   "outputs": [],
   "source": [
    "W = nmf.transform(mat)"
   ]
  },
  {
   "cell_type": "markdown",
   "metadata": {},
   "source": [
    "##### Modeling Tests"
   ]
  },
  {
   "cell_type": "code",
   "execution_count": 108,
   "metadata": {
    "collapsed": false
   },
   "outputs": [],
   "source": [
    "from sklearn.neighbors import KNeighborsClassifier\n",
    "from sklearn.ensemble import RandomForestClassifier\n",
    "from sklearn.linear_model import LogisticRegression\n",
    "from sklearn.svm import SVC\n",
    "from sklearn.grid_search import GridSearchCV\n",
    "from sklearn.metrics import confusion_matrix"
   ]
  },
  {
   "cell_type": "code",
   "execution_count": 128,
   "metadata": {
    "collapsed": true
   },
   "outputs": [],
   "source": [
    "def test(X,y,model,params):\n",
    "    gs = GridSearchCV(model, param_grid=params, cv=5)\n",
    "    gs.fit(X,y)\n",
    "    print gs.grid_scores_\n",
    "    y_pred = gs.predict(X)\n",
    "    print confusion_matrix(y, y_pred)\n",
    "    print gs.score(X,y)"
   ]
  },
  {
   "cell_type": "code",
   "execution_count": 129,
   "metadata": {
    "collapsed": false
   },
   "outputs": [
    {
     "name": "stdout",
     "output_type": "stream",
     "text": [
      "[mean: 0.65313, std: 0.01004, params: {'max_features': 2}, mean: 0.63991, std: 0.00525, params: {'max_features': 3}]\n",
      "[[2121    5]\n",
      " [  73  978]]\n",
      "0.975448536355\n"
     ]
    }
   ],
   "source": [
    "test(W,y,RandomForestClassifier(), params = {'max_features':[2,3]})"
   ]
  },
  {
   "cell_type": "code",
   "execution_count": 131,
   "metadata": {
    "collapsed": false
   },
   "outputs": [
    {
     "name": "stdout",
     "output_type": "stream",
     "text": [
      "[mean: 0.64621, std: 0.01103, params: {'n_neighbors': 2}, mean: 0.60875, std: 0.01577, params: {'n_neighbors': 3}, mean: 0.65030, std: 0.01550, params: {'n_neighbors': 4}, mean: 0.63488, std: 0.01887, params: {'n_neighbors': 5}, mean: 0.65628, std: 0.01942, params: {'n_neighbors': 6}, mean: 0.63802, std: 0.02095, params: {'n_neighbors': 7}]\n",
      "[[2022  104]\n",
      " [ 747  304]]\n",
      "0.732137236387\n"
     ]
    }
   ],
   "source": [
    "test(W,y,KNeighborsClassifier(), params = {'n_neighbors':range(2,8)})"
   ]
  },
  {
   "cell_type": "markdown",
   "metadata": {},
   "source": [
    "### Pickle Tfidf-Vectorizer and NMF model"
   ]
  },
  {
   "cell_type": "code",
   "execution_count": 105,
   "metadata": {
    "collapsed": true
   },
   "outputs": [],
   "source": [
    "with open('../data/vectorizer.pkl', 'w') as f:\n",
    "    pickle.dump(vec, f)\n",
    "with open('../data/nmf.pkl', 'w') as f:\n",
    "    pickle.dump(nmf, f)"
   ]
  },
  {
   "cell_type": "markdown",
   "metadata": {},
   "source": [
    "### Export data (containing just essays + topics)"
   ]
  },
  {
   "cell_type": "markdown",
   "metadata": {},
   "source": [
    "To make things easier when creating an app to recommend similar essays/profiles later on, let's create a new DataFrame containing just essays, topics, and userid."
   ]
  },
  {
   "cell_type": "code",
   "execution_count": 133,
   "metadata": {
    "collapsed": false
   },
   "outputs": [],
   "source": [
    "essays_and_topics = np.hstack((essays_idx.reshape(-1,1), (essays.reshape(-1,1))))\n",
    "essays_and_topics = np.hstack((essays_and_topics, W))\n",
    "df_et_cols = ['id','content','family', 'music', 'culture', 'sport', 'personal', 'science', 'career']\n",
    "df_et = pd.DataFrame(essays_and_topics, columns=df_et_cols)"
   ]
  },
  {
   "cell_type": "code",
   "execution_count": null,
   "metadata": {
    "collapsed": true
   },
   "outputs": [],
   "source": [
    "df_et.to_csv('../data/essays_and_topics.csv')"
   ]
  },
  {
   "cell_type": "code",
   "execution_count": 156,
   "metadata": {
    "collapsed": false,
    "scrolled": true
   },
   "outputs": [
    {
     "data": {
      "text/html": [
       "<div>\n",
       "<table border=\"1\" class=\"dataframe\">\n",
       "  <thead>\n",
       "    <tr style=\"text-align: right;\">\n",
       "      <th></th>\n",
       "      <th>id</th>\n",
       "      <th>content</th>\n",
       "      <th>family</th>\n",
       "      <th>music</th>\n",
       "      <th>culture</th>\n",
       "      <th>sport</th>\n",
       "      <th>personal</th>\n",
       "      <th>science</th>\n",
       "      <th>career</th>\n",
       "    </tr>\n",
       "  </thead>\n",
       "  <tbody>\n",
       "    <tr>\n",
       "      <th>0</th>\n",
       "      <td>7668</td>\n",
       "      <td>The Art of Living in a Boy House\\nStill sleepy...</td>\n",
       "      <td>0.0286212</td>\n",
       "      <td>0.0126327</td>\n",
       "      <td>0</td>\n",
       "      <td>0.0171051</td>\n",
       "      <td>0.0398075</td>\n",
       "      <td>0.0461729</td>\n",
       "      <td>0.000983955</td>\n",
       "    </tr>\n",
       "    <tr>\n",
       "      <th>1</th>\n",
       "      <td>7666</td>\n",
       "      <td>Making a Leader\\nThe auditorium is filling up....</td>\n",
       "      <td>0.0279414</td>\n",
       "      <td>0</td>\n",
       "      <td>0</td>\n",
       "      <td>0.0103799</td>\n",
       "      <td>0.0790994</td>\n",
       "      <td>0</td>\n",
       "      <td>0.0733329</td>\n",
       "    </tr>\n",
       "    <tr>\n",
       "      <th>2</th>\n",
       "      <td>6342</td>\n",
       "      <td>Second nature now kicked in. As I bounced the ...</td>\n",
       "      <td>0.021991</td>\n",
       "      <td>0.0100422</td>\n",
       "      <td>0.02812</td>\n",
       "      <td>0.146277</td>\n",
       "      <td>0</td>\n",
       "      <td>0.00519798</td>\n",
       "      <td>0.00527239</td>\n",
       "    </tr>\n",
       "    <tr>\n",
       "      <th>3</th>\n",
       "      <td>7565</td>\n",
       "      <td>I squeezed my arms tighter around my chest as ...</td>\n",
       "      <td>0</td>\n",
       "      <td>0.0834848</td>\n",
       "      <td>0</td>\n",
       "      <td>0.00334936</td>\n",
       "      <td>0.078574</td>\n",
       "      <td>0</td>\n",
       "      <td>0</td>\n",
       "    </tr>\n",
       "    <tr>\n",
       "      <th>4</th>\n",
       "      <td>7558</td>\n",
       "      <td>Growing up in a small, insignificant suburb in...</td>\n",
       "      <td>0.00830832</td>\n",
       "      <td>0.00269371</td>\n",
       "      <td>0.105175</td>\n",
       "      <td>0.00553663</td>\n",
       "      <td>0.0280607</td>\n",
       "      <td>0</td>\n",
       "      <td>0</td>\n",
       "    </tr>\n",
       "  </tbody>\n",
       "</table>\n",
       "</div>"
      ],
      "text/plain": [
       "     id                                            content      family  \\\n",
       "0  7668  The Art of Living in a Boy House\\nStill sleepy...   0.0286212   \n",
       "1  7666  Making a Leader\\nThe auditorium is filling up....   0.0279414   \n",
       "2  6342  Second nature now kicked in. As I bounced the ...    0.021991   \n",
       "3  7565  I squeezed my arms tighter around my chest as ...           0   \n",
       "4  7558  Growing up in a small, insignificant suburb in...  0.00830832   \n",
       "\n",
       "        music   culture       sport   personal     science       career  \n",
       "0   0.0126327         0   0.0171051  0.0398075   0.0461729  0.000983955  \n",
       "1           0         0   0.0103799  0.0790994           0    0.0733329  \n",
       "2   0.0100422   0.02812    0.146277          0  0.00519798   0.00527239  \n",
       "3   0.0834848         0  0.00334936   0.078574           0            0  \n",
       "4  0.00269371  0.105175  0.00553663  0.0280607           0            0  "
      ]
     },
     "execution_count": 156,
     "metadata": {},
     "output_type": "execute_result"
    }
   ],
   "source": [
    "df_et.head()"
   ]
  },
  {
   "cell_type": "code",
   "execution_count": 168,
   "metadata": {
    "collapsed": false
   },
   "outputs": [
    {
     "data": {
      "text/plain": [
       "count      3177.000000\n",
       "mean      64952.482216\n",
       "std       59199.651561\n",
       "min        6342.000000\n",
       "25%       24725.000000\n",
       "50%       49304.000000\n",
       "75%       68479.000000\n",
       "max      238095.000000\n",
       "Name: id, dtype: float64"
      ]
     },
     "execution_count": 168,
     "metadata": {},
     "output_type": "execute_result"
    }
   ],
   "source": [
    "df_et['id'].astype(int).describe()"
   ]
  },
  {
   "cell_type": "code",
   "execution_count": 135,
   "metadata": {
    "collapsed": true
   },
   "outputs": [],
   "source": [
    "topics = df_et.columns[2:]"
   ]
  },
  {
   "cell_type": "markdown",
   "metadata": {},
   "source": [
    "#### Create a % dataframe from df_et"
   ]
  },
  {
   "cell_type": "code",
   "execution_count": 136,
   "metadata": {
    "collapsed": false
   },
   "outputs": [],
   "source": [
    "df_et_p = df_et.copy()\n",
    "for col in df_et.columns[2:]:\n",
    "    df_et_p[col] = df_et[col]/df_et.ix[:,2:].sum(axis=1)"
   ]
  },
  {
   "cell_type": "code",
   "execution_count": 137,
   "metadata": {
    "collapsed": false
   },
   "outputs": [
    {
     "data": {
      "text/html": [
       "<div>\n",
       "<table border=\"1\" class=\"dataframe\">\n",
       "  <thead>\n",
       "    <tr style=\"text-align: right;\">\n",
       "      <th></th>\n",
       "      <th>id</th>\n",
       "      <th>content</th>\n",
       "      <th>family</th>\n",
       "      <th>music</th>\n",
       "      <th>culture</th>\n",
       "      <th>sport</th>\n",
       "      <th>personal</th>\n",
       "      <th>science</th>\n",
       "      <th>career</th>\n",
       "    </tr>\n",
       "  </thead>\n",
       "  <tbody>\n",
       "    <tr>\n",
       "      <th>0</th>\n",
       "      <td>7668</td>\n",
       "      <td>The Art of Living in a Boy House\\nStill sleepy...</td>\n",
       "      <td>0.196948</td>\n",
       "      <td>0.0869284</td>\n",
       "      <td>0</td>\n",
       "      <td>0.117704</td>\n",
       "      <td>0.273923</td>\n",
       "      <td>0.317725</td>\n",
       "      <td>0.00677079</td>\n",
       "    </tr>\n",
       "    <tr>\n",
       "      <th>1</th>\n",
       "      <td>7666</td>\n",
       "      <td>Making a Leader\\nThe auditorium is filling up....</td>\n",
       "      <td>0.146479</td>\n",
       "      <td>0</td>\n",
       "      <td>0</td>\n",
       "      <td>0.054415</td>\n",
       "      <td>0.414668</td>\n",
       "      <td>0</td>\n",
       "      <td>0.384438</td>\n",
       "    </tr>\n",
       "    <tr>\n",
       "      <th>2</th>\n",
       "      <td>6342</td>\n",
       "      <td>Second nature now kicked in. As I bounced the ...</td>\n",
       "      <td>0.101387</td>\n",
       "      <td>0.0462988</td>\n",
       "      <td>0.129645</td>\n",
       "      <td>0.674396</td>\n",
       "      <td>0</td>\n",
       "      <td>0.0239648</td>\n",
       "      <td>0.0243079</td>\n",
       "    </tr>\n",
       "    <tr>\n",
       "      <th>3</th>\n",
       "      <td>7565</td>\n",
       "      <td>I squeezed my arms tighter around my chest as ...</td>\n",
       "      <td>0</td>\n",
       "      <td>0.50472</td>\n",
       "      <td>0</td>\n",
       "      <td>0.0202491</td>\n",
       "      <td>0.475031</td>\n",
       "      <td>0</td>\n",
       "      <td>0</td>\n",
       "    </tr>\n",
       "    <tr>\n",
       "      <th>4</th>\n",
       "      <td>7558</td>\n",
       "      <td>Growing up in a small, insignificant suburb in...</td>\n",
       "      <td>0.0554722</td>\n",
       "      <td>0.0179851</td>\n",
       "      <td>0.702224</td>\n",
       "      <td>0.0369664</td>\n",
       "      <td>0.187353</td>\n",
       "      <td>0</td>\n",
       "      <td>0</td>\n",
       "    </tr>\n",
       "  </tbody>\n",
       "</table>\n",
       "</div>"
      ],
      "text/plain": [
       "     id                                            content     family  \\\n",
       "0  7668  The Art of Living in a Boy House\\nStill sleepy...   0.196948   \n",
       "1  7666  Making a Leader\\nThe auditorium is filling up....   0.146479   \n",
       "2  6342  Second nature now kicked in. As I bounced the ...   0.101387   \n",
       "3  7565  I squeezed my arms tighter around my chest as ...          0   \n",
       "4  7558  Growing up in a small, insignificant suburb in...  0.0554722   \n",
       "\n",
       "       music   culture      sport  personal    science      career  \n",
       "0  0.0869284         0   0.117704  0.273923   0.317725  0.00677079  \n",
       "1          0         0   0.054415  0.414668          0    0.384438  \n",
       "2  0.0462988  0.129645   0.674396         0  0.0239648   0.0243079  \n",
       "3    0.50472         0  0.0202491  0.475031          0           0  \n",
       "4  0.0179851  0.702224  0.0369664  0.187353          0           0  "
      ]
     },
     "execution_count": 137,
     "metadata": {},
     "output_type": "execute_result"
    }
   ],
   "source": [
    "df_et_p.head()"
   ]
  },
  {
   "cell_type": "markdown",
   "metadata": {},
   "source": [
    "#### Topics vs Schools"
   ]
  },
  {
   "cell_type": "code",
   "execution_count": 138,
   "metadata": {
    "collapsed": false
   },
   "outputs": [],
   "source": [
    "df_merged = pd.merge(df, df_et_p, how='inner', left_on='id', right_on='id')"
   ]
  },
  {
   "cell_type": "code",
   "execution_count": 139,
   "metadata": {
    "collapsed": false,
    "scrolled": false
   },
   "outputs": [],
   "source": [
    "df_merged_cols = df_et_cols[:]\n",
    "df_merged_cols.append('top_school_final')"
   ]
  },
  {
   "cell_type": "code",
   "execution_count": 150,
   "metadata": {
    "collapsed": false
   },
   "outputs": [
    {
     "name": "stdout",
     "output_type": "stream",
     "text": [
      "family\n",
      "0.104296496293\n",
      "0.118991065869\n",
      "Ttest_indResult(statistic=-2.4363912375533352, pvalue=0.014889242343970221)\n",
      "music\n",
      "0.0758030363628\n",
      "0.0647409385014\n",
      "Ttest_indResult(statistic=1.9726334643073709, pvalue=0.048623969900588468)\n",
      "culture\n",
      "0.14253405632\n",
      "0.128969974857\n",
      "Ttest_indResult(statistic=2.067249444186043, pvalue=0.038791515606065058)\n",
      "sport\n",
      "0.103816305761\n",
      "0.0943291483597\n",
      "Ttest_indResult(statistic=1.4820752839555444, pvalue=0.13841950404948772)\n",
      "personal\n",
      "0.307105579349\n",
      "0.285164499326\n",
      "Ttest_indResult(statistic=2.5241583906787666, pvalue=0.011645941889761272)\n",
      "science\n",
      "0.138864364083\n",
      "0.121088411281\n",
      "Ttest_indResult(statistic=2.7855732404318396, pvalue=0.0053750270000469929)\n",
      "career\n",
      "0.127580161831\n",
      "0.186715961806\n",
      "Ttest_indResult(statistic=-8.4714314352056004, pvalue=3.6547489618556502e-17)\n"
     ]
    }
   ],
   "source": [
    "for t in topics:    \n",
    "    print t\n",
    "    accepts = df_merged[(df_merged['top_school_final']==1)][t]\n",
    "    rejects = df_merged[(df_merged['top_school_final']==0)][t]\n",
    "    print accepts.mean()\n",
    "    print rejects.mean()\n",
    "    print ttest_ind(accepts, rejects)"
   ]
  },
  {
   "cell_type": "code",
   "execution_count": 140,
   "metadata": {
    "collapsed": false
   },
   "outputs": [],
   "source": [
    "def printAcceptanceByTopic(df, low_thresh=0.01, mid_thresh=0.33):\n",
    "    for i,topic in enumerate(topics):\n",
    "        print topic.upper()\n",
    "        no_topic = df[df[topic]<low_thresh]['top_school_final']\n",
    "        low_topic = df[(df[topic]>low_thresh)&(df[topic]<=mid_thresh)]['top_school_final']\n",
    "        high_topic = df[df[topic]>mid_thresh]['top_school_final']\n",
    "        \n",
    "        print 'Least \"{}\"-oriented essays have an acceptance rate of {}% ({} entries)'.format(\n",
    "            topic, np.round((no_topic.mean()*100),1), sum(no_topic))\n",
    "        print 'Less \"{}\"-oriented essays have an acceptance rate of {}% ({} entries)'.format(\n",
    "            topic, np.round((low_topic.mean()*100),1), sum(low_topic))\n",
    "        print 'More \"{}\"-oriented essays have an acceptance rate of {}% ({} entries)'.format(\n",
    "            topic, np.round((high_topic.mean()*100),1), sum(high_topic))\n",
    "        print '\\n'"
   ]
  },
  {
   "cell_type": "code",
   "execution_count": 141,
   "metadata": {
    "collapsed": false,
    "scrolled": false
   },
   "outputs": [
    {
     "name": "stdout",
     "output_type": "stream",
     "text": [
      "FAMILY\n",
      "Least \"family\"-oriented essays have an acceptance rate of 35.9% (505 entries)\n",
      "Less \"family\"-oriented essays have an acceptance rate of 31.3% (396 entries)\n",
      "More \"family\"-oriented essays have an acceptance rate of 29.6% (150 entries)\n",
      "\n",
      "\n",
      "MUSIC\n",
      "Least \"music\"-oriented essays have an acceptance rate of 30.8% (643 entries)\n",
      "Less \"music\"-oriented essays have an acceptance rate of 38.1% (312 entries)\n",
      "More \"music\"-oriented essays have an acceptance rate of 35.7% (96 entries)\n",
      "\n",
      "\n",
      "CULTURE\n",
      "Least \"culture\"-oriented essays have an acceptance rate of 30.2% (393 entries)\n",
      "Less \"culture\"-oriented essays have an acceptance rate of 33.8% (426 entries)\n",
      "More \"culture\"-oriented essays have an acceptance rate of 37.5% (232 entries)\n",
      "\n",
      "\n",
      "SPORT\n",
      "Least \"sport\"-oriented essays have an acceptance rate of 30.8% (500 entries)\n",
      "Less \"sport\"-oriented essays have an acceptance rate of 35.6% (416 entries)\n",
      "More \"sport\"-oriented essays have an acceptance rate of 35.2% (135 entries)\n",
      "\n",
      "\n",
      "PERSONAL\n",
      "Least \"personal\"-oriented essays have an acceptance rate of 23.6% (122 entries)\n",
      "Less \"personal\"-oriented essays have an acceptance rate of 34.2% (345 entries)\n",
      "More \"personal\"-oriented essays have an acceptance rate of 35.4% (584 entries)\n",
      "\n",
      "\n",
      "SCIENCE\n",
      "Least \"science\"-oriented essays have an acceptance rate of 28.0% (360 entries)\n",
      "Less \"science\"-oriented essays have an acceptance rate of 37.3% (500 entries)\n",
      "More \"science\"-oriented essays have an acceptance rate of 34.6% (191 entries)\n",
      "\n",
      "\n",
      "CAREER\n",
      "Least \"career\"-oriented essays have an acceptance rate of 39.2% (398 entries)\n",
      "Less \"career\"-oriented essays have an acceptance rate of 34.9% (465 entries)\n",
      "More \"career\"-oriented essays have an acceptance rate of 22.7% (188 entries)\n",
      "\n",
      "\n"
     ]
    }
   ],
   "source": [
    "printAcceptanceByTopic(df_merged, low_thresh=0.03, mid_thresh=0.25)"
   ]
  },
  {
   "cell_type": "code",
   "execution_count": 232,
   "metadata": {
    "collapsed": false
   },
   "outputs": [],
   "source": [
    "topschools = df.columns[-27:-17].values"
   ]
  },
  {
   "cell_type": "code",
   "execution_count": 75,
   "metadata": {
    "collapsed": false
   },
   "outputs": [],
   "source": [
    "def printTopicsBySchool(df, school, thresh=0.5):\n",
    "    subdf = df[df[school]==1][topics]\n",
    "    print school.upper(), '({} admitted)'.format(len(subdf))\n",
    "    for topic in topics:\n",
    "        rate = len(subdf[subdf[topic]>thresh]) / float(len(subdf))\n",
    "        print '{}% wrote about {}'.format(np.round(rate*100), topic)"
   ]
  },
  {
   "cell_type": "code",
   "execution_count": 194,
   "metadata": {
    "collapsed": true
   },
   "outputs": [],
   "source": [
    "def topicsBySchool(df, school, thresh=0.5):\n",
    "    subdf = df[df[school]==1][topics]\n",
    "    rates = []\n",
    "    rates = map(lambda topic: len(subdf[subdf[topic]>thresh]) / float(len(subdf)) * 100 , topics)\n",
    "    return rates"
   ]
  },
  {
   "cell_type": "code",
   "execution_count": 275,
   "metadata": {
    "collapsed": false,
    "scrolled": false
   },
   "outputs": [
    {
     "data": {
      "text/html": [
       "<div>\n",
       "<table border=\"1\" class=\"dataframe\">\n",
       "  <thead>\n",
       "    <tr style=\"text-align: right;\">\n",
       "      <th></th>\n",
       "      <th>family</th>\n",
       "      <th>music</th>\n",
       "      <th>culture</th>\n",
       "      <th>sport</th>\n",
       "      <th>personal</th>\n",
       "      <th>science</th>\n",
       "      <th>career</th>\n",
       "    </tr>\n",
       "  </thead>\n",
       "  <tbody>\n",
       "    <tr>\n",
       "      <th>Harvard</th>\n",
       "      <td>19.736842</td>\n",
       "      <td>7.236842</td>\n",
       "      <td>23.026316</td>\n",
       "      <td>11.184211</td>\n",
       "      <td>51.315789</td>\n",
       "      <td>16.447368</td>\n",
       "      <td>18.421053</td>\n",
       "    </tr>\n",
       "    <tr>\n",
       "      <th>Yale</th>\n",
       "      <td>19.354839</td>\n",
       "      <td>7.258065</td>\n",
       "      <td>23.387097</td>\n",
       "      <td>10.483871</td>\n",
       "      <td>50.806452</td>\n",
       "      <td>19.354839</td>\n",
       "      <td>22.580645</td>\n",
       "    </tr>\n",
       "    <tr>\n",
       "      <th>Cornell</th>\n",
       "      <td>12.107623</td>\n",
       "      <td>8.520179</td>\n",
       "      <td>25.112108</td>\n",
       "      <td>16.591928</td>\n",
       "      <td>51.569507</td>\n",
       "      <td>21.076233</td>\n",
       "      <td>21.076233</td>\n",
       "    </tr>\n",
       "    <tr>\n",
       "      <th>Columbia</th>\n",
       "      <td>12.500000</td>\n",
       "      <td>10.156250</td>\n",
       "      <td>21.093750</td>\n",
       "      <td>12.500000</td>\n",
       "      <td>52.343750</td>\n",
       "      <td>25.000000</td>\n",
       "      <td>21.875000</td>\n",
       "    </tr>\n",
       "    <tr>\n",
       "      <th>UPenn</th>\n",
       "      <td>17.192982</td>\n",
       "      <td>9.473684</td>\n",
       "      <td>26.315789</td>\n",
       "      <td>9.473684</td>\n",
       "      <td>52.631579</td>\n",
       "      <td>15.087719</td>\n",
       "      <td>17.543860</td>\n",
       "    </tr>\n",
       "    <tr>\n",
       "      <th>Princeton</th>\n",
       "      <td>15.238095</td>\n",
       "      <td>12.380952</td>\n",
       "      <td>20.000000</td>\n",
       "      <td>14.285714</td>\n",
       "      <td>59.047619</td>\n",
       "      <td>15.238095</td>\n",
       "      <td>17.142857</td>\n",
       "    </tr>\n",
       "    <tr>\n",
       "      <th>Brown</th>\n",
       "      <td>20.143885</td>\n",
       "      <td>12.949640</td>\n",
       "      <td>24.460432</td>\n",
       "      <td>7.194245</td>\n",
       "      <td>62.589928</td>\n",
       "      <td>10.071942</td>\n",
       "      <td>20.863309</td>\n",
       "    </tr>\n",
       "    <tr>\n",
       "      <th>Dartmouth</th>\n",
       "      <td>18.269231</td>\n",
       "      <td>12.500000</td>\n",
       "      <td>20.192308</td>\n",
       "      <td>15.384615</td>\n",
       "      <td>49.038462</td>\n",
       "      <td>15.384615</td>\n",
       "      <td>19.230769</td>\n",
       "    </tr>\n",
       "    <tr>\n",
       "      <th>MIT</th>\n",
       "      <td>14.583333</td>\n",
       "      <td>8.333333</td>\n",
       "      <td>17.708333</td>\n",
       "      <td>13.541667</td>\n",
       "      <td>48.958333</td>\n",
       "      <td>27.083333</td>\n",
       "      <td>18.750000</td>\n",
       "    </tr>\n",
       "    <tr>\n",
       "      <th>Stanford</th>\n",
       "      <td>14.917127</td>\n",
       "      <td>8.287293</td>\n",
       "      <td>20.994475</td>\n",
       "      <td>14.364641</td>\n",
       "      <td>53.591160</td>\n",
       "      <td>22.099448</td>\n",
       "      <td>17.127072</td>\n",
       "    </tr>\n",
       "  </tbody>\n",
       "</table>\n",
       "</div>"
      ],
      "text/plain": [
       "              family      music    culture      sport   personal    science  \\\n",
       "Harvard    19.736842   7.236842  23.026316  11.184211  51.315789  16.447368   \n",
       "Yale       19.354839   7.258065  23.387097  10.483871  50.806452  19.354839   \n",
       "Cornell    12.107623   8.520179  25.112108  16.591928  51.569507  21.076233   \n",
       "Columbia   12.500000  10.156250  21.093750  12.500000  52.343750  25.000000   \n",
       "UPenn      17.192982   9.473684  26.315789   9.473684  52.631579  15.087719   \n",
       "Princeton  15.238095  12.380952  20.000000  14.285714  59.047619  15.238095   \n",
       "Brown      20.143885  12.949640  24.460432   7.194245  62.589928  10.071942   \n",
       "Dartmouth  18.269231  12.500000  20.192308  15.384615  49.038462  15.384615   \n",
       "MIT        14.583333   8.333333  17.708333  13.541667  48.958333  27.083333   \n",
       "Stanford   14.917127   8.287293  20.994475  14.364641  53.591160  22.099448   \n",
       "\n",
       "              career  \n",
       "Harvard    18.421053  \n",
       "Yale       22.580645  \n",
       "Cornell    21.076233  \n",
       "Columbia   21.875000  \n",
       "UPenn      17.543860  \n",
       "Princeton  17.142857  \n",
       "Brown      20.863309  \n",
       "Dartmouth  19.230769  \n",
       "MIT        18.750000  \n",
       "Stanford   17.127072  "
      ]
     },
     "execution_count": 275,
     "metadata": {},
     "output_type": "execute_result"
    }
   ],
   "source": [
    "topics_by_topschool = map(lambda school: topicsBySchool(df_merged, school, thresh=0.25), topschools)\n",
    "topschools_short = ['Harvard', 'Yale', 'Cornell', 'Columbia', 'UPenn', 'Princeton', 'Brown', 'Dartmouth', 'MIT', 'Stanford']\n",
    "df_topschools = pd.DataFrame(topics_by_topschool, columns=topics, index=schools_short)\n",
    "df_topschools"
   ]
  },
  {
   "cell_type": "code",
   "execution_count": 283,
   "metadata": {
    "collapsed": false
   },
   "outputs": [
    {
     "data": {
      "image/png": "[encoded data removed]",
      "text/plain": [
       "<matplotlib.figure.Figure at 0x12bb388d0>"
      ]
     },
     "metadata": {},
     "output_type": "display_data"
    }
   ],
   "source": [
    "fig = plt.figure(figsize=(16,12))\n",
    "for i,topic in enumerate(topics):\n",
    "    plt.subplot(3,3,i+1)\n",
    "    plt.barh(range(len(df_topicschool)), df_topicschool[topic], tick_label=df_topicschool.index, align='center')\n",
    "    plt.title(topic)"
   ]
  },
  {
   "cell_type": "markdown",
   "metadata": {},
   "source": [
    "Couple observations:\n",
    "- As expected, MIT was more likely than any school to write about Science.\n",
    "- In general, students tended to write least about Sports and Music. In particular, just 7% of Brown students wrote about Sport, while just 7% of Harvard and Yale students wrote about Music.\n",
    "- UPenn was more likely than any other school to write about culture, reflecting the vast international student body there."
   ]
  },
  {
   "cell_type": "markdown",
   "metadata": {},
   "source": [
    "#### ALL Schools"
   ]
  },
  {
   "cell_type": "code",
   "execution_count": 191,
   "metadata": {
    "collapsed": true
   },
   "outputs": [],
   "source": [
    "df_schools = pd.read_csv('../data/all_schools.csv', low_memory=False)\n",
    "df_schools.drop('Unnamed: 0', axis=1, inplace=True)\n",
    "df_et_schools = pd.merge(df_et, df_schools, left_on='id', right_on='id')"
   ]
  },
  {
   "cell_type": "code",
   "execution_count": 201,
   "metadata": {
    "collapsed": false
   },
   "outputs": [],
   "source": [
    "topics_by_school = map(lambda school: df_et_schools[df_et_schools[school]==1][topics].mean(), df_schools.columns)\n",
    "df_et_schools_T = pd.DataFrame(topics_by_school , columns=topics, index=df_schools.columns)\n",
    "df_et_schools_T.drop('id', inplace=True)"
   ]
  },
  {
   "cell_type": "code",
   "execution_count": 228,
   "metadata": {
    "collapsed": false
   },
   "outputs": [
    {
     "data": {
      "text/html": [
       "<div>\n",
       "<table border=\"1\" class=\"dataframe\">\n",
       "  <thead>\n",
       "    <tr style=\"text-align: right;\">\n",
       "      <th></th>\n",
       "      <th>family</th>\n",
       "      <th>music</th>\n",
       "      <th>culture</th>\n",
       "      <th>sport</th>\n",
       "      <th>personal</th>\n",
       "      <th>science</th>\n",
       "      <th>career</th>\n",
       "    </tr>\n",
       "  </thead>\n",
       "  <tbody>\n",
       "    <tr>\n",
       "      <th>University of Connecticut (Storrs, CT)_final</th>\n",
       "      <td>0.017499</td>\n",
       "      <td>0.009062</td>\n",
       "      <td>0.017981</td>\n",
       "      <td>0.015351</td>\n",
       "      <td>0.058542</td>\n",
       "      <td>0.013474</td>\n",
       "      <td>0.025738</td>\n",
       "    </tr>\n",
       "    <tr>\n",
       "      <th>Carnegie Mellon University (Pittsburgh, PA)_final</th>\n",
       "      <td>0.011490</td>\n",
       "      <td>0.019629</td>\n",
       "      <td>0.023658</td>\n",
       "      <td>0.020052</td>\n",
       "      <td>0.047828</td>\n",
       "      <td>0.031465</td>\n",
       "      <td>0.022866</td>\n",
       "    </tr>\n",
       "    <tr>\n",
       "      <th>University of Massachusetts - Amherst (Amherst, MA)_final</th>\n",
       "      <td>0.014651</td>\n",
       "      <td>0.009550</td>\n",
       "      <td>0.023709</td>\n",
       "      <td>0.019276</td>\n",
       "      <td>0.053931</td>\n",
       "      <td>0.018456</td>\n",
       "      <td>0.030313</td>\n",
       "    </tr>\n",
       "    <tr>\n",
       "      <th>George Washington University (Washington, DC)_final</th>\n",
       "      <td>0.019252</td>\n",
       "      <td>0.009903</td>\n",
       "      <td>0.034077</td>\n",
       "      <td>0.017692</td>\n",
       "      <td>0.046332</td>\n",
       "      <td>0.019400</td>\n",
       "      <td>0.025658</td>\n",
       "    </tr>\n",
       "    <tr>\n",
       "      <th>Williams College (Williamstown, MA)_final</th>\n",
       "      <td>0.028045</td>\n",
       "      <td>0.008686</td>\n",
       "      <td>0.032239</td>\n",
       "      <td>0.014391</td>\n",
       "      <td>0.050503</td>\n",
       "      <td>0.016291</td>\n",
       "      <td>0.022926</td>\n",
       "    </tr>\n",
       "  </tbody>\n",
       "</table>\n",
       "</div>"
      ],
      "text/plain": [
       "                                                      family     music  \\\n",
       "University of Connecticut (Storrs, CT)_final        0.017499  0.009062   \n",
       "Carnegie Mellon University (Pittsburgh, PA)_final   0.011490  0.019629   \n",
       "University of Massachusetts - Amherst (Amherst,...  0.014651  0.009550   \n",
       "George Washington University (Washington, DC)_f...  0.019252  0.009903   \n",
       "Williams College (Williamstown, MA)_final           0.028045  0.008686   \n",
       "\n",
       "                                                     culture     sport  \\\n",
       "University of Connecticut (Storrs, CT)_final        0.017981  0.015351   \n",
       "Carnegie Mellon University (Pittsburgh, PA)_final   0.023658  0.020052   \n",
       "University of Massachusetts - Amherst (Amherst,...  0.023709  0.019276   \n",
       "George Washington University (Washington, DC)_f...  0.034077  0.017692   \n",
       "Williams College (Williamstown, MA)_final           0.032239  0.014391   \n",
       "\n",
       "                                                    personal   science  \\\n",
       "University of Connecticut (Storrs, CT)_final        0.058542  0.013474   \n",
       "Carnegie Mellon University (Pittsburgh, PA)_final   0.047828  0.031465   \n",
       "University of Massachusetts - Amherst (Amherst,...  0.053931  0.018456   \n",
       "George Washington University (Washington, DC)_f...  0.046332  0.019400   \n",
       "Williams College (Williamstown, MA)_final           0.050503  0.016291   \n",
       "\n",
       "                                                      career  \n",
       "University of Connecticut (Storrs, CT)_final        0.025738  \n",
       "Carnegie Mellon University (Pittsburgh, PA)_final   0.022866  \n",
       "University of Massachusetts - Amherst (Amherst,...  0.030313  \n",
       "George Washington University (Washington, DC)_f...  0.025658  \n",
       "Williams College (Williamstown, MA)_final           0.022926  "
      ]
     },
     "execution_count": 228,
     "metadata": {},
     "output_type": "execute_result"
    }
   ],
   "source": [
    "df_et_schools_T.head()"
   ]
  },
  {
   "cell_type": "markdown",
   "metadata": {},
   "source": [
    "### Plot 2-D Representation of Topics"
   ]
  },
  {
   "cell_type": "code",
   "execution_count": 288,
   "metadata": {
    "collapsed": false
   },
   "outputs": [
    {
     "data": {
      "text/plain": [
       "<matplotlib.collections.PathCollection at 0x133e32a50>"
      ]
     },
     "execution_count": 288,
     "metadata": {},
     "output_type": "execute_result"
    },
    {
     "data": {
      "image/png": "[encoded data removed]",
      "text/plain": [
       "<matplotlib.figure.Figure at 0x1251fc9d0>"
      ]
     },
     "metadata": {},
     "output_type": "display_data"
    }
   ],
   "source": [
    "pca = PCA(n_components=2)\n",
    "plt.figure(figsize=(8,6))\n",
    "pca2_schools = pca.fit_transform(df_et_schools_T)\n",
    "plt.scatter(pca2_schools[:,0], pca2_schools[:,1], alpha=0.6, cmap='bwr')"
   ]
  },
  {
   "cell_type": "code",
   "execution_count": 296,
   "metadata": {
    "collapsed": false
   },
   "outputs": [
    {
     "name": "stdout",
     "output_type": "stream",
     "text": [
      "The best K is 2, with a silhouette score of 0.251662855988.\n",
      "[(0.25166285598783711, 2), (0.18212841216708051, 3), (0.17111713467411208, 4), (0.1717198998053906, 5), (0.17769088364952562, 6), (0.15402430515981072, 7)]\n"
     ]
    }
   ],
   "source": [
    "reload(ea)\n",
    "ct = ea.ClusterTools()\n",
    "ct.findBestK(df_et_schools_T, max_k=7)"
   ]
  },
  {
   "cell_type": "code",
   "execution_count": 335,
   "metadata": {
    "collapsed": false
   },
   "outputs": [
    {
     "data": {
      "text/plain": [
       "<matplotlib.collections.PathCollection at 0x131135510>"
      ]
     },
     "execution_count": 335,
     "metadata": {},
     "output_type": "execute_result"
    },
    {
     "data": {
      "image/png": "[encoded data removed]",
      "text/plain": [
       "<matplotlib.figure.Figure at 0x12b518650>"
      ]
     },
     "metadata": {},
     "output_type": "display_data"
    }
   ],
   "source": [
    "km = KMeans(n_clusters=2)\n",
    "km.fit(df_et_schools_T)\n",
    "pca = PCA(n_components=2)\n",
    "plt.figure(figsize=(8,6))\n",
    "pca2_schools = pca.fit_transform(df_et_schools_T)\n",
    "plt.scatter(pca2_schools[:,0], pca2_schools[:,1], c=km.labels_, cmap='bwr')"
   ]
  },
  {
   "cell_type": "code",
   "execution_count": 336,
   "metadata": {
    "collapsed": false,
    "scrolled": true
   },
   "outputs": [
    {
     "data": {
      "text/plain": [
       "<matplotlib.collections.PathCollection at 0x1310d2250>"
      ]
     },
     "execution_count": 336,
     "metadata": {},
     "output_type": "execute_result"
    },
    {
     "data": {
      "image/png": "[encoded data removed]",
      "text/plain": [
       "<matplotlib.figure.Figure at 0x130c07250>"
      ]
     },
     "metadata": {},
     "output_type": "display_data"
    }
   ],
   "source": [
    "km = KMeans(n_clusters=3)\n",
    "km.fit(df_et_schools_T)\n",
    "pca = PCA(n_components=2)\n",
    "plt.figure(figsize=(8,6))\n",
    "pca2_schools = pca.fit_transform(df_et_schools_T)\n",
    "plt.scatter(pca2_schools[:,0], pca2_schools[:,1], c=km.labels_, cmap='bwr')"
   ]
  },
  {
   "cell_type": "code",
   "execution_count": 337,
   "metadata": {
    "collapsed": true
   },
   "outputs": [],
   "source": [
    "df_et_schools_T['cluster'] = km.labels_"
   ]
  },
  {
   "cell_type": "code",
   "execution_count": 345,
   "metadata": {
    "collapsed": false
   },
   "outputs": [
    {
     "data": {
      "text/plain": [
       "['Arizona State University (Tempe, AZ)_final',\n",
       " 'Boston College (Chestnut Hill, MA)_final',\n",
       " 'California Institute of Technology (Pasadena, CA)_final',\n",
       " 'Carnegie Mellon University (Pittsburgh, PA)_final',\n",
       " 'Case Western Reserve University (Cleveland, OH)_final',\n",
       " 'Colgate University (Hamilton, NY)_final',\n",
       " 'Columbia University (New York, NY)_final',\n",
       " 'Cornell University (Ithaca, NY)_final',\n",
       " 'Dartmouth College (Hanover, NH)_final',\n",
       " 'Duke University (Durham, NC)_final',\n",
       " 'Emory University (Atlanta, GA)_final',\n",
       " 'Georgia Institute of Technology (Atlanta, GA)_final',\n",
       " 'Harvard University (Cambridge, MA)_final',\n",
       " 'Indiana University - Bloomington (Bloomington, IN)_final',\n",
       " 'Lehigh University (Bethlehem, PA)_final',\n",
       " 'Massachusetts Institute of Technology (Cambridge, MA)_final',\n",
       " 'Miami University - Oxford (Oxford, OH)_final',\n",
       " 'Northwestern University (Evanston, IL)_final',\n",
       " 'Pennsylvania State University - University Park (University Park, PA)_final',\n",
       " 'Princeton University (Princeton, NJ)_final',\n",
       " 'Purdue University (West Lafayette, IN)_final',\n",
       " 'Rensselaer Polytechnic Institute (Troy, NY)_final',\n",
       " 'Rice University (Houston, TX)_final',\n",
       " 'Rutgers, State University of New Jersey - New Brunswick (Piscataway, NJ)_final',\n",
       " 'Santa Clara University (Santa Clara, CA)_final',\n",
       " 'Stanford University (Stanford, CA)_final',\n",
       " 'University of California - Berkeley (Berkeley, CA)_final',\n",
       " 'University of California - Los Angeles (Los Angeles, CA)_final',\n",
       " 'University of Illinois - Urbana-Champaign (Champaign, IL)_final',\n",
       " 'University of Maryland - College Park (College Park, MD)_final',\n",
       " 'University of Michigan - Ann Arbor (Ann Arbor, MI)_final',\n",
       " 'University of Minnesota - Twin Cities (Minneapolis, MN)_final',\n",
       " 'University of Notre Dame (Notre Dame, IN)_final',\n",
       " 'University of Pennsylvania (Philadelphia, PA)_final',\n",
       " 'University of Pittsburgh (Pittsburgh, PA)_final',\n",
       " 'University of Rochester (Rochester, NY)_final',\n",
       " 'University of Southern California (Los Angeles, CA)_final',\n",
       " 'University of Virginia (Charlottesville, VA)_final',\n",
       " 'University of Wisconsin - Madison (Madison, WI)_final',\n",
       " 'Villanova University (Villanova, PA)_final',\n",
       " 'Wake Forest University (Winston-Salem, NC)_final',\n",
       " 'Washington University in St. Louis (St. Louis, MO)_final',\n",
       " 'Yale University (New Haven, CT)_final']"
      ]
     },
     "execution_count": 345,
     "metadata": {},
     "output_type": "execute_result"
    }
   ],
   "source": [
    "sorted(df_et_schools_T[df_et_schools_T['cluster']==2].index)"
   ]
  },
  {
   "cell_type": "code",
   "execution_count": 312,
   "metadata": {
    "collapsed": false
   },
   "outputs": [],
   "source": [
    "# pca = PCA(n_components=3)\n",
    "# fig = plt.figure(figsize=(18,6))\n",
    "# pca3_schools = pca.fit_transform(df_et_schools_T)\n",
    "# for i,pair in enumerate(combinations(range(pca3_schools.shape[1]), 2)):\n",
    "#     fig.add_subplot(1, pca3_schools.shape[1], i+1)\n",
    "#     plt.scatter(pca3_schools[:,pair[0]], pca3_schools[:,pair[1]], alpha=0.6, cmap='bwr')\n",
    "#     plt.title('Components {} and {}'.format(pair[0],pair[1]))"
   ]
  },
  {
   "cell_type": "markdown",
   "metadata": {},
   "source": [
    "### Calculate Weights for Graph"
   ]
  },
  {
   "cell_type": "code",
   "execution_count": 243,
   "metadata": {
    "collapsed": false
   },
   "outputs": [],
   "source": [
    "all_schools = df_et_schools_T.index\n",
    "combos = list(combinations(all_schools, 2))"
   ]
  },
  {
   "cell_type": "code",
   "execution_count": 252,
   "metadata": {
    "collapsed": false
   },
   "outputs": [],
   "source": [
    "school_dist = pairwise_distances(df_et_schools_T)\n",
    "school_dict = {school:i for i,school in enumerate(all_schools)}\n",
    "school_weights = []\n",
    "for s1, s2 in combos:\n",
    "    school_weights.append((s1, s2, school_dist[school_dict[s1]][school_dict[s2]]))"
   ]
  },
  {
   "cell_type": "code",
   "execution_count": 261,
   "metadata": {
    "collapsed": false
   },
   "outputs": [
    {
     "data": {
      "text/html": [
       "<div>\n",
       "<table border=\"1\" class=\"dataframe\">\n",
       "  <thead>\n",
       "    <tr style=\"text-align: right;\">\n",
       "      <th></th>\n",
       "      <th>s1</th>\n",
       "      <th>s2</th>\n",
       "      <th>weight</th>\n",
       "    </tr>\n",
       "  </thead>\n",
       "  <tbody>\n",
       "    <tr>\n",
       "      <th>0</th>\n",
       "      <td>University of Connecticut (Storrs, CT)_final</td>\n",
       "      <td>Carnegie Mellon University (Pittsburgh, PA)_final</td>\n",
       "      <td>0.025472</td>\n",
       "    </tr>\n",
       "    <tr>\n",
       "      <th>1</th>\n",
       "      <td>University of Connecticut (Storrs, CT)_final</td>\n",
       "      <td>University of Massachusetts - Amherst (Amherst...</td>\n",
       "      <td>0.011117</td>\n",
       "    </tr>\n",
       "    <tr>\n",
       "      <th>2</th>\n",
       "      <td>University of Connecticut (Storrs, CT)_final</td>\n",
       "      <td>George Washington University (Washington, DC)_...</td>\n",
       "      <td>0.021273</td>\n",
       "    </tr>\n",
       "    <tr>\n",
       "      <th>3</th>\n",
       "      <td>University of Connecticut (Storrs, CT)_final</td>\n",
       "      <td>Williams College (Williamstown, MA)_final</td>\n",
       "      <td>0.019901</td>\n",
       "    </tr>\n",
       "    <tr>\n",
       "      <th>4</th>\n",
       "      <td>University of Connecticut (Storrs, CT)_final</td>\n",
       "      <td>University of Florida (Gainesville, FL)_final</td>\n",
       "      <td>0.025360</td>\n",
       "    </tr>\n",
       "  </tbody>\n",
       "</table>\n",
       "</div>"
      ],
      "text/plain": [
       "                                             s1  \\\n",
       "0  University of Connecticut (Storrs, CT)_final   \n",
       "1  University of Connecticut (Storrs, CT)_final   \n",
       "2  University of Connecticut (Storrs, CT)_final   \n",
       "3  University of Connecticut (Storrs, CT)_final   \n",
       "4  University of Connecticut (Storrs, CT)_final   \n",
       "\n",
       "                                                  s2    weight  \n",
       "0  Carnegie Mellon University (Pittsburgh, PA)_final  0.025472  \n",
       "1  University of Massachusetts - Amherst (Amherst...  0.011117  \n",
       "2  George Washington University (Washington, DC)_...  0.021273  \n",
       "3          Williams College (Williamstown, MA)_final  0.019901  \n",
       "4      University of Florida (Gainesville, FL)_final  0.025360  "
      ]
     },
     "execution_count": 261,
     "metadata": {},
     "output_type": "execute_result"
    }
   ],
   "source": [
    "df_graph = pd.DataFrame(school_weights, columns=['s1','s2','weight'])\n",
    "df_graph.head()"
   ]
  },
  {
   "cell_type": "code",
   "execution_count": 266,
   "metadata": {
    "collapsed": false
   },
   "outputs": [
    {
     "data": {
      "image/png": "[encoded data removed]",
      "text/plain": [
       "<matplotlib.figure.Figure at 0x1355a5490>"
      ]
     },
     "metadata": {},
     "output_type": "display_data"
    }
   ],
   "source": [
    "_=plt.boxplot(df_graph['weight'])"
   ]
  },
  {
   "cell_type": "code",
   "execution_count": 274,
   "metadata": {
    "collapsed": false
   },
   "outputs": [
    {
     "data": {
      "text/plain": [
       "975"
      ]
     },
     "execution_count": 274,
     "metadata": {},
     "output_type": "execute_result"
    }
   ],
   "source": [
    "df_graph2 = df_graph[df_graph['weight']>0.03].copy()\n",
    "len(df_graph2)"
   ]
  },
  {
   "cell_type": "code",
   "execution_count": 276,
   "metadata": {
    "collapsed": false
   },
   "outputs": [],
   "source": [
    "df_graph2.to_csv('../data/graph_weights.tsv',sep='\\t')"
   ]
  },
  {
   "cell_type": "markdown",
   "metadata": {},
   "source": [
    "#### Distribution of Topics"
   ]
  },
  {
   "cell_type": "code",
   "execution_count": 280,
   "metadata": {
    "collapsed": false
   },
   "outputs": [],
   "source": [
    "# _=pd.scatter_matrix(df_et_schools_T.astype(float), figsize=(15,12))"
   ]
  },
  {
   "cell_type": "markdown",
   "metadata": {},
   "source": [
    "### Export Tfidf Matrix (for recommending essays)"
   ]
  },
  {
   "cell_type": "code",
   "execution_count": 124,
   "metadata": {
    "collapsed": false
   },
   "outputs": [],
   "source": [
    "with open('../data/tfidf_mat.pkl', 'w') as f:\n",
    "    pickle.dump(mat, f)"
   ]
  },
  {
   "cell_type": "markdown",
   "metadata": {},
   "source": [
    "### Experimenting with Latent Dirichlet Allocation (LDA)"
   ]
  },
  {
   "cell_type": "code",
   "execution_count": 253,
   "metadata": {
    "collapsed": true
   },
   "outputs": [],
   "source": [
    "count_vec = CountVectorizer(stop_words='english', max_df=0.95, min_df=2, max_features=10000)\n",
    "count_mat = count_vec.fit_transform(X)"
   ]
  },
  {
   "cell_type": "code",
   "execution_count": 254,
   "metadata": {
    "collapsed": false
   },
   "outputs": [
    {
     "data": {
      "text/plain": [
       "<3177x10000 sparse matrix of type '<type 'numpy.int64'>'\n",
       "\twith 582653 stored elements in Compressed Sparse Row format>"
      ]
     },
     "execution_count": 254,
     "metadata": {},
     "output_type": "execute_result"
    }
   ],
   "source": [
    "count_mat"
   ]
  },
  {
   "cell_type": "code",
   "execution_count": 289,
   "metadata": {
    "collapsed": false
   },
   "outputs": [
    {
     "data": {
      "text/plain": [
       "LatentDirichletAllocation(batch_size=128, doc_topic_prior=None,\n",
       "             evaluate_every=-1, learning_decay=0.7,\n",
       "             learning_method='online', learning_offset=10.0,\n",
       "             max_doc_update_iter=100, max_iter=10, mean_change_tol=0.001,\n",
       "             n_jobs=1, n_topics=5, perp_tol=0.1, random_state=None,\n",
       "             topic_word_prior=None, total_samples=1000000.0, verbose=0)"
      ]
     },
     "execution_count": 289,
     "metadata": {},
     "output_type": "execute_result"
    }
   ],
   "source": [
    "lda = LatentDirichletAllocation(n_topics=7, max_iter=50)\n",
    "lda.fit(count_mat)"
   ]
  },
  {
   "cell_type": "code",
   "execution_count": 290,
   "metadata": {
    "collapsed": false
   },
   "outputs": [],
   "source": [
    "W_lda = lda.transform(count_mat)"
   ]
  },
  {
   "cell_type": "code",
   "execution_count": 291,
   "metadata": {
    "collapsed": false
   },
   "outputs": [
    {
     "data": {
      "text/plain": [
       "[array([u'learn', u'world', u'cultur', u'differ', u'experi', u'research',\n",
       "        u'new', u'student', u'scienc', u'american', u'school',\n",
       "        u'understand', u'music', u'english', u'use', u'art', u'languag',\n",
       "        u'studi', u'passion', u'creat', u'class', u'comput', u'program',\n",
       "        u'thi', u'mani', u'allow', u'develop', u'design', u'speak', u'like',\n",
       "        u'commun', u'question', u'engin', u'chines', u'knowledg', u'human',\n",
       "        u'explor', u'peopl', u'work', u'idea'], \n",
       "       dtype='<U17'),\n",
       " array([u'world', u'like', u'time', u'life', u'day', u'feel', u'new',\n",
       "        u'peopl', u'way', u'everi', u'make', u'place', u'know', u'book',\n",
       "        u'read', u'look', u'want', u'im', u'love', u'home', u'ive',\n",
       "        u'alway', u'stori', u'someth', u'live', u'think', u'year', u'thing',\n",
       "        u'dont', u'write', u'mind', u'friend', u'water', u'littl', u'old',\n",
       "        u'word', u'long', u'creat', u'thought', u'thi'], \n",
       "       dtype='<U17'),\n",
       " array([u'life', u'school', u'help', u'work', u'want', u'famili', u'year',\n",
       "        u'time', u'parent', u'learn', u'peopl', u'live', u'make', u'mother',\n",
       "        u'like', u'father', u'day', u'alway', u'mani', u'know', u'home',\n",
       "        u'world', u'becom', u'person', u'love', u'realiz', u'abl', u'educ',\n",
       "        u'experi', u'way', u'high', u'new', u'differ', u'thi', u'children',\n",
       "        u'need', u'everi', u'thing', u'colleg', u'chang'], \n",
       "       dtype='<U17'),\n",
       " array([u'school', u'year', u'time', u'work', u'high', u'learn', u'day',\n",
       "        u'make', u'team', u'life', u'class', u'like', u'start', u'person',\n",
       "        u'want', u'help', u'play', u'everi', u'peopl', u'friend',\n",
       "        u'student', u'realiz', u'felt', u'know', u'grade', u'thi', u'alway',\n",
       "        u'thought', u'didnt', u'someth', u'new', u'tri', u'best', u'way',\n",
       "        u'teacher', u'becom', u'feel', u'mani', u'hard', u'end'], \n",
       "       dtype='<U17'),\n",
       " array([u'time', u'music', u'room', u'day', u'play', u'look', u'like',\n",
       "        u'hand', u'feel', u'eye', u'moment', u'everi', u'face', u'head',\n",
       "        u'night', u'mom', u'away', u'walk', u'felt', u'dad', u'love',\n",
       "        u'turn', u'know', u'sound', u'smile', u'home', u'come', u'old',\n",
       "        u'mother', u'hair', u'song', u'word', u'year', u'life', u'im',\n",
       "        u'left', u'ask', u'tri', u'rememb', u'girl'], \n",
       "       dtype='<U17')]"
      ]
     },
     "execution_count": 291,
     "metadata": {},
     "output_type": "execute_result"
    }
   ],
   "source": [
    "H_lda = lda.components_\n",
    "tm.showTopWords(H_lda, count_vec, 40)"
   ]
  }
 ],
 "metadata": {
  "kernelspec": {
   "display_name": "Python 2",
   "language": "python",
   "name": "python2"
  },
  "language_info": {
   "codemirror_mode": {
    "name": "ipython",
    "version": 2
   },
   "file_extension": ".py",
   "mimetype": "text/x-python",
   "name": "python",
   "nbconvert_exporter": "python",
   "pygments_lexer": "ipython2",
   "version": "2.7.12"
  }
 },
 "nbformat": 4,
 "nbformat_minor": 0
}
