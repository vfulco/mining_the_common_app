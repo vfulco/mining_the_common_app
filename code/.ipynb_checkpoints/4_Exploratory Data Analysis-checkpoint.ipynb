{
 "cells": [
  {
   "cell_type": "code",
   "execution_count": 1,
   "metadata": {
    "collapsed": true
   },
   "outputs": [],
   "source": [
    "import pandas as pd\n",
    "import numpy as np\n",
    "import matplotlib.pyplot as plt\n",
    "import seaborn as sns\n",
    "import re\n",
    "from collections import Counter, defaultdict\n",
    "from sklearn.cross_validation import train_test_split\n",
    "import exploratory_analysis as ea\n",
    "%matplotlib inline"
   ]
  },
  {
   "cell_type": "code",
   "execution_count": 4,
   "metadata": {
    "collapsed": false
   },
   "outputs": [],
   "source": [
    "df = pd.read_csv('../data/train.csv', low_memory=False)\n",
    "y = df.pop('top_school_final')"
   ]
  },
  {
   "cell_type": "code",
   "execution_count": 5,
   "metadata": {
    "collapsed": false
   },
   "outputs": [],
   "source": [
    "df, df_valid, y, y_valid = train_test_split(df, y, random_state=123)"
   ]
  },
  {
   "cell_type": "markdown",
   "metadata": {},
   "source": [
    "### Clean SAT"
   ]
  },
  {
   "cell_type": "code",
   "execution_count": 6,
   "metadata": {
    "collapsed": false,
    "scrolled": false
   },
   "outputs": [
    {
     "data": {
      "text/plain": [
       "<matplotlib.axes._subplots.AxesSubplot at 0x117b71fd0>"
      ]
     },
     "execution_count": 6,
     "metadata": {},
     "output_type": "execute_result"
    },
    {
     "data": {
      "image/png": "[encoded data removed]",
      "text/plain": [
       "<matplotlib.figure.Figure at 0x117b71b50>"
      ]
     },
     "metadata": {},
     "output_type": "display_data"
    }
   ],
   "source": [
    "sat_scores = df['Highest Composite SAT Score']\n",
    "sat_scores.hist()"
   ]
  },
  {
   "cell_type": "code",
   "execution_count": 7,
   "metadata": {
    "collapsed": false
   },
   "outputs": [
    {
     "data": {
      "text/plain": [
       "<matplotlib.axes._subplots.AxesSubplot at 0x117b71ed0>"
      ]
     },
     "execution_count": 7,
     "metadata": {},
     "output_type": "execute_result"
    },
    {
     "data": {
      "image/png": "[encoded data removed]",
      "text/plain": [
       "<matplotlib.figure.Figure at 0x1188a4cd0>"
      ]
     },
     "metadata": {},
     "output_type": "display_data"
    }
   ],
   "source": [
    "sat_scores[sat_scores<=2400].hist()"
   ]
  },
  {
   "cell_type": "markdown",
   "metadata": {},
   "source": [
    "There's a a fair amount of nonsensical scores. Let's set all scores that are 0, under 600 (min score), or above 2400 (max score) to None."
   ]
  },
  {
   "cell_type": "code",
   "execution_count": 8,
   "metadata": {
    "collapsed": true
   },
   "outputs": [],
   "source": [
    "df['Highest Composite SAT Score'] = df['Highest Composite SAT Score'].apply(lambda x: None if x>2400 or x<600 else x)"
   ]
  },
  {
   "cell_type": "markdown",
   "metadata": {},
   "source": [
    "We have to be careful about SAT scores here:\n",
    "- In 2005, the maximum score was raised to 2400 (from 1600).\n",
    "- In 2016, the maximum score returned to 1600."
   ]
  },
  {
   "cell_type": "markdown",
   "metadata": {},
   "source": [
    "We shouldn't have to worry too much about the 2016 test-takers, since they would have only had a few months to take it (from the score change until the date of this analysis), and would not have been accepted to a college in that time frame, let alone applied to any. We may, however, have to scale the scores of pre-2005 test-takers from a 1600 to 2400 point scale. Let's see if there are outliers/weird data."
   ]
  },
  {
   "cell_type": "markdown",
   "metadata": {},
   "source": [
    "Let's first look at the distribution of scores where Undergradate Graduation Year < 2010, bc we assume people take SATs in their junior year of high school, i.e. take SAT in 2005, graduate HS in 2006, graduate college in 2010."
   ]
  },
  {
   "cell_type": "code",
   "execution_count": 9,
   "metadata": {
    "collapsed": false,
    "scrolled": true
   },
   "outputs": [
    {
     "data": {
      "image/png": "[encoded data removed]",
      "text/plain": [
       "<matplotlib.figure.Figure at 0x11871d2d0>"
      ]
     },
     "metadata": {},
     "output_type": "display_data"
    }
   ],
   "source": [
    "ea.histogramSAT(df, 2010, 'before')"
   ]
  },
  {
   "cell_type": "code",
   "execution_count": 10,
   "metadata": {
    "collapsed": false,
    "scrolled": true
   },
   "outputs": [
    {
     "data": {
      "image/png": "[encoded data removed]",
      "text/plain": [
       "<matplotlib.figure.Figure at 0x11529c2d0>"
      ]
     },
     "metadata": {},
     "output_type": "display_data"
    }
   ],
   "source": [
    "ea.histogramSAT(df, 2009, 'after')"
   ]
  },
  {
   "cell_type": "markdown",
   "metadata": {},
   "source": [
    "Let's see if can get more accurate scores by looking at the 'Highest SAT Scores' column. "
   ]
  },
  {
   "cell_type": "markdown",
   "metadata": {},
   "source": [
    "There is no standard format in which these scores are listed. They are all separated by whitespace (\\n), but the number of scores are inconsistent- some have 2, some have 3, some have 4. We'll have to create some detailed rule that parses through the text to determine what the person's total score is."
   ]
  },
  {
   "cell_type": "markdown",
   "metadata": {},
   "source": [
    "Let's create a new column called 'SAT_total_temp' and store our parsed values there."
   ]
  },
  {
   "cell_type": "code",
   "execution_count": 11,
   "metadata": {
    "collapsed": false,
    "scrolled": false
   },
   "outputs": [],
   "source": [
    "df['SAT_total_temp'] = df['Highest SAT Scores'].apply(lambda x: ea.parseSAT(x) if type(x)==str else x)"
   ]
  },
  {
   "cell_type": "markdown",
   "metadata": {},
   "source": [
    "Note that our parseSAT function couldn't parse out the rows with irregular number of scores, but that doesn't matter, since most of them only have one score (which not only isn't helpful, most of them are 1's - nonsense). A very small minority have detailed scores but we can just impute something for them later. Let's take a look at the distribution again."
   ]
  },
  {
   "cell_type": "code",
   "execution_count": 12,
   "metadata": {
    "collapsed": false
   },
   "outputs": [
    {
     "data": {
      "text/plain": [
       "<matplotlib.axes._subplots.AxesSubplot at 0x117e45310>"
      ]
     },
     "execution_count": 12,
     "metadata": {},
     "output_type": "execute_result"
    },
    {
     "data": {
      "image/png": "[encoded data removed]",
      "text/plain": [
       "<matplotlib.figure.Figure at 0x117e3b4d0>"
      ]
     },
     "metadata": {},
     "output_type": "display_data"
    }
   ],
   "source": [
    "df['SAT_total_temp'].hist()"
   ]
  },
  {
   "cell_type": "markdown",
   "metadata": {},
   "source": [
    "From inspection, it looks like all scores < 1600 are on a 2400-point scale (almost all have three scores in the 'Highest SAT Scores box'). No point conversion is needed. While we're not sure which score is correct, we can just take the larger of the two columns."
   ]
  },
  {
   "cell_type": "code",
   "execution_count": 13,
   "metadata": {
    "collapsed": true
   },
   "outputs": [],
   "source": [
    "reload(ea)\n",
    "ea.finalizeSAT(df)"
   ]
  },
  {
   "cell_type": "code",
   "execution_count": 14,
   "metadata": {
    "collapsed": false
   },
   "outputs": [
    {
     "data": {
      "text/plain": [
       "count    3216.000000\n",
       "mean     1980.028762\n",
       "std       323.317574\n",
       "min       600.000000\n",
       "25%      1810.000000\n",
       "50%      2050.000000\n",
       "75%      2220.000000\n",
       "max      2400.000000\n",
       "Name: SAT_total_final, dtype: float64"
      ]
     },
     "execution_count": 14,
     "metadata": {},
     "output_type": "execute_result"
    }
   ],
   "source": [
    "df['SAT_total_final'].describe()"
   ]
  },
  {
   "cell_type": "code",
   "execution_count": 15,
   "metadata": {
    "collapsed": false
   },
   "outputs": [
    {
     "data": {
      "text/plain": [
       "<matplotlib.axes._subplots.AxesSubplot at 0x118585e90>"
      ]
     },
     "execution_count": 15,
     "metadata": {},
     "output_type": "execute_result"
    },
    {
     "data": {
      "image/png": "[encoded data removed]",
      "text/plain": [
       "<matplotlib.figure.Figure at 0x1176a0890>"
      ]
     },
     "metadata": {},
     "output_type": "display_data"
    }
   ],
   "source": [
    "df['SAT_total_final'].hist()"
   ]
  },
  {
   "cell_type": "markdown",
   "metadata": {},
   "source": [
    "SAT scores now look good for data processing."
   ]
  },
  {
   "cell_type": "markdown",
   "metadata": {},
   "source": [
    "### SAT (times taken)"
   ]
  },
  {
   "cell_type": "code",
   "execution_count": 16,
   "metadata": {
    "collapsed": false
   },
   "outputs": [
    {
     "data": {
      "text/plain": [
       "2    1387\n",
       "1     916\n",
       "3     531\n",
       "0      43\n",
       "Name: How many times did you take the official SAT?, dtype: int64"
      ]
     },
     "execution_count": 16,
     "metadata": {},
     "output_type": "execute_result"
    }
   ],
   "source": [
    "df['How many times did you take the official SAT?'].value_counts()"
   ]
  },
  {
   "cell_type": "code",
   "execution_count": 17,
   "metadata": {
    "collapsed": true
   },
   "outputs": [],
   "source": [
    "df['SAT_times_taken'] = df['How many times did you take the official SAT?'].copy()"
   ]
  },
  {
   "cell_type": "markdown",
   "metadata": {},
   "source": [
    "### Clean High School GPA"
   ]
  },
  {
   "cell_type": "code",
   "execution_count": 18,
   "metadata": {
    "collapsed": false
   },
   "outputs": [
    {
     "data": {
      "text/plain": [
       "count    9693.000000\n",
       "mean        1.847469\n",
       "std         3.040976\n",
       "min         0.000000\n",
       "25%         0.000000\n",
       "50%         0.000000\n",
       "75%         3.860000\n",
       "max       100.000000\n",
       "Name: High School GPA, dtype: float64"
      ]
     },
     "execution_count": 18,
     "metadata": {},
     "output_type": "execute_result"
    }
   ],
   "source": [
    "df['High School GPA'].describe()"
   ]
  },
  {
   "cell_type": "markdown",
   "metadata": {},
   "source": [
    "Two observations: the vast majority are 0s, and the max is 101. Let's remove these first."
   ]
  },
  {
   "cell_type": "code",
   "execution_count": 19,
   "metadata": {
    "collapsed": true
   },
   "outputs": [],
   "source": [
    "df['High School GPA'] = df['High School GPA'].apply(lambda x: np.nan if x==0 or x>100 else x)"
   ]
  },
  {
   "cell_type": "code",
   "execution_count": 20,
   "metadata": {
    "collapsed": false
   },
   "outputs": [
    {
     "data": {
      "text/plain": [
       "count    4516.000000\n",
       "mean        3.965350\n",
       "std         3.383929\n",
       "min         1.500000\n",
       "25%         3.600000\n",
       "50%         3.900000\n",
       "75%         4.170000\n",
       "max       100.000000\n",
       "Name: High School GPA, dtype: float64"
      ]
     },
     "execution_count": 20,
     "metadata": {},
     "output_type": "execute_result"
    }
   ],
   "source": [
    "df['High School GPA'].describe()"
   ]
  },
  {
   "cell_type": "code",
   "execution_count": 21,
   "metadata": {
    "collapsed": false,
    "scrolled": true
   },
   "outputs": [
    {
     "data": {
      "text/plain": [
       "<matplotlib.axes._subplots.AxesSubplot at 0x118550550>"
      ]
     },
     "execution_count": 21,
     "metadata": {},
     "output_type": "execute_result"
    },
    {
     "data": {
      "image/png": "[encoded data removed]",
      "text/plain": [
       "<matplotlib.figure.Figure at 0x1176a0950>"
      ]
     },
     "metadata": {},
     "output_type": "display_data"
    }
   ],
   "source": [
    "df[df['High School GPA']<50]['High School GPA'].hist()"
   ]
  },
  {
   "cell_type": "markdown",
   "metadata": {},
   "source": [
    "Couple more observations:\n",
    "- Over half of GPA's are 4.0 or below\n",
    "- A handful of GPAs are between 4 and 4.5\n",
    "- A minority of GPAs are above 4.5- some are out of 100, some are on an arbitrary scale/typos"
   ]
  },
  {
   "cell_type": "markdown",
   "metadata": {},
   "source": [
    "Let's not use the GPA scores 2.0 or below (set to nan)"
   ]
  },
  {
   "cell_type": "code",
   "execution_count": 22,
   "metadata": {
    "collapsed": true
   },
   "outputs": [],
   "source": [
    "df['High School GPA'] = df['High School GPA'].apply(lambda x: np.nan if x<=2 else x)"
   ]
  },
  {
   "cell_type": "markdown",
   "metadata": {},
   "source": [
    "Taking a look at scores between 4 and 5:"
   ]
  },
  {
   "cell_type": "code",
   "execution_count": 23,
   "metadata": {
    "collapsed": false
   },
   "outputs": [
    {
     "data": {
      "text/plain": [
       "<matplotlib.axes._subplots.AxesSubplot at 0x117dd0bd0>"
      ]
     },
     "execution_count": 23,
     "metadata": {},
     "output_type": "execute_result"
    },
    {
     "data": {
      "image/png": "[encoded data removed]",
      "text/plain": [
       "<matplotlib.figure.Figure at 0x1153714d0>"
      ]
     },
     "metadata": {},
     "output_type": "display_data"
    }
   ],
   "source": [
    "df[(df['High School GPA']>4)&(df['High School GPA']<5)]['High School GPA'].hist()"
   ]
  },
  {
   "cell_type": "markdown",
   "metadata": {},
   "source": [
    "We don't have reliable info as to what the GPA scales are for these scores, but it looks like there are two separate distributions, one for a 4.2 scale, and one for a 4.5 scale, and a small number of datapoints in what looks like a 5 scale. Our best option at this point is to set these to the 4.0-scale median."
   ]
  },
  {
   "cell_type": "code",
   "execution_count": 24,
   "metadata": {
    "collapsed": true
   },
   "outputs": [],
   "source": [
    "GPA_median = df[df['High School GPA']<=4]['High School GPA'].median()\n",
    "df['High School GPA'] = df['High School GPA'].apply(lambda x: GPA_median if x>4 else x)"
   ]
  },
  {
   "cell_type": "code",
   "execution_count": 25,
   "metadata": {
    "collapsed": false
   },
   "outputs": [
    {
     "ename": "KeyError",
     "evalue": "'top_school_final'",
     "output_type": "error",
     "traceback": [
      "\u001b[0;31m---------------------------------------------------------------------------\u001b[0m",
      "\u001b[0;31mKeyError\u001b[0m                                  Traceback (most recent call last)",
      "\u001b[0;32m<ipython-input-25-9867df0a8e65>\u001b[0m in \u001b[0;36m<module>\u001b[0;34m()\u001b[0m\n\u001b[1;32m      1\u001b[0m \u001b[0mplt\u001b[0m\u001b[0;34m.\u001b[0m\u001b[0mfigure\u001b[0m\u001b[0;34m(\u001b[0m\u001b[0mfigsize\u001b[0m\u001b[0;34m=\u001b[0m\u001b[0;34m(\u001b[0m\u001b[0;36m12\u001b[0m\u001b[0;34m,\u001b[0m\u001b[0;36m7\u001b[0m\u001b[0;34m)\u001b[0m\u001b[0;34m)\u001b[0m\u001b[0;34m\u001b[0m\u001b[0m\n\u001b[0;32m----> 2\u001b[0;31m plt.scatter(df['SAT_total_final'], df['High School GPA'], color=['r' if x==1 else 'b' for x in df['top_school_final']],\n\u001b[0m\u001b[1;32m      3\u001b[0m             alpha=0.5)\n\u001b[1;32m      4\u001b[0m \u001b[0mplt\u001b[0m\u001b[0;34m.\u001b[0m\u001b[0mtitle\u001b[0m\u001b[0;34m(\u001b[0m\u001b[0;34m'SAT vs GPA'\u001b[0m\u001b[0;34m)\u001b[0m\u001b[0;34m\u001b[0m\u001b[0m\n\u001b[1;32m      5\u001b[0m \u001b[0mplt\u001b[0m\u001b[0;34m.\u001b[0m\u001b[0mxlabel\u001b[0m\u001b[0;34m(\u001b[0m\u001b[0;34m'SAT'\u001b[0m\u001b[0;34m)\u001b[0m\u001b[0;34m\u001b[0m\u001b[0m\n",
      "\u001b[0;32m/Users/MikeYung/anaconda/lib/python2.7/site-packages/pandas/core/frame.pyc\u001b[0m in \u001b[0;36m__getitem__\u001b[0;34m(self, key)\u001b[0m\n\u001b[1;32m   1967\u001b[0m             \u001b[0;32mreturn\u001b[0m \u001b[0mself\u001b[0m\u001b[0;34m.\u001b[0m\u001b[0m_getitem_multilevel\u001b[0m\u001b[0;34m(\u001b[0m\u001b[0mkey\u001b[0m\u001b[0;34m)\u001b[0m\u001b[0;34m\u001b[0m\u001b[0m\n\u001b[1;32m   1968\u001b[0m         \u001b[0;32melse\u001b[0m\u001b[0;34m:\u001b[0m\u001b[0;34m\u001b[0m\u001b[0m\n\u001b[0;32m-> 1969\u001b[0;31m             \u001b[0;32mreturn\u001b[0m \u001b[0mself\u001b[0m\u001b[0;34m.\u001b[0m\u001b[0m_getitem_column\u001b[0m\u001b[0;34m(\u001b[0m\u001b[0mkey\u001b[0m\u001b[0;34m)\u001b[0m\u001b[0;34m\u001b[0m\u001b[0m\n\u001b[0m\u001b[1;32m   1970\u001b[0m \u001b[0;34m\u001b[0m\u001b[0m\n\u001b[1;32m   1971\u001b[0m     \u001b[0;32mdef\u001b[0m \u001b[0m_getitem_column\u001b[0m\u001b[0;34m(\u001b[0m\u001b[0mself\u001b[0m\u001b[0;34m,\u001b[0m \u001b[0mkey\u001b[0m\u001b[0;34m)\u001b[0m\u001b[0;34m:\u001b[0m\u001b[0;34m\u001b[0m\u001b[0m\n",
      "\u001b[0;32m/Users/MikeYung/anaconda/lib/python2.7/site-packages/pandas/core/frame.pyc\u001b[0m in \u001b[0;36m_getitem_column\u001b[0;34m(self, key)\u001b[0m\n\u001b[1;32m   1974\u001b[0m         \u001b[0;31m# get column\u001b[0m\u001b[0;34m\u001b[0m\u001b[0;34m\u001b[0m\u001b[0m\n\u001b[1;32m   1975\u001b[0m         \u001b[0;32mif\u001b[0m \u001b[0mself\u001b[0m\u001b[0;34m.\u001b[0m\u001b[0mcolumns\u001b[0m\u001b[0;34m.\u001b[0m\u001b[0mis_unique\u001b[0m\u001b[0;34m:\u001b[0m\u001b[0;34m\u001b[0m\u001b[0m\n\u001b[0;32m-> 1976\u001b[0;31m             \u001b[0;32mreturn\u001b[0m \u001b[0mself\u001b[0m\u001b[0;34m.\u001b[0m\u001b[0m_get_item_cache\u001b[0m\u001b[0;34m(\u001b[0m\u001b[0mkey\u001b[0m\u001b[0;34m)\u001b[0m\u001b[0;34m\u001b[0m\u001b[0m\n\u001b[0m\u001b[1;32m   1977\u001b[0m \u001b[0;34m\u001b[0m\u001b[0m\n\u001b[1;32m   1978\u001b[0m         \u001b[0;31m# duplicate columns & possible reduce dimensionality\u001b[0m\u001b[0;34m\u001b[0m\u001b[0;34m\u001b[0m\u001b[0m\n",
      "\u001b[0;32m/Users/MikeYung/anaconda/lib/python2.7/site-packages/pandas/core/generic.pyc\u001b[0m in \u001b[0;36m_get_item_cache\u001b[0;34m(self, item)\u001b[0m\n\u001b[1;32m   1089\u001b[0m         \u001b[0mres\u001b[0m \u001b[0;34m=\u001b[0m \u001b[0mcache\u001b[0m\u001b[0;34m.\u001b[0m\u001b[0mget\u001b[0m\u001b[0;34m(\u001b[0m\u001b[0mitem\u001b[0m\u001b[0;34m)\u001b[0m\u001b[0;34m\u001b[0m\u001b[0m\n\u001b[1;32m   1090\u001b[0m         \u001b[0;32mif\u001b[0m \u001b[0mres\u001b[0m \u001b[0;32mis\u001b[0m \u001b[0mNone\u001b[0m\u001b[0;34m:\u001b[0m\u001b[0;34m\u001b[0m\u001b[0m\n\u001b[0;32m-> 1091\u001b[0;31m             \u001b[0mvalues\u001b[0m \u001b[0;34m=\u001b[0m \u001b[0mself\u001b[0m\u001b[0;34m.\u001b[0m\u001b[0m_data\u001b[0m\u001b[0;34m.\u001b[0m\u001b[0mget\u001b[0m\u001b[0;34m(\u001b[0m\u001b[0mitem\u001b[0m\u001b[0;34m)\u001b[0m\u001b[0;34m\u001b[0m\u001b[0m\n\u001b[0m\u001b[1;32m   1092\u001b[0m             \u001b[0mres\u001b[0m \u001b[0;34m=\u001b[0m \u001b[0mself\u001b[0m\u001b[0;34m.\u001b[0m\u001b[0m_box_item_values\u001b[0m\u001b[0;34m(\u001b[0m\u001b[0mitem\u001b[0m\u001b[0;34m,\u001b[0m \u001b[0mvalues\u001b[0m\u001b[0;34m)\u001b[0m\u001b[0;34m\u001b[0m\u001b[0m\n\u001b[1;32m   1093\u001b[0m             \u001b[0mcache\u001b[0m\u001b[0;34m[\u001b[0m\u001b[0mitem\u001b[0m\u001b[0;34m]\u001b[0m \u001b[0;34m=\u001b[0m \u001b[0mres\u001b[0m\u001b[0;34m\u001b[0m\u001b[0m\n",
      "\u001b[0;32m/Users/MikeYung/anaconda/lib/python2.7/site-packages/pandas/core/internals.pyc\u001b[0m in \u001b[0;36mget\u001b[0;34m(self, item, fastpath)\u001b[0m\n\u001b[1;32m   3209\u001b[0m \u001b[0;34m\u001b[0m\u001b[0m\n\u001b[1;32m   3210\u001b[0m             \u001b[0;32mif\u001b[0m \u001b[0;32mnot\u001b[0m \u001b[0misnull\u001b[0m\u001b[0;34m(\u001b[0m\u001b[0mitem\u001b[0m\u001b[0;34m)\u001b[0m\u001b[0;34m:\u001b[0m\u001b[0;34m\u001b[0m\u001b[0m\n\u001b[0;32m-> 3211\u001b[0;31m                 \u001b[0mloc\u001b[0m \u001b[0;34m=\u001b[0m \u001b[0mself\u001b[0m\u001b[0;34m.\u001b[0m\u001b[0mitems\u001b[0m\u001b[0;34m.\u001b[0m\u001b[0mget_loc\u001b[0m\u001b[0;34m(\u001b[0m\u001b[0mitem\u001b[0m\u001b[0;34m)\u001b[0m\u001b[0;34m\u001b[0m\u001b[0m\n\u001b[0m\u001b[1;32m   3212\u001b[0m             \u001b[0;32melse\u001b[0m\u001b[0;34m:\u001b[0m\u001b[0;34m\u001b[0m\u001b[0m\n\u001b[1;32m   3213\u001b[0m                 \u001b[0mindexer\u001b[0m \u001b[0;34m=\u001b[0m \u001b[0mnp\u001b[0m\u001b[0;34m.\u001b[0m\u001b[0marange\u001b[0m\u001b[0;34m(\u001b[0m\u001b[0mlen\u001b[0m\u001b[0;34m(\u001b[0m\u001b[0mself\u001b[0m\u001b[0;34m.\u001b[0m\u001b[0mitems\u001b[0m\u001b[0;34m)\u001b[0m\u001b[0;34m)\u001b[0m\u001b[0;34m[\u001b[0m\u001b[0misnull\u001b[0m\u001b[0;34m(\u001b[0m\u001b[0mself\u001b[0m\u001b[0;34m.\u001b[0m\u001b[0mitems\u001b[0m\u001b[0;34m)\u001b[0m\u001b[0;34m]\u001b[0m\u001b[0;34m\u001b[0m\u001b[0m\n",
      "\u001b[0;32m/Users/MikeYung/anaconda/lib/python2.7/site-packages/pandas/core/index.pyc\u001b[0m in \u001b[0;36mget_loc\u001b[0;34m(self, key, method, tolerance)\u001b[0m\n\u001b[1;32m   1757\u001b[0m                                  'backfill or nearest lookups')\n\u001b[1;32m   1758\u001b[0m             \u001b[0mkey\u001b[0m \u001b[0;34m=\u001b[0m \u001b[0m_values_from_object\u001b[0m\u001b[0;34m(\u001b[0m\u001b[0mkey\u001b[0m\u001b[0;34m)\u001b[0m\u001b[0;34m\u001b[0m\u001b[0m\n\u001b[0;32m-> 1759\u001b[0;31m             \u001b[0;32mreturn\u001b[0m \u001b[0mself\u001b[0m\u001b[0;34m.\u001b[0m\u001b[0m_engine\u001b[0m\u001b[0;34m.\u001b[0m\u001b[0mget_loc\u001b[0m\u001b[0;34m(\u001b[0m\u001b[0mkey\u001b[0m\u001b[0;34m)\u001b[0m\u001b[0;34m\u001b[0m\u001b[0m\n\u001b[0m\u001b[1;32m   1760\u001b[0m \u001b[0;34m\u001b[0m\u001b[0m\n\u001b[1;32m   1761\u001b[0m         indexer = self.get_indexer([key], method=method,\n",
      "\u001b[0;32mpandas/index.pyx\u001b[0m in \u001b[0;36mpandas.index.IndexEngine.get_loc (pandas/index.c:3979)\u001b[0;34m()\u001b[0m\n",
      "\u001b[0;32mpandas/index.pyx\u001b[0m in \u001b[0;36mpandas.index.IndexEngine.get_loc (pandas/index.c:3843)\u001b[0;34m()\u001b[0m\n",
      "\u001b[0;32mpandas/hashtable.pyx\u001b[0m in \u001b[0;36mpandas.hashtable.PyObjectHashTable.get_item (pandas/hashtable.c:12265)\u001b[0;34m()\u001b[0m\n",
      "\u001b[0;32mpandas/hashtable.pyx\u001b[0m in \u001b[0;36mpandas.hashtable.PyObjectHashTable.get_item (pandas/hashtable.c:12216)\u001b[0;34m()\u001b[0m\n",
      "\u001b[0;31mKeyError\u001b[0m: 'top_school_final'"
     ]
    },
    {
     "data": {
      "text/plain": [
       "<matplotlib.figure.Figure at 0x115349e10>"
      ]
     },
     "metadata": {},
     "output_type": "display_data"
    }
   ],
   "source": [
    "plt.figure(figsize=(12,7))\n",
    "plt.scatter(df['SAT_total_final'], df['High School GPA'], color=['r' if x==1 else 'b' for x in df['top_school_final']],\n",
    "            alpha=0.5)\n",
    "plt.title('SAT vs GPA')\n",
    "plt.xlabel('SAT')\n",
    "plt.ylabel('GPA')\n",
    "plt.ylim([2,4.1])"
   ]
  },
  {
   "cell_type": "markdown",
   "metadata": {},
   "source": [
    "Unfortunately it doesn't look like GPA and SAT have a strong bearing on whether someone is accepted in a top school. Let's continue with other variables"
   ]
  },
  {
   "cell_type": "markdown",
   "metadata": {},
   "source": [
    "### Gender"
   ]
  },
  {
   "cell_type": "code",
   "execution_count": null,
   "metadata": {
    "collapsed": true
   },
   "outputs": [],
   "source": [
    "df['Male'] = df['Gender'].apply(lambda x: 1 if x=='Male' else 0)"
   ]
  },
  {
   "cell_type": "markdown",
   "metadata": {},
   "source": [
    "### Ethnicity"
   ]
  },
  {
   "cell_type": "code",
   "execution_count": null,
   "metadata": {
    "collapsed": false
   },
   "outputs": [],
   "source": [
    "df['Ethnicity'].value_counts()[:10]"
   ]
  },
  {
   "cell_type": "code",
   "execution_count": null,
   "metadata": {
    "collapsed": false,
    "scrolled": false
   },
   "outputs": [],
   "source": [
    "df['Ethnicity2'] = df['Ethnicity'].apply(lambda x: ea.parseEthnicity(x) if type(x)==str else x)"
   ]
  },
  {
   "cell_type": "code",
   "execution_count": null,
   "metadata": {
    "collapsed": true
   },
   "outputs": [],
   "source": [
    "df['Ethnicity_Asian'] = df['Ethnicity2'].apply(lambda x: 1 if type(x)==list and 'asian' in x else 0)\n",
    "df['Ethnicity_Black'] = df['Ethnicity2'].apply(lambda x: 1 if type(x)==list and 'black / african american' in x else 0)\n",
    "df['Ethnicity_Hispanic'] = df['Ethnicity2'].apply(lambda x: 1 if type(x)==list and 'hispanic' in x else 0)\n",
    "df['Ethnicity_White'] = df['Ethnicity2'].apply(lambda x: 1 if type(x)==list and 'white non-hispanic' in x else 0)\n",
    "df['Ethnicity_Pacific'] = df['Ethnicity2'].apply(lambda x: 1 if type(x)==list and 'native hawaiian / pacific islander' in x else 0)\n",
    "df['Ethnicity_NativeAm'] = df['Ethnicity2'].apply(lambda x: 1 if type(x)==list and 'native american' in x else 0)"
   ]
  },
  {
   "cell_type": "code",
   "execution_count": 26,
   "metadata": {
    "collapsed": false
   },
   "outputs": [],
   "source": [
    "for c in df.columns:\n",
    "    if c.find('Ethnicity_')>-1:\n",
    "        print c, df[c].sum()"
   ]
  },
  {
   "cell_type": "markdown",
   "metadata": {},
   "source": [
    "### High School Activities / Leadership / Honors"
   ]
  },
  {
   "cell_type": "code",
   "execution_count": 27,
   "metadata": {
    "collapsed": false,
    "scrolled": false
   },
   "outputs": [
    {
     "data": {
      "text/plain": [
       "2619"
      ]
     },
     "execution_count": 27,
     "metadata": {},
     "output_type": "execute_result"
    }
   ],
   "source": [
    "df['High School Extracurricular Activities'].notnull().sum()"
   ]
  },
  {
   "cell_type": "code",
   "execution_count": 28,
   "metadata": {
    "collapsed": false,
    "scrolled": false
   },
   "outputs": [
    {
     "data": {
      "text/plain": [
       "[('Member', 4432),\n",
       " ('4', 2691),\n",
       " ('2', 2639),\n",
       " ('3', 1959),\n",
       " ('1', 1784),\n",
       " ('Lead role', 1681),\n",
       " ('School Award', 1549),\n",
       " ('Regional/State Recognition', 1001),\n",
       " ('President', 958),\n",
       " ('National Honor Society', 952),\n",
       " ('Executive Board', 846),\n",
       " ('Recognized in Local Media', 807),\n",
       " ('Community Award', 701),\n",
       " ('National Recognition', 534),\n",
       " ('Tutoring/Mentoring', 533),\n",
       " ('Committee Leader', 497),\n",
       " ('Student Council / Government', 454),\n",
       " ('Founder', 418),\n",
       " ('Community Cleanup / Service', 357),\n",
       " ('Awarded Monetary Prize', 355),\n",
       " ('Received Scholarship For Achievement', 345),\n",
       " ('Won National Award', 303),\n",
       " ('School Newspaper/Magazine/Journalism', 300),\n",
       " ('Debate Club/Team', 296),\n",
       " ('Science Club/Team', 275),\n",
       " ('Key Club', 261),\n",
       " ('Church', 251),\n",
       " ('School theater/plays', 236),\n",
       " ('Math Team', 232),\n",
       " ('Choir', 215)]"
      ]
     },
     "execution_count": 28,
     "metadata": {},
     "output_type": "execute_result"
    }
   ],
   "source": [
    "ea.showTopPhrases(df, 'High School Extracurricular Activities', n=30)"
   ]
  },
  {
   "cell_type": "code",
   "execution_count": 29,
   "metadata": {
    "collapsed": true
   },
   "outputs": [],
   "source": [
    "leader_words = ['leader','president','founder']\n",
    "arts_words = ['arts', 'music', 'jazz', 'band', 'orchestra', 'choir', 'drama', 'theater']\n",
    "award_words = ['award', 'scholarship', 'achievement', 'prize']\n",
    "community_words = ['volunteer', 'community','cleanup', 'ngo', 'environment', 'humanity','green', 'charity']\n",
    "academic_words = ['science', 'math', 'engineering']\n",
    "gov_words = ['debate', 'model', 'government']\n",
    "diversity_words = ['alliance', 'multicultural', 'diversity']\n",
    "race_words = ['naacp','asian','jewish','german','french','japanese','italian','chinese']"
   ]
  },
  {
   "cell_type": "code",
   "execution_count": 30,
   "metadata": {
    "collapsed": true
   },
   "outputs": [],
   "source": [
    "ecc_colnames = ['leader','arts','award','community','academic','gov','diversity','race_ecc']\n",
    "ecc_words = [leader_words, arts_words, award_words, community_words, academic_words, gov_words, diversity_words, race_words]\n",
    "for colname, words in zip(ecc_colnames, ecc_words):\n",
    "    df[colname] = df['High School Extracurricular Activities'].apply(lambda x: ea.parseECC(x, words))"
   ]
  },
  {
   "cell_type": "markdown",
   "metadata": {},
   "source": [
    "### Sports"
   ]
  },
  {
   "cell_type": "code",
   "execution_count": 31,
   "metadata": {
    "collapsed": false
   },
   "outputs": [
    {
     "data": {
      "text/plain": [
       "2008"
      ]
     },
     "execution_count": 31,
     "metadata": {},
     "output_type": "execute_result"
    }
   ],
   "source": [
    "df['High School Sports Played'].notnull().sum()"
   ]
  },
  {
   "cell_type": "code",
   "execution_count": 32,
   "metadata": {
    "collapsed": false
   },
   "outputs": [],
   "source": [
    "# re.findall('[[]\\S+[]]\\s[[]\\S+[]]\\s(.+)', df[df['High School Sports Played'].notnull()]['High School Sports Played'].values[2])"
   ]
  },
  {
   "cell_type": "code",
   "execution_count": 33,
   "metadata": {
    "collapsed": false,
    "scrolled": false
   },
   "outputs": [],
   "source": [
    "all_sports = list(df['High School Sports Played'].apply(ea.getAllSports))\n",
    "unique_sports = ea.getUniqueSports(all_sports)"
   ]
  },
  {
   "cell_type": "code",
   "execution_count": 34,
   "metadata": {
    "collapsed": true
   },
   "outputs": [],
   "source": [
    "# Initialize dummy variables for each sport category, set to 0s.\n",
    "ea.makeSportsDummies(df, unique_sports)"
   ]
  },
  {
   "cell_type": "code",
   "execution_count": 35,
   "metadata": {
    "collapsed": false
   },
   "outputs": [],
   "source": [
    "# Fill in the dummy variables for each sport category accordingly (1 if that sport was played)\n",
    "ea.parseSports(df, unique_sports)"
   ]
  },
  {
   "cell_type": "code",
   "execution_count": 36,
   "metadata": {
    "collapsed": false
   },
   "outputs": [],
   "source": [
    "# Create a varsity dummy variable that indicates if someone played sports at a varsity level\n",
    "df['sportsVarsity'] = df['High School Sports Played'].apply(lambda x: ea.parseVarsity(x, unique_sports))\n",
    "# Create a varsity dummy variable that indicates if someone was a captain of a sport\n",
    "df['sportsCaptain'] = df['High School Sports Played'].apply(lambda x: ea.parseCaptain(x, unique_sports))"
   ]
  },
  {
   "cell_type": "markdown",
   "metadata": {},
   "source": [
    "### Home Country"
   ]
  },
  {
   "cell_type": "code",
   "execution_count": 37,
   "metadata": {
    "collapsed": false
   },
   "outputs": [
    {
     "data": {
      "text/plain": [
       "[1703] [united-states] United States    7131\n",
       "[1793] [india] India                      53\n",
       "[1738] [canada] Canada                    33\n",
       "[1744] [china] China                      30\n",
       "[1837] [morocco] Morocco                  25\n",
       "[1830] [mexico] Mexico                    22\n",
       "[1794] [indonesia] Indonesia              22\n",
       "[1790] [hong-kong] Hong Kong              17\n",
       "[1861] [philippines] Philippines          15\n",
       "[1849] [nigeria] Nigeria                  15\n",
       "Name: Home Country, dtype: int64"
      ]
     },
     "execution_count": 37,
     "metadata": {},
     "output_type": "execute_result"
    }
   ],
   "source": [
    "df['Home Country'].value_counts()[:10]"
   ]
  },
  {
   "cell_type": "code",
   "execution_count": 38,
   "metadata": {
    "collapsed": false
   },
   "outputs": [],
   "source": [
    "df['Home Country'] = df['Home Country'].apply(lambda x:re.search('[[]\\S+[]]\\s[[]\\S+[]]\\s(.+)', x).group(1)\n",
    "                                              if type(x)==str else x)"
   ]
  },
  {
   "cell_type": "code",
   "execution_count": 39,
   "metadata": {
    "collapsed": true
   },
   "outputs": [],
   "source": [
    "df['Home Country_US'] = df['Home Country'].apply(lambda x: 1 if x=='United States' else 0)"
   ]
  },
  {
   "cell_type": "markdown",
   "metadata": {},
   "source": [
    "### Academic Performance in HS"
   ]
  },
  {
   "cell_type": "code",
   "execution_count": 40,
   "metadata": {
    "collapsed": false
   },
   "outputs": [
    {
     "data": {
      "text/plain": [
       "Steady                         2439\n",
       "Some good some bad              288\n",
       "Low at first but improved       283\n",
       "Low one semester/year           175\n",
       "High at first but got worse      52\n",
       "Name: Academic Performance in High School, dtype: int64"
      ]
     },
     "execution_count": 40,
     "metadata": {},
     "output_type": "execute_result"
    }
   ],
   "source": [
    "df['Academic Performance in High School'].value_counts()"
   ]
  },
  {
   "cell_type": "code",
   "execution_count": 42,
   "metadata": {
    "collapsed": false
   },
   "outputs": [],
   "source": [
    "# reload(ea)\n",
    "# ea.exploreCategorical(df, 'Academic Performance in High School','top_school_final',2,3)"
   ]
  },
  {
   "cell_type": "markdown",
   "metadata": {},
   "source": [
    "Almost 30% of those who had 'Steady' grades in high school ended up getting into a top school - there could be something interesting here..."
   ]
  },
  {
   "cell_type": "code",
   "execution_count": 43,
   "metadata": {
    "collapsed": false
   },
   "outputs": [],
   "source": [
    "df = pd.get_dummies(df,columns=['Academic Performance in High School'], prefix='HS')"
   ]
  },
  {
   "cell_type": "code",
   "execution_count": 44,
   "metadata": {
    "collapsed": false
   },
   "outputs": [
    {
     "data": {
      "text/plain": [
       "array(['Unnamed: 0', 'id', 'Gender', 'Undergraduate Schools Attended',\n",
       "       'Undergraduate Graduation Year', 'Undergraduate Major(s)',\n",
       "       'Ethnicity', 'Home State or Territory (US)', 'Home City',\n",
       "       'High School Type', 'High School GPA', 'High School Class Rank',\n",
       "       'High School AP / IB Classes and Scores',\n",
       "       'Undergraduate Additional Info',\n",
       "       'High School Extracurricular Activities',\n",
       "       'High School Sports Played', 'High School Other Honors and Awards',\n",
       "       'Undergraduate Acceptance', 'Undergraduate Month Applied',\n",
       "       'Undergraduate Schools Applied', 'Who are you?', 'About Me',\n",
       "       'Birth Year', 'Home Country', 'Is English your first language?',\n",
       "       'Do you speak other languages?', 'Undergrad Legacy',\n",
       "       'Undergraduate Degree Type', 'Undergraduate Type of Major(s)',\n",
       "       'Highest SAT Scores',\n",
       "       'How many times did you take the official SAT?',\n",
       "       'SAT 2 Tests Taken and Highest Scores',\n",
       "       'Undergraduate Personal Statement Topic',\n",
       "       'Undergraduate Personal Statement Type',\n",
       "       'Undergraduate Personal Statement',\n",
       "       'Undergraduate Supplemental Essay',\n",
       "       'How did you spend your summers during high school?',\n",
       "       'Other SAT Scores', 'What SAT test prep did you use?',\n",
       "       'Highest ACT Scores', 'Other ACT Scores',\n",
       "       'How many times did you take the ACT?',\n",
       "       'What ACT test prep did you use?', 'PSAT Scores',\n",
       "       'Other Standardized Tests Taken In High School',\n",
       "       'College Classes in High School', 'Low Grades in High School',\n",
       "       'High School Work & Volunteer Experience',\n",
       "       'Undergraduate Application Additional Materials',\n",
       "       'Undergraduate Essay Details',\n",
       "       'Elaborate on High School Extracurricular or Work',\n",
       "       'Undergraduate Number of Schools Applied', 'Undergraduate Advice',\n",
       "       'Internal Use - Calculated Undergrad Price',\n",
       "       'Number of Advanced Placement (AP) Tests Taken',\n",
       "       'Undergrad Verification Documents', 'Highest Composite SAT Score',\n",
       "       'TOEFL iBT', 'TOEFL PBT',\n",
       "       'List your private college consultant(s), if any',\n",
       "       \"Undergrad Student's Grad School Interests\",\n",
       "       \"Undergrad Student's Grad School Other\", 'Nationality',\n",
       "       'No major in the list', 'No other languages',\n",
       "       'Did either of your parents attend college in the U',\n",
       "       'Five adjectives College',\n",
       "       \"Undergrad Student's Grad School Interests NEW\",\n",
       "       'ZIP / Postal Code', 'Home State / Province (Outside U.S.)',\n",
       "       'NEW Personal Statement', 'GPA Scale', 'School Type CEEB',\n",
       "       'Harvard University (Cambridge, MA)',\n",
       "       'Yale University (New Haven, CT)',\n",
       "       'Cornell University (Ithaca, NY)',\n",
       "       'Columbia University (New York, NY)',\n",
       "       'University of Pennsylvania (Philadelphia, PA)',\n",
       "       'Princeton University (Princeton, NJ)',\n",
       "       'Brown University (Providence, RI)',\n",
       "       'Dartmouth College (Hanover, NH)',\n",
       "       'Massachusetts Institute of Technology (Cambridge, MA)',\n",
       "       'Stanford University (Stanford, CA)', 'any_top_school',\n",
       "       'any_top_school_v2', 'SAT_total_temp', 'SAT_total_final',\n",
       "       'SAT_times_taken', 'leader', 'arts', 'award', 'community',\n",
       "       'academic', 'gov', 'diversity', 'race_ecc', 'sports_Basketball',\n",
       "       'sports_Sailing', 'sports_Fencing', 'sports_Tennis',\n",
       "       'sports_Hockey', 'sports_Rowing (Crew)', 'sports_Water Polo',\n",
       "       'sports_Soccer', 'sports_Equestrian', 'sports_Football',\n",
       "       'sports_Squash', 'sports_Baseball', 'sports_Softball',\n",
       "       'sports_Mountain Biking/Cycling', 'sports_Lacrosse',\n",
       "       'sports_Cross Country', 'sports_Rugby',\n",
       "       'sports_Table Tennis (Ping Pong)', 'sports_Rowing',\n",
       "       'sports_Weight Lifting', 'sports_Volleyball', 'sports_Drill',\n",
       "       'sports_Swimming/Diving', 'sports_Field Hockey', 'sports_Golf',\n",
       "       'sports_Track &amp; Field', 'sports_Dance', 'sports_Wrestling',\n",
       "       'sports_Cheer/Spirit Squad', 'sports_Gymnastics', 'sports_Skiing',\n",
       "       'sports_Martial Arts', 'sportsVarsity', 'sportsCaptain',\n",
       "       'Home Country_US', 'HS_High at first but got worse',\n",
       "       'HS_Low at first but improved', 'HS_Low one semester/year',\n",
       "       'HS_Some good some bad', 'HS_Steady'], dtype=object)"
      ]
     },
     "execution_count": 44,
     "metadata": {},
     "output_type": "execute_result"
    }
   ],
   "source": [
    "df.columns.values"
   ]
  },
  {
   "cell_type": "markdown",
   "metadata": {
    "collapsed": true
   },
   "source": [
    "### Modeling"
   ]
  },
  {
   "cell_type": "code",
   "execution_count": 45,
   "metadata": {
    "collapsed": true
   },
   "outputs": [],
   "source": [
    "def getFinalCols(df):\n",
    "    final_cols = ['SAT_total_final', 'SAT_times_taken', 'High School GPA', 'Male', 'leader', 'arts', 'award', 'community', 'academic', 'gov', 'diversity', 'race_ecc', 'Home Country_US']\n",
    "\n",
    "    ethnicity_cols = [col for col in df.columns if col.find('Ethnicity_')>-1]\n",
    "    HS_perf_cols = [col for col in df.columns if col.find('HS_')>-1]\n",
    "    sports_cols = [col for col in df.columns if col.find('sports_')>-1]\n",
    "    sports_cols.extend(['sportsVarsity', 'sportsCaptain'])\n",
    "#     essay_cols = ['essay_topic'+str(i) for i in range(1,8)]\n",
    "\n",
    "    final_cols.extend(ethnicity_cols)\n",
    "    final_cols.extend(HS_perf_cols)\n",
    "    final_cols.extend(sports_cols)\n",
    "#     final_cols.extend(essay_cols)\n",
    "    return final_cols"
   ]
  },
  {
   "cell_type": "code",
   "execution_count": 46,
   "metadata": {
    "collapsed": false
   },
   "outputs": [
    {
     "data": {
      "text/plain": [
       "['SAT_total_final',\n",
       " 'SAT_times_taken',\n",
       " 'High School GPA',\n",
       " 'Male',\n",
       " 'leader',\n",
       " 'arts',\n",
       " 'award',\n",
       " 'community',\n",
       " 'academic',\n",
       " 'gov',\n",
       " 'diversity',\n",
       " 'race_ecc',\n",
       " 'Home Country_US',\n",
       " 'HS_High at first but got worse',\n",
       " 'HS_Low at first but improved',\n",
       " 'HS_Low one semester/year',\n",
       " 'HS_Some good some bad',\n",
       " 'HS_Steady',\n",
       " 'sports_Basketball',\n",
       " 'sports_Sailing',\n",
       " 'sports_Fencing',\n",
       " 'sports_Tennis',\n",
       " 'sports_Hockey',\n",
       " 'sports_Rowing (Crew)',\n",
       " 'sports_Water Polo',\n",
       " 'sports_Soccer',\n",
       " 'sports_Equestrian',\n",
       " 'sports_Football',\n",
       " 'sports_Squash',\n",
       " 'sports_Baseball',\n",
       " 'sports_Softball',\n",
       " 'sports_Mountain Biking/Cycling',\n",
       " 'sports_Lacrosse',\n",
       " 'sports_Cross Country',\n",
       " 'sports_Rugby',\n",
       " 'sports_Table Tennis (Ping Pong)',\n",
       " 'sports_Rowing',\n",
       " 'sports_Weight Lifting',\n",
       " 'sports_Volleyball',\n",
       " 'sports_Drill',\n",
       " 'sports_Swimming/Diving',\n",
       " 'sports_Field Hockey',\n",
       " 'sports_Golf',\n",
       " 'sports_Track &amp; Field',\n",
       " 'sports_Dance',\n",
       " 'sports_Wrestling',\n",
       " 'sports_Cheer/Spirit Squad',\n",
       " 'sports_Gymnastics',\n",
       " 'sports_Skiing',\n",
       " 'sports_Martial Arts',\n",
       " 'sportsVarsity',\n",
       " 'sportsCaptain',\n",
       " 'essay_topic1',\n",
       " 'essay_topic2',\n",
       " 'essay_topic3',\n",
       " 'essay_topic4',\n",
       " 'essay_topic5',\n",
       " 'essay_topic6',\n",
       " 'essay_topic7']"
      ]
     },
     "execution_count": 46,
     "metadata": {},
     "output_type": "execute_result"
    }
   ],
   "source": [
    "getFinalCols(df)"
   ]
  },
  {
   "cell_type": "code",
   "execution_count": null,
   "metadata": {
    "collapsed": true
   },
   "outputs": [],
   "source": [
    "logit = sm.Logit(y, data[train_cols])\n",
    "\n",
    "# fit the model\n",
    "result = logit.fit()"
   ]
  }
 ],
 "metadata": {
  "kernelspec": {
   "display_name": "Python 2",
   "language": "python",
   "name": "python2"
  },
  "language_info": {
   "codemirror_mode": {
    "name": "ipython",
    "version": 2
   },
   "file_extension": ".py",
   "mimetype": "text/x-python",
   "name": "python",
   "nbconvert_exporter": "python",
   "pygments_lexer": "ipython2",
   "version": "2.7.12"
  }
 },
 "nbformat": 4,
 "nbformat_minor": 0
}
