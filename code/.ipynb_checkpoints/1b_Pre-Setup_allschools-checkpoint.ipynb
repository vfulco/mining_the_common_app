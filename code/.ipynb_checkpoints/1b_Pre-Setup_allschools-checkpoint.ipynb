{
 "cells": [
  {
   "cell_type": "markdown",
   "metadata": {},
   "source": [
    "##### The purpose of this notebook is to output a csv with acceptance data for all schools."
   ]
  },
  {
   "cell_type": "code",
   "execution_count": 72,
   "metadata": {
    "collapsed": false
   },
   "outputs": [],
   "source": [
    "import pandas as pd\n",
    "import numpy as np\n",
    "import matplotlib.pyplot as plt\n",
    "import presetup as p\n",
    "import seaborn as sns\n",
    "import re\n",
    "from collections import Counter\n",
    "from sklearn.cross_validation import train_test_split\n",
    "%matplotlib inline"
   ]
  },
  {
   "cell_type": "code",
   "execution_count": 116,
   "metadata": {
    "collapsed": false
   },
   "outputs": [],
   "source": [
    "df = pd.read_csv('../data/raw/raw_data.csv', low_memory=False)"
   ]
  },
  {
   "cell_type": "markdown",
   "metadata": {},
   "source": [
    "Let's instantiate an instance of the PreSetup class from our custom module 'presetup' - we'll use it to fetch a list of interpretable column names."
   ]
  },
  {
   "cell_type": "code",
   "execution_count": 118,
   "metadata": {
    "collapsed": false
   },
   "outputs": [],
   "source": [
    "ps = p.PreSetup()\n",
    "col_dict = ps.parseCols('../data/reference/column_names.txt')\n",
    "df.columns = ps.updateCols(df.columns.values)"
   ]
  },
  {
   "cell_type": "code",
   "execution_count": 120,
   "metadata": {
    "collapsed": false
   },
   "outputs": [
    {
     "data": {
      "text/plain": [
       "Admit Creating College / Grad School Profile    18465\n",
       "Student Applying To College / Grad School         102\n",
       "Other Professional                                 32\n",
       "School Faculty / Professional                      12\n",
       "Parent                                              7\n",
       "Name: Who are you?, dtype: int64"
      ]
     },
     "execution_count": 120,
     "metadata": {},
     "output_type": "execute_result"
    }
   ],
   "source": [
    "df['Who are you?'].value_counts()"
   ]
  },
  {
   "cell_type": "markdown",
   "metadata": {},
   "source": [
    "We're only interested in the profiles of those who have gone through the college admissions process and are not school faculty or parents."
   ]
  },
  {
   "cell_type": "code",
   "execution_count": 121,
   "metadata": {
    "collapsed": false
   },
   "outputs": [],
   "source": [
    "df = df[df['Who are you?']=='Admit Creating College / Grad School Profile'].copy()\n",
    "df.reset_index(inplace=True)\n",
    "df.drop('index', axis=1, inplace=True)"
   ]
  },
  {
   "cell_type": "markdown",
   "metadata": {},
   "source": [
    "Some more housekeeping: let's replace the base64 nulls."
   ]
  },
  {
   "cell_type": "code",
   "execution_count": 122,
   "metadata": {
    "collapsed": true
   },
   "outputs": [],
   "source": [
    "vals = ['YTowOnt9', 'ytowont9', 'czowOiIiOw==']\n",
    "for v in vals:\n",
    "    df.replace(to_replace=v, value=np.nan, inplace=True)"
   ]
  },
  {
   "cell_type": "markdown",
   "metadata": {},
   "source": [
    "### Extracting Acceptance Data for All Schools"
   ]
  },
  {
   "cell_type": "markdown",
   "metadata": {},
   "source": [
    "#### Step 1\n",
    "Instantiate a new instance of the Schools class."
   ]
  },
  {
   "cell_type": "code",
   "execution_count": 123,
   "metadata": {
    "collapsed": false
   },
   "outputs": [],
   "source": [
    "sc = p.Schools()"
   ]
  },
  {
   "cell_type": "markdown",
   "metadata": {},
   "source": [
    "#### Step 2\n",
    "Get list of all schools."
   ]
  },
  {
   "cell_type": "code",
   "execution_count": 124,
   "metadata": {
    "collapsed": false
   },
   "outputs": [],
   "source": [
    "all_schools = sc.getSchools('../data/reference/table_references.csv')"
   ]
  },
  {
   "cell_type": "code",
   "execution_count": 12,
   "metadata": {
    "collapsed": false
   },
   "outputs": [
    {
     "name": "stdout",
     "output_type": "stream",
     "text": [
      "1355 1353\n"
     ]
    }
   ],
   "source": [
    "print len(all_schools), len(set(all_schools))"
   ]
  },
  {
   "cell_type": "markdown",
   "metadata": {},
   "source": [
    "There are a few duplicates- let's remove these."
   ]
  },
  {
   "cell_type": "code",
   "execution_count": 125,
   "metadata": {
    "collapsed": true
   },
   "outputs": [],
   "source": [
    "all_schools = list(set(all_schools))"
   ]
  },
  {
   "cell_type": "markdown",
   "metadata": {},
   "source": [
    "#### Step 3\n",
    "Create a new DataFrame df_schools, where cols are schools, rows are students"
   ]
  },
  {
   "cell_type": "code",
   "execution_count": 126,
   "metadata": {
    "collapsed": true
   },
   "outputs": [],
   "source": [
    "df_schools = pd.DataFrame(index=xrange(len(df)), columns=all_schools)"
   ]
  },
  {
   "cell_type": "markdown",
   "metadata": {},
   "source": [
    "#### Step 4\n",
    "Update acceptance status for each school in df_schools."
   ]
  },
  {
   "cell_type": "code",
   "execution_count": 127,
   "metadata": {
    "collapsed": false
   },
   "outputs": [],
   "source": [
    "sc.extractFromApplied(df['Undergraduate Schools Applied'], df_schools)"
   ]
  },
  {
   "cell_type": "markdown",
   "metadata": {},
   "source": [
    "Due to some formatting hiccups in the data, a handful of non-school columns were generated. Let's get rid of these."
   ]
  },
  {
   "cell_type": "code",
   "execution_count": 128,
   "metadata": {
    "collapsed": true
   },
   "outputs": [],
   "source": [
    "df_schools = df_schools[all_schools]"
   ]
  },
  {
   "cell_type": "markdown",
   "metadata": {},
   "source": [
    "#### Step 5\n",
    "Create a separate DataFrame df_topschools (where the cols are just the 'top schools')."
   ]
  },
  {
   "cell_type": "code",
   "execution_count": 23,
   "metadata": {
    "collapsed": true
   },
   "outputs": [],
   "source": [
    "# top_schools = ['Harvard University (Cambridge, MA)', 'Yale University (New Haven, CT)', \n",
    "#                'Cornell University (Ithaca, NY)', 'Columbia University (New York, NY)',\n",
    "#                'University of Pennsylvania (Philadelphia, PA)', 'Princeton University (Princeton, NJ)',\n",
    "#                'Brown University (Providence, RI)', 'Dartmouth College (Hanover, NH)',\n",
    "#                'Massachusetts Institute of Technology (Cambridge, MA)','Stanford University (Stanford, CA)']\n",
    "# df_topschools = df_schools[top_schools].copy()"
   ]
  },
  {
   "cell_type": "markdown",
   "metadata": {},
   "source": [
    "#### Step 6\n",
    "Convert each school col into binary (1 for accepted, 0 for not)"
   ]
  },
  {
   "cell_type": "code",
   "execution_count": 129,
   "metadata": {
    "collapsed": false
   },
   "outputs": [],
   "source": [
    "for school in all_schools:\n",
    "    df_schools[school] = df_schools[school].apply(lambda x: sc.cleanFromApplied(x) if type(x) == str else x)"
   ]
  },
  {
   "cell_type": "code",
   "execution_count": 25,
   "metadata": {
    "collapsed": false
   },
   "outputs": [],
   "source": [
    "# df_topschools['any_top_school'] = (df_topschools.sum(axis=1)).apply(lambda x: 1 if x>0 else np.nan)"
   ]
  },
  {
   "cell_type": "markdown",
   "metadata": {},
   "source": [
    "Let's choose just the schools where there are at least 60 records for acceptance/denial."
   ]
  },
  {
   "cell_type": "code",
   "execution_count": 130,
   "metadata": {
    "collapsed": false
   },
   "outputs": [],
   "source": [
    "mask_school = df_schools.notnull().sum(axis=0)\n",
    "df_schools2 = df_schools[mask_school[mask_school>60].index].copy()\n",
    "df_schools2 = df_schools2.fillna(value=0)"
   ]
  },
  {
   "cell_type": "code",
   "execution_count": 131,
   "metadata": {
    "collapsed": false
   },
   "outputs": [],
   "source": [
    "subset_schools = df_schools2.columns"
   ]
  },
  {
   "cell_type": "code",
   "execution_count": 63,
   "metadata": {
    "collapsed": false
   },
   "outputs": [],
   "source": [
    "# df_schools2.to_csv('../data/all_schools.csv')"
   ]
  },
  {
   "cell_type": "markdown",
   "metadata": {},
   "source": [
    "#### Step 7\n",
    "Join back with main df, and make any necessary adjustments"
   ]
  },
  {
   "cell_type": "code",
   "execution_count": 113,
   "metadata": {
    "collapsed": false
   },
   "outputs": [],
   "source": [
    "# df = df[df.columns[:-232]].copy()"
   ]
  },
  {
   "cell_type": "code",
   "execution_count": 134,
   "metadata": {
    "collapsed": false
   },
   "outputs": [],
   "source": [
    "# Join back with main df\n",
    "df = df.join(df_schools2)"
   ]
  },
  {
   "cell_type": "code",
   "execution_count": 68,
   "metadata": {
    "collapsed": false
   },
   "outputs": [
    {
     "name": "stdout",
     "output_type": "stream",
     "text": [
      "6614\n",
      "17639\n"
     ]
    }
   ],
   "source": [
    "print df['Undergraduate Schools Applied'].notnull().sum()\n",
    "print df['Undergraduate Schools Attended'].notnull().sum()"
   ]
  },
  {
   "cell_type": "markdown",
   "metadata": {},
   "source": [
    "There's another problem here- we just extracted info out of the 'Undergraduate Schools Applied' column, but it has far more null values than 'Undergraduate Schools Attended', which means we're currently missing out on a lot of potentially important data. Let's cover our bases by incorporating the data in the Attended column."
   ]
  },
  {
   "cell_type": "code",
   "execution_count": 136,
   "metadata": {
    "collapsed": false
   },
   "outputs": [],
   "source": [
    "for s in subset_schools:\n",
    "    df[s+'_v2'] = df['Undergraduate Schools Attended'].apply(lambda x: sc.extractAllFromAttended(x, s))"
   ]
  },
  {
   "cell_type": "markdown",
   "metadata": {},
   "source": [
    "Now for each school, let's combine the data from the two columns to get a final column."
   ]
  },
  {
   "cell_type": "code",
   "execution_count": 148,
   "metadata": {
    "collapsed": false
   },
   "outputs": [],
   "source": [
    "for s in subset_schools:\n",
    "    df[s+'_final'] = ((df[s] + df[s+'_v2'])>0).astype(int)"
   ]
  },
  {
   "cell_type": "code",
   "execution_count": 153,
   "metadata": {
    "collapsed": true
   },
   "outputs": [],
   "source": [
    "output_cols = [s+'_final' for s in subset_schools]\n",
    "output_cols.append('id')\n",
    "df_output = df[output_cols].copy()"
   ]
  },
  {
   "cell_type": "code",
   "execution_count": 156,
   "metadata": {
    "collapsed": false
   },
   "outputs": [],
   "source": [
    "df_output.to_csv('../data/all_schools.csv')"
   ]
  }
 ],
 "metadata": {
  "kernelspec": {
   "display_name": "Python 2",
   "language": "python",
   "name": "python2"
  },
  "language_info": {
   "codemirror_mode": {
    "name": "ipython",
    "version": 2
   },
   "file_extension": ".py",
   "mimetype": "text/x-python",
   "name": "python",
   "nbconvert_exporter": "python",
   "pygments_lexer": "ipython2",
   "version": "2.7.12"
  }
 },
 "nbformat": 4,
 "nbformat_minor": 0
}
