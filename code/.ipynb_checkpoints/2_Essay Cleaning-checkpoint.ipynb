{
 "cells": [
  {
   "cell_type": "markdown",
   "metadata": {},
   "source": [
    "# Cleaning Essay Text"
   ]
  },
  {
   "cell_type": "code",
   "execution_count": 2,
   "metadata": {
    "collapsed": false
   },
   "outputs": [],
   "source": [
    "import pandas as pd\n",
    "import numpy as np\n",
    "import matplotlib.pyplot as plt\n",
    "import re\n",
    "import essay_analysis as ea\n",
    "from collections import Counter\n",
    "%matplotlib inline"
   ]
  },
  {
   "cell_type": "code",
   "execution_count": 3,
   "metadata": {
    "collapsed": false
   },
   "outputs": [],
   "source": [
    "df = pd.read_csv('../data/master.csv', low_memory=False)"
   ]
  },
  {
   "cell_type": "markdown",
   "metadata": {},
   "source": [
    "### 3 Columns with Essay Data"
   ]
  },
  {
   "cell_type": "markdown",
   "metadata": {},
   "source": [
    "There are three columns that contain essay text:\n",
    "- 'Undergraduate Personal Statement'\n",
    "- 'Undergraduate Essay Details' \n",
    "- 'NEW Personal Statement'"
   ]
  },
  {
   "cell_type": "markdown",
   "metadata": {},
   "source": [
    "Let's rename these columns so they're easier to reference."
   ]
  },
  {
   "cell_type": "code",
   "execution_count": 4,
   "metadata": {
    "collapsed": false
   },
   "outputs": [],
   "source": [
    "old_cols = ['Undergraduate Personal Statement', 'Undergraduate Essay Details', 'NEW Personal Statement']\n",
    "ce = ea.CleanEssays()\n",
    "ce.updateEssayCols(df, old_cols)"
   ]
  },
  {
   "cell_type": "code",
   "execution_count": 5,
   "metadata": {
    "collapsed": false
   },
   "outputs": [
    {
     "name": "stdout",
     "output_type": "stream",
     "text": [
      "essay_c1 4829\n",
      "essay_c2 1488\n",
      "essay_c3 138\n"
     ]
    }
   ],
   "source": [
    "essay_cols = ['essay_c1','essay_c2','essay_c3']\n",
    "for col in essay_cols:\n",
    "    print col, df[col].notnull().sum()"
   ]
  },
  {
   "cell_type": "markdown",
   "metadata": {},
   "source": [
    "### Compute Word Counts"
   ]
  },
  {
   "cell_type": "markdown",
   "metadata": {},
   "source": [
    "Some entries might be spam or have multiple essays crammed into a single field, the 3 fields / spam data / multiple essays crammed into one field. Let's look at the word counts of each of these columns to get a better sense of what's going on."
   ]
  },
  {
   "cell_type": "code",
   "execution_count": 6,
   "metadata": {
    "collapsed": false
   },
   "outputs": [],
   "source": [
    "ce.updateWordCounts(df,essay_cols)"
   ]
  },
  {
   "cell_type": "code",
   "execution_count": 7,
   "metadata": {
    "collapsed": false
   },
   "outputs": [
    {
     "data": {
      "text/plain": [
       "(       wordcnt_essay_c1  wordcnt_essay_c2  wordcnt_essay_c3\n",
       " count       4829.000000       1488.000000        138.000000\n",
       " mean         434.138331        258.084005        620.050725\n",
       " std          316.843584        480.172369        539.457937\n",
       " min            0.000000          0.000000         15.000000\n",
       " 25%          138.000000         22.000000        218.000000\n",
       " 50%          500.000000         73.500000        630.500000\n",
       " 75%          639.000000        368.500000        720.000000\n",
       " max         9315.000000       9311.000000       2816.000000,\n",
       " <matplotlib.figure.Figure at 0x123431cd0>)"
      ]
     },
     "execution_count": 7,
     "metadata": {},
     "output_type": "execute_result"
    },
    {
     "data": {
      "image/png": "[encoded data removed]",
      "text/plain": [
       "<matplotlib.figure.Figure at 0x123431cd0>"
      ]
     },
     "metadata": {},
     "output_type": "display_data"
    }
   ],
   "source": [
    "wordcnt_cols = ['wordcnt_'+x for x in essay_cols]\n",
    "ce.wordCountStats(df, wordcnt_cols)"
   ]
  },
  {
   "cell_type": "markdown",
   "metadata": {},
   "source": [
    "A couple things strike as problematic:\n",
    "- Min = 0 or 1 for all three columns: we'll have to set some minimum num of words to filter out the spam and or rows with insufficient text\n",
    "- Max = almost 10k for essay_c1/essay_c2 and 2-3k for essay_c3: might be spam or multiple essays crammed into one entry."
   ]
  },
  {
   "cell_type": "markdown",
   "metadata": {},
   "source": [
    "### essay_c3"
   ]
  },
  {
   "cell_type": "markdown",
   "metadata": {},
   "source": [
    "Since there are only 138 entries in essay_c3, let's take a look at that first. A quick inspection shows that essay_c3's formatting is a little different from the other two columns. The rows we want take the following form:\n",
    "```\n",
    "[integers] [string] string\n",
    "repeat line for an unspecified [0,n] times\n",
    "Full Length Personal Statement\n",
    "*ESSAY TEXT*\n",
    "[integers] [string] string\n",
    "repeat line for an unspecified [0,n] times\n",
    "```\n",
    "Let's create a new column essay_c3_edit to store the cleaned essays from essay_c3."
   ]
  },
  {
   "cell_type": "code",
   "execution_count": 8,
   "metadata": {
    "collapsed": false
   },
   "outputs": [],
   "source": [
    "df['essay_c3_edit'] = df['essay_c3'].apply(lambda x: ce.cleanEssayC3(x) if not x is np.nan else x)"
   ]
  },
  {
   "cell_type": "markdown",
   "metadata": {},
   "source": [
    "### essay_c1 & essay_c2"
   ]
  },
  {
   "cell_type": "code",
   "execution_count": 9,
   "metadata": {
    "collapsed": false
   },
   "outputs": [
    {
     "data": {
      "text/plain": [
       "Full Length Personal Statement     4152\n",
       "Summary Of Personal Statement      1035\n",
       "Excerpt From Personal Statement     675\n",
       "Name: Undergraduate Personal Statement Type, dtype: int64"
      ]
     },
     "execution_count": 9,
     "metadata": {},
     "output_type": "execute_result"
    }
   ],
   "source": [
    "df['Undergraduate Personal Statement Type'].value_counts()"
   ]
  },
  {
   "cell_type": "code",
   "execution_count": 10,
   "metadata": {
    "collapsed": false
   },
   "outputs": [
    {
     "name": "stdout",
     "output_type": "stream",
     "text": [
      "Number of non-null rows where Type = Full Length Personal Statement\n",
      "\n",
      "essay_c1 3437\n",
      "essay_c2 1111\n",
      "essay_c3 0\n"
     ]
    }
   ],
   "source": [
    "print 'Number of non-null rows where Type = Full Length Personal Statement\\n'\n",
    "for c in essay_cols:\n",
    "    print c, df[df['Undergraduate Personal Statement Type']=='Full Length Personal Statement'][c].notnull().sum()"
   ]
  },
  {
   "cell_type": "code",
   "execution_count": 11,
   "metadata": {
    "collapsed": true
   },
   "outputs": [],
   "source": [
    "for old,new in zip(essay_cols, ['essay_c1_edit', 'essay_c2_edit']):\n",
    "    df[new] = df.apply(lambda x: x[old] if x['Undergraduate Personal Statement Type'] ==\n",
    "                       'Full Length Personal Statement' else np.nan, axis=1)"
   ]
  },
  {
   "cell_type": "markdown",
   "metadata": {},
   "source": [
    "### ASCII Characters"
   ]
  },
  {
   "cell_type": "markdown",
   "metadata": {},
   "source": [
    "There are a number of ASCII characters (like \\xe2\\x80\\x99) that we won't want to pass through our model later on, so let's fix this now. We could replace it with the corresponding symbol but it's easier to just remove them (minimal info is lost)."
   ]
  },
  {
   "cell_type": "code",
   "execution_count": 12,
   "metadata": {
    "collapsed": false
   },
   "outputs": [],
   "source": [
    "essay_cols_edit = ['essay_c1_edit', 'essay_c2_edit', 'essay_c3_edit']\n",
    "ce.removeASCII(df, essay_cols_edit)"
   ]
  },
  {
   "cell_type": "markdown",
   "metadata": {},
   "source": [
    "### Removing Extremes (word count)"
   ]
  },
  {
   "cell_type": "markdown",
   "metadata": {},
   "source": [
    "Anything less than 200 words should not be considered a full length essay. Let's take a closer look at the distribution of word count."
   ]
  },
  {
   "cell_type": "markdown",
   "metadata": {},
   "source": [
    "Based on inspection, after about 1100 words the rate of spam / gibberish goes up drastically. This makes sense- the longest essays are about 1000 words- it's unrealistic that someone would submit something longer than that."
   ]
  },
  {
   "cell_type": "code",
   "execution_count": 13,
   "metadata": {
    "collapsed": false
   },
   "outputs": [],
   "source": [
    "ce.removeExtremes(df, essay_cols_edit)"
   ]
  },
  {
   "cell_type": "code",
   "execution_count": 14,
   "metadata": {
    "collapsed": false
   },
   "outputs": [],
   "source": [
    "ce.updateWordCounts(df, essay_cols_edit)"
   ]
  },
  {
   "cell_type": "code",
   "execution_count": 15,
   "metadata": {
    "collapsed": false
   },
   "outputs": [
    {
     "data": {
      "text/plain": [
       "(       wordcnt_essay_c1_edit  wordcnt_essay_c2_edit  wordcnt_essay_c3_edit\n",
       " count            3109.000000             345.000000              57.000000\n",
       " mean              579.881956             580.408696             601.473684\n",
       " std               138.272086             248.703530             135.728209\n",
       " min               202.000000             202.000000             210.000000\n",
       " 25%               499.000000             383.000000             540.000000\n",
       " 50%               603.000000             543.000000             619.000000\n",
       " 75%               648.000000             739.000000             650.000000\n",
       " max              1094.000000            1098.000000            1029.000000,\n",
       " <matplotlib.figure.Figure at 0x118eadad0>)"
      ]
     },
     "execution_count": 15,
     "metadata": {},
     "output_type": "execute_result"
    },
    {
     "data": {
      "image/png": "[encoded data removed]",
      "text/plain": [
       "<matplotlib.figure.Figure at 0x118eadad0>"
      ]
     },
     "metadata": {},
     "output_type": "display_data"
    }
   ],
   "source": [
    "wordcnt_cols_edit = [x+'_edit' for x in wordcnt_cols]\n",
    "ce.wordCountStats(df, wordcnt_cols_edit)"
   ]
  },
  {
   "cell_type": "markdown",
   "metadata": {},
   "source": [
    "### Overlapping Data"
   ]
  },
  {
   "cell_type": "markdown",
   "metadata": {},
   "source": [
    "Now we're ready to take a look at where there is overlapping data (i.e. a row has data in more than one of these essay columns) and create some rule as to which column to keep."
   ]
  },
  {
   "cell_type": "code",
   "execution_count": 16,
   "metadata": {
    "collapsed": false
   },
   "outputs": [
    {
     "name": "stdout",
     "output_type": "stream",
     "text": [
      "The num of rows that contain both c1 and c2: 322\n",
      "The num of rows that contain both c1 and c3: 0\n",
      "The num of rows that contain both c2 and c3: 0\n"
     ]
    }
   ],
   "source": [
    "ce.checkOverlaps(df, essay_cols_edit)"
   ]
  },
  {
   "cell_type": "markdown",
   "metadata": {},
   "source": [
    "Great- we only have to deal with overlaps between c1 and c2. We'll have to create some rule to choose either one, since we cannot keep them both."
   ]
  },
  {
   "cell_type": "code",
   "execution_count": 17,
   "metadata": {
    "collapsed": false,
    "scrolled": true
   },
   "outputs": [
    {
     "name": "stdout",
     "output_type": "stream",
     "text": [
      "There are 169 entries where c1 > c2\n",
      "There are 142 entries where c1 < c2\n",
      "There are 11 entries where c1 = c2\n"
     ]
    }
   ],
   "source": [
    "print 'There are {} entries where c1 > c2'.format(\n",
    "    df[df['wordcnt_essay_c1_edit']>df['wordcnt_essay_c2_edit']]['wordcnt_essay_c1_edit'].count())\n",
    "\n",
    "print 'There are {} entries where c1 < c2'.format(\n",
    "    df[df['wordcnt_essay_c2_edit']>df['wordcnt_essay_c1_edit']]['wordcnt_essay_c2_edit'].count())\n",
    "\n",
    "print 'There are {} entries where c1 = c2'.format(\n",
    "    df[df['wordcnt_essay_c1_edit']==df['wordcnt_essay_c2_edit']]['wordcnt_essay_c1_edit'].count())"
   ]
  },
  {
   "cell_type": "markdown",
   "metadata": {},
   "source": [
    "##### Case 1: c1 > c2"
   ]
  },
  {
   "cell_type": "code",
   "execution_count": 18,
   "metadata": {
    "collapsed": false
   },
   "outputs": [
    {
     "data": {
      "text/html": [
       "<div>\n",
       "<table border=\"1\" class=\"dataframe\">\n",
       "  <thead>\n",
       "    <tr style=\"text-align: right;\">\n",
       "      <th></th>\n",
       "      <th>wordcnt_essay_c1_edit</th>\n",
       "      <th>wordcnt_essay_c2_edit</th>\n",
       "    </tr>\n",
       "  </thead>\n",
       "  <tbody>\n",
       "    <tr>\n",
       "      <th>count</th>\n",
       "      <td>169.000000</td>\n",
       "      <td>169.000000</td>\n",
       "    </tr>\n",
       "    <tr>\n",
       "      <th>mean</th>\n",
       "      <td>609.520710</td>\n",
       "      <td>409.189349</td>\n",
       "    </tr>\n",
       "    <tr>\n",
       "      <th>std</th>\n",
       "      <td>120.247715</td>\n",
       "      <td>145.738185</td>\n",
       "    </tr>\n",
       "    <tr>\n",
       "      <th>min</th>\n",
       "      <td>237.000000</td>\n",
       "      <td>202.000000</td>\n",
       "    </tr>\n",
       "    <tr>\n",
       "      <th>25%</th>\n",
       "      <td>535.000000</td>\n",
       "      <td>278.000000</td>\n",
       "    </tr>\n",
       "    <tr>\n",
       "      <th>50%</th>\n",
       "      <td>635.000000</td>\n",
       "      <td>398.000000</td>\n",
       "    </tr>\n",
       "    <tr>\n",
       "      <th>75%</th>\n",
       "      <td>650.000000</td>\n",
       "      <td>501.000000</td>\n",
       "    </tr>\n",
       "    <tr>\n",
       "      <th>max</th>\n",
       "      <td>995.000000</td>\n",
       "      <td>984.000000</td>\n",
       "    </tr>\n",
       "  </tbody>\n",
       "</table>\n",
       "</div>"
      ],
      "text/plain": [
       "       wordcnt_essay_c1_edit  wordcnt_essay_c2_edit\n",
       "count             169.000000             169.000000\n",
       "mean              609.520710             409.189349\n",
       "std               120.247715             145.738185\n",
       "min               237.000000             202.000000\n",
       "25%               535.000000             278.000000\n",
       "50%               635.000000             398.000000\n",
       "75%               650.000000             501.000000\n",
       "max               995.000000             984.000000"
      ]
     },
     "execution_count": 18,
     "metadata": {},
     "output_type": "execute_result"
    }
   ],
   "source": [
    "df[df['wordcnt_essay_c1_edit']>df['wordcnt_essay_c2_edit']][['wordcnt_essay_c1_edit','wordcnt_essay_c2_edit']].describe()"
   ]
  },
  {
   "cell_type": "code",
   "execution_count": 19,
   "metadata": {
    "collapsed": false
   },
   "outputs": [],
   "source": [
    "# for i in [1,2]:\n",
    "#     print df[df['wordcnt_essay_c1_edit']>df['wordcnt_essay_c2_edit']]['essay_c{}_edit'.format(i)].values[-1]\n",
    "#     print '*'*40"
   ]
  },
  {
   "cell_type": "markdown",
   "metadata": {},
   "source": [
    "From visual inspection of both the first and last 30 or so essays, essay_c1 holds the data for the personal statement, while essay_c1 holds the data for supplemental essays / essay description / etc."
   ]
  },
  {
   "cell_type": "markdown",
   "metadata": {},
   "source": [
    "##### Case 2: c2 < c1"
   ]
  },
  {
   "cell_type": "code",
   "execution_count": 20,
   "metadata": {
    "collapsed": false
   },
   "outputs": [
    {
     "data": {
      "text/html": [
       "<div>\n",
       "<table border=\"1\" class=\"dataframe\">\n",
       "  <thead>\n",
       "    <tr style=\"text-align: right;\">\n",
       "      <th></th>\n",
       "      <th>wordcnt_essay_c1_edit</th>\n",
       "      <th>wordcnt_essay_c2_edit</th>\n",
       "    </tr>\n",
       "  </thead>\n",
       "  <tbody>\n",
       "    <tr>\n",
       "      <th>count</th>\n",
       "      <td>142.000000</td>\n",
       "      <td>142.000000</td>\n",
       "    </tr>\n",
       "    <tr>\n",
       "      <th>mean</th>\n",
       "      <td>542.908451</td>\n",
       "      <td>780.676056</td>\n",
       "    </tr>\n",
       "    <tr>\n",
       "      <th>std</th>\n",
       "      <td>117.965610</td>\n",
       "      <td>201.700626</td>\n",
       "    </tr>\n",
       "    <tr>\n",
       "      <th>min</th>\n",
       "      <td>216.000000</td>\n",
       "      <td>308.000000</td>\n",
       "    </tr>\n",
       "    <tr>\n",
       "      <th>25%</th>\n",
       "      <td>487.250000</td>\n",
       "      <td>607.500000</td>\n",
       "    </tr>\n",
       "    <tr>\n",
       "      <th>50%</th>\n",
       "      <td>562.000000</td>\n",
       "      <td>781.500000</td>\n",
       "    </tr>\n",
       "    <tr>\n",
       "      <th>75%</th>\n",
       "      <td>639.000000</td>\n",
       "      <td>963.750000</td>\n",
       "    </tr>\n",
       "    <tr>\n",
       "      <th>max</th>\n",
       "      <td>994.000000</td>\n",
       "      <td>1098.000000</td>\n",
       "    </tr>\n",
       "  </tbody>\n",
       "</table>\n",
       "</div>"
      ],
      "text/plain": [
       "       wordcnt_essay_c1_edit  wordcnt_essay_c2_edit\n",
       "count             142.000000             142.000000\n",
       "mean              542.908451             780.676056\n",
       "std               117.965610             201.700626\n",
       "min               216.000000             308.000000\n",
       "25%               487.250000             607.500000\n",
       "50%               562.000000             781.500000\n",
       "75%               639.000000             963.750000\n",
       "max               994.000000            1098.000000"
      ]
     },
     "execution_count": 20,
     "metadata": {},
     "output_type": "execute_result"
    }
   ],
   "source": [
    "df[df['wordcnt_essay_c1_edit']<df['wordcnt_essay_c2_edit']][['wordcnt_essay_c1_edit','wordcnt_essay_c2_edit']].describe()"
   ]
  },
  {
   "cell_type": "code",
   "execution_count": 65,
   "metadata": {
    "collapsed": false,
    "scrolled": false
   },
   "outputs": [],
   "source": [
    "# for i in [1,2]:\n",
    "#     print df[df['wordcnt_essay_c1_edit']<df['wordcnt_essay_c2_edit']]['essay_c{}_edit'.format(i)].values[0]\n",
    "#     print '*'*40"
   ]
  },
  {
   "cell_type": "markdown",
   "metadata": {},
   "source": [
    "Similar to Case 1 above, from visual inspection of both the first and last 30 or so essays, essay_c1 holds the data for the personal statement, while essay_c1 holds the data for supplemental essays / essay description / etc."
   ]
  },
  {
   "cell_type": "markdown",
   "metadata": {},
   "source": [
    "##### Case 3: c1 = c2"
   ]
  },
  {
   "cell_type": "code",
   "execution_count": 21,
   "metadata": {
    "collapsed": false
   },
   "outputs": [
    {
     "data": {
      "text/plain": [
       "2146     I used to overlook the importance of little th...\n",
       "2156     I love food. And I come from a family where ev...\n",
       "3104         Next year, I will be attending the Univers...\n",
       "3832     The phrase, “the good life”, from my point of ...\n",
       "3981     After numerous negative outcomes, why would so...\n",
       "4305     My goal is to attain a career where I can use ...\n",
       "6491     Depression is never an easy or comfortable top...\n",
       "7326     Shout it from the Rooftops\\n“I’m not voting fo...\n",
       "8592     I never knew pain so palpable. The shock, the ...\n",
       "9892     My first option was to go home, an option that...\n",
       "10059    From the time I was able to realize what a uni...\n",
       "Name: essay_c1, dtype: object"
      ]
     },
     "execution_count": 21,
     "metadata": {},
     "output_type": "execute_result"
    }
   ],
   "source": [
    "df[df['wordcnt_essay_c1_edit']==df['wordcnt_essay_c2_edit']]['essay_c1']"
   ]
  },
  {
   "cell_type": "code",
   "execution_count": 26,
   "metadata": {
    "collapsed": false
   },
   "outputs": [
    {
     "data": {
      "text/plain": [
       "2146     I used to overlook the importance of little th...\n",
       "2156     I love food. And I come from a family where ev...\n",
       "3104         Next year, I will be attending the Univers...\n",
       "3832     The phrase, “the good life”, from my point of ...\n",
       "3981     After numerous negative outcomes, why would so...\n",
       "4305     My goal is to attain a career where I can use ...\n",
       "6491     Depression is never an easy or comfortable top...\n",
       "7326     Shout it from the Rooftops\\n“I’m not voting fo...\n",
       "8592     I never knew pain so palpable. The shock, the ...\n",
       "9892     My first option was to go home, an option that...\n",
       "10059    From the time I was able to realize what a uni...\n",
       "Name: essay_c2, dtype: object"
      ]
     },
     "execution_count": 26,
     "metadata": {},
     "output_type": "execute_result"
    }
   ],
   "source": [
    "df[df['wordcnt_essay_c1_edit']==df['wordcnt_essay_c2_edit']]['essay_c2']"
   ]
  },
  {
   "cell_type": "markdown",
   "metadata": {},
   "source": [
    "Looks like the essays are identical if wordcount(c1) = wordcount(c2)"
   ]
  },
  {
   "cell_type": "markdown",
   "metadata": {},
   "source": [
    "##### Decision Rule for Overlaps"
   ]
  },
  {
   "cell_type": "markdown",
   "metadata": {},
   "source": [
    "In all three cases, c1 is more likely to contain the personal statement, while c2 is more likely to be a supplemental essay / description. A decision rule can then be set in place to keep just the c1 essays in the overlapping cases. In other words, let's set c2 to NaN for these cases. We should keep in mind, however, that this is not strictly true, and may potentially cause minor problems to our analysis later on."
   ]
  },
  {
   "cell_type": "code",
   "execution_count": 22,
   "metadata": {
    "collapsed": false
   },
   "outputs": [],
   "source": [
    "ce.removeOverlaps(df, ['essay_c1_edit','essay_c2_edit'], keep_col = 'essay_c1_edit')"
   ]
  },
  {
   "cell_type": "code",
   "execution_count": 23,
   "metadata": {
    "collapsed": false
   },
   "outputs": [
    {
     "name": "stdout",
     "output_type": "stream",
     "text": [
      "The num of rows that contain both c1 and c2: 0\n",
      "The num of rows that contain both c1 and c3: 0\n",
      "The num of rows that contain both c2 and c3: 0\n"
     ]
    }
   ],
   "source": [
    "ce.checkOverlaps(df, essay_cols_edit)"
   ]
  },
  {
   "cell_type": "markdown",
   "metadata": {},
   "source": [
    "Great! Let's do a quick check of our many non-null essay entries we have across the three columns."
   ]
  },
  {
   "cell_type": "code",
   "execution_count": 24,
   "metadata": {
    "collapsed": false
   },
   "outputs": [
    {
     "data": {
      "text/plain": [
       "essay_c1_edit    3109\n",
       "essay_c2_edit      23\n",
       "essay_c3_edit      57\n",
       "dtype: int64"
      ]
     },
     "execution_count": 24,
     "metadata": {},
     "output_type": "execute_result"
    }
   ],
   "source": [
    "df[essay_cols_edit].notnull().sum(axis=0)"
   ]
  },
  {
   "cell_type": "markdown",
   "metadata": {},
   "source": [
    "### Final Checks"
   ]
  },
  {
   "cell_type": "markdown",
   "metadata": {},
   "source": [
    "Let's now store these good essays into a new column labeled 'essay_final'"
   ]
  },
  {
   "cell_type": "code",
   "execution_count": 25,
   "metadata": {
    "collapsed": true
   },
   "outputs": [],
   "source": [
    "reload(ea)\n",
    "ce = ea.CleanEssays()"
   ]
  },
  {
   "cell_type": "code",
   "execution_count": 26,
   "metadata": {
    "collapsed": false
   },
   "outputs": [],
   "source": [
    "df['essay_final'] = df.apply(lambda x: ce.consolidateEssays(x, essay_cols_edit), axis=1)"
   ]
  },
  {
   "cell_type": "markdown",
   "metadata": {},
   "source": [
    "Doing a final check to ensure we have no duplicates."
   ]
  },
  {
   "cell_type": "code",
   "execution_count": 27,
   "metadata": {
    "collapsed": false,
    "scrolled": true
   },
   "outputs": [
    {
     "data": {
      "text/plain": [
       "count                                                  3189\n",
       "unique                                                 3177\n",
       "top       Life is never easy everyone has realized that ...\n",
       "freq                                                      5\n",
       "Name: essay_final, dtype: object"
      ]
     },
     "execution_count": 27,
     "metadata": {},
     "output_type": "execute_result"
    }
   ],
   "source": [
    "df['essay_final'].describe()"
   ]
  },
  {
   "cell_type": "markdown",
   "metadata": {},
   "source": [
    "Looks like we have a handful of duplicates (count != unique) - let's remove them."
   ]
  },
  {
   "cell_type": "code",
   "execution_count": 28,
   "metadata": {
    "collapsed": false
   },
   "outputs": [],
   "source": [
    "ce.removeDuplicates(df, 'essay_final')"
   ]
  },
  {
   "cell_type": "code",
   "execution_count": 29,
   "metadata": {
    "collapsed": false
   },
   "outputs": [
    {
     "data": {
      "text/plain": [
       "count                                                  3177\n",
       "unique                                                 3177\n",
       "top       Every Thursday night at the Recreation center,...\n",
       "freq                                                      1\n",
       "Name: essay_final, dtype: object"
      ]
     },
     "execution_count": 29,
     "metadata": {},
     "output_type": "execute_result"
    }
   ],
   "source": [
    "df['essay_final'].describe()"
   ]
  },
  {
   "cell_type": "markdown",
   "metadata": {},
   "source": [
    "Great, let's do one more boxplot to make sure our data is good, then export."
   ]
  },
  {
   "cell_type": "code",
   "execution_count": 30,
   "metadata": {
    "collapsed": false
   },
   "outputs": [
    {
     "data": {
      "text/plain": [
       "(       wordcnt_essay_final\n",
       " count          3177.000000\n",
       " mean            580.992446\n",
       " std             138.608397\n",
       " min             202.000000\n",
       " 25%             499.000000\n",
       " 50%             604.000000\n",
       " 75%             648.000000\n",
       " max            1094.000000, <matplotlib.figure.Figure at 0x11a156910>)"
      ]
     },
     "execution_count": 30,
     "metadata": {},
     "output_type": "execute_result"
    },
    {
     "data": {
      "image/png": "[encoded data removed]",
      "text/plain": [
       "<matplotlib.figure.Figure at 0x11a156910>"
      ]
     },
     "metadata": {},
     "output_type": "display_data"
    }
   ],
   "source": [
    "ce.updateWordCounts(df, ['essay_final'])\n",
    "ce.wordCountStats(df, ['wordcnt_essay_final'], width=4, length=4)"
   ]
  },
  {
   "cell_type": "markdown",
   "metadata": {},
   "source": [
    "We're ready for our final export now."
   ]
  },
  {
   "cell_type": "markdown",
   "metadata": {},
   "source": [
    "### Finally, Export."
   ]
  },
  {
   "cell_type": "code",
   "execution_count": 32,
   "metadata": {
    "collapsed": true
   },
   "outputs": [],
   "source": [
    "df.to_csv('../data/master_essay.csv')"
   ]
  }
 ],
 "metadata": {
  "kernelspec": {
   "display_name": "Python 2",
   "language": "python",
   "name": "python2"
  },
  "language_info": {
   "codemirror_mode": {
    "name": "ipython",
    "version": 2
   },
   "file_extension": ".py",
   "mimetype": "text/x-python",
   "name": "python",
   "nbconvert_exporter": "python",
   "pygments_lexer": "ipython2",
   "version": "2.7.12"
  }
 },
 "nbformat": 4,
 "nbformat_minor": 0
}
