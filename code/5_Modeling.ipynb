{
 "cells": [
  {
   "cell_type": "code",
   "execution_count": 223,
   "metadata": {
    "collapsed": true
   },
   "outputs": [],
   "source": [
    "import pandas as pd\n",
    "import numpy as np\n",
    "import matplotlib.pyplot as plt\n",
    "import seaborn as sns\n",
    "import re\n",
    "from collections import Counter, defaultdict\n",
    "from sklearn.cross_validation import train_test_split\n",
    "from sklearn.linear_model import LogisticRegression\n",
    "from sklearn.ensemble import RandomForestClassifier\n",
    "from sklearn.grid_search import GridSearchCV\n",
    "from sklearn.preprocessing import StandardScaler\n",
    "import statsmodels.api as sm\n",
    "import exploratory_analysis as ea\n",
    "%matplotlib inline"
   ]
  },
  {
   "cell_type": "code",
   "execution_count": 75,
   "metadata": {
    "collapsed": false
   },
   "outputs": [],
   "source": [
    "df = pd.read_csv('../data/train.csv', low_memory=False)\n",
    "y = df.pop('top_school_final')"
   ]
  },
  {
   "cell_type": "code",
   "execution_count": 76,
   "metadata": {
    "collapsed": false
   },
   "outputs": [],
   "source": [
    "df, df_valid, y, y_valid = train_test_split(df, y, random_state=123)"
   ]
  },
  {
   "cell_type": "markdown",
   "metadata": {},
   "source": [
    "### Clean SAT"
   ]
  },
  {
   "cell_type": "code",
   "execution_count": 77,
   "metadata": {
    "collapsed": true
   },
   "outputs": [],
   "source": [
    "df['Highest Composite SAT Score'] = df['Highest Composite SAT Score'].apply(lambda x: None if x>2400 or x<600 else x)"
   ]
  },
  {
   "cell_type": "code",
   "execution_count": 78,
   "metadata": {
    "collapsed": false,
    "scrolled": false
   },
   "outputs": [],
   "source": [
    "df['SAT_total_temp'] = df['Highest SAT Scores'].apply(lambda x: ea.parseSAT(x) if type(x)==str else x)"
   ]
  },
  {
   "cell_type": "code",
   "execution_count": 79,
   "metadata": {
    "collapsed": true
   },
   "outputs": [],
   "source": [
    "ea.finalizeSAT(df)"
   ]
  },
  {
   "cell_type": "code",
   "execution_count": 80,
   "metadata": {
    "collapsed": false
   },
   "outputs": [],
   "source": [
    "SAT_median = df['SAT_total_final'].median()\n",
    "df['SAT_total_final'].fillna(value=SAT_median, inplace=True)"
   ]
  },
  {
   "cell_type": "markdown",
   "metadata": {},
   "source": [
    "### SAT (times taken)"
   ]
  },
  {
   "cell_type": "code",
   "execution_count": 81,
   "metadata": {
    "collapsed": true
   },
   "outputs": [],
   "source": [
    "df['SAT_times_taken'] = df['How many times did you take the official SAT?'].copy()"
   ]
  },
  {
   "cell_type": "code",
   "execution_count": 82,
   "metadata": {
    "collapsed": true
   },
   "outputs": [],
   "source": [
    "SAT_times_median = df['SAT_times_taken'].median()\n",
    "df['SAT_times_taken'].fillna(value=SAT_times_median, inplace=True)"
   ]
  },
  {
   "cell_type": "markdown",
   "metadata": {},
   "source": [
    "### Clean High School GPA"
   ]
  },
  {
   "cell_type": "code",
   "execution_count": 83,
   "metadata": {
    "collapsed": true
   },
   "outputs": [],
   "source": [
    "df['High School GPA'] = df['High School GPA'].apply(lambda x: np.nan if x==0 or x>100 else x)"
   ]
  },
  {
   "cell_type": "code",
   "execution_count": 84,
   "metadata": {
    "collapsed": true
   },
   "outputs": [],
   "source": [
    "df['High School GPA'] = df['High School GPA'].apply(lambda x: np.nan if x<=2 else x)"
   ]
  },
  {
   "cell_type": "code",
   "execution_count": 85,
   "metadata": {
    "collapsed": true
   },
   "outputs": [],
   "source": [
    "GPA_median = df[df['High School GPA']<=4]['High School GPA'].median()\n",
    "df['High School GPA'] = df['High School GPA'].apply(lambda x: GPA_median if x>4 else x)"
   ]
  },
  {
   "cell_type": "code",
   "execution_count": 86,
   "metadata": {
    "collapsed": true
   },
   "outputs": [],
   "source": [
    "df['High School GPA'].fillna(value=GPA_median, inplace=True)"
   ]
  },
  {
   "cell_type": "markdown",
   "metadata": {},
   "source": [
    "### Gender"
   ]
  },
  {
   "cell_type": "code",
   "execution_count": 87,
   "metadata": {
    "collapsed": true
   },
   "outputs": [],
   "source": [
    "df['Male'] = df['Gender'].apply(lambda x: 1 if x=='Male' else 0)"
   ]
  },
  {
   "cell_type": "markdown",
   "metadata": {},
   "source": [
    "### Ethnicity"
   ]
  },
  {
   "cell_type": "code",
   "execution_count": 88,
   "metadata": {
    "collapsed": false,
    "scrolled": false
   },
   "outputs": [],
   "source": [
    "df['Ethnicity2'] = df['Ethnicity'].apply(lambda x: ea.parseEthnicity(x) if type(x)==str else x)"
   ]
  },
  {
   "cell_type": "code",
   "execution_count": 89,
   "metadata": {
    "collapsed": true
   },
   "outputs": [],
   "source": [
    "df['Ethnicity_Asian'] = df['Ethnicity2'].apply(lambda x: 1 if type(x)==list and 'asian' in x else 0)\n",
    "df['Ethnicity_Black'] = df['Ethnicity2'].apply(lambda x: 1 if type(x)==list and 'black / african american' in x else 0)\n",
    "df['Ethnicity_Hispanic'] = df['Ethnicity2'].apply(lambda x: 1 if type(x)==list and 'hispanic' in x else 0)\n",
    "df['Ethnicity_White'] = df['Ethnicity2'].apply(lambda x: 1 if type(x)==list and 'white non-hispanic' in x else 0)\n",
    "df['Ethnicity_Pacific'] = df['Ethnicity2'].apply(lambda x: 1 if type(x)==list and 'native hawaiian / pacific islander' in x else 0)\n",
    "df['Ethnicity_NativeAm'] = df['Ethnicity2'].apply(lambda x: 1 if type(x)==list and 'native american' in x else 0)"
   ]
  },
  {
   "cell_type": "markdown",
   "metadata": {},
   "source": [
    "### High School Activities / Leadership / Honors"
   ]
  },
  {
   "cell_type": "code",
   "execution_count": 90,
   "metadata": {
    "collapsed": true
   },
   "outputs": [],
   "source": [
    "leader_words = ['leader','president','founder']\n",
    "arts_words = ['arts', 'music', 'jazz', 'band', 'orchestra', 'choir', 'drama', 'theater']\n",
    "award_words = ['award', 'scholarship', 'achievement', 'prize']\n",
    "community_words = ['volunteer', 'community','cleanup', 'ngo', 'environment', 'humanity','green', 'charity']\n",
    "academic_words = ['science', 'math', 'engineering']\n",
    "gov_words = ['debate', 'model', 'government']\n",
    "diversity_words = ['alliance', 'multicultural', 'diversity']\n",
    "race_words = ['naacp','asian','jewish','german','french','japanese','italian','chinese']"
   ]
  },
  {
   "cell_type": "code",
   "execution_count": 91,
   "metadata": {
    "collapsed": true
   },
   "outputs": [],
   "source": [
    "ecc_colnames = ['leader','arts','award','community','academic','gov','diversity','race_ecc']\n",
    "ecc_words = [leader_words, arts_words, award_words, community_words, academic_words, gov_words, diversity_words, race_words]\n",
    "for colname, words in zip(ecc_colnames, ecc_words):\n",
    "    df[colname] = df['High School Extracurricular Activities'].apply(lambda x: ea.parseECC(x, words))"
   ]
  },
  {
   "cell_type": "markdown",
   "metadata": {},
   "source": [
    "### Sports"
   ]
  },
  {
   "cell_type": "code",
   "execution_count": 92,
   "metadata": {
    "collapsed": false,
    "scrolled": false
   },
   "outputs": [],
   "source": [
    "all_sports = list(df['High School Sports Played'].apply(ea.getAllSports))\n",
    "unique_sports = ea.getUniqueSports(all_sports)"
   ]
  },
  {
   "cell_type": "code",
   "execution_count": 93,
   "metadata": {
    "collapsed": true
   },
   "outputs": [],
   "source": [
    "# Initialize dummy variables for each sport category, set to 0s.\n",
    "ea.makeSportsDummies(df, unique_sports)"
   ]
  },
  {
   "cell_type": "code",
   "execution_count": 94,
   "metadata": {
    "collapsed": false
   },
   "outputs": [],
   "source": [
    "# Fill in the dummy variables for each sport category accordingly (1 if that sport was played)\n",
    "ea.parseSports(df, unique_sports)"
   ]
  },
  {
   "cell_type": "code",
   "execution_count": 95,
   "metadata": {
    "collapsed": false
   },
   "outputs": [],
   "source": [
    "# Create a varsity dummy variable that indicates if someone played sports at a varsity level\n",
    "df['sportsVarsity'] = df['High School Sports Played'].apply(lambda x: ea.parseVarsity(x, unique_sports))\n",
    "# Create a varsity dummy variable that indicates if someone was a captain of a sport\n",
    "df['sportsCaptain'] = df['High School Sports Played'].apply(lambda x: ea.parseCaptain(x, unique_sports))"
   ]
  },
  {
   "cell_type": "markdown",
   "metadata": {},
   "source": [
    "### Home Country"
   ]
  },
  {
   "cell_type": "code",
   "execution_count": 96,
   "metadata": {
    "collapsed": false
   },
   "outputs": [],
   "source": [
    "df['Home Country'] = df['Home Country'].apply(lambda x:re.search('[[]\\S+[]]\\s[[]\\S+[]]\\s(.+)', x).group(1)\n",
    "                                              if type(x)==str else x)"
   ]
  },
  {
   "cell_type": "code",
   "execution_count": 97,
   "metadata": {
    "collapsed": true
   },
   "outputs": [],
   "source": [
    "df['Home Country_US'] = df['Home Country'].apply(lambda x: 1 if x=='United States' else 0)"
   ]
  },
  {
   "cell_type": "markdown",
   "metadata": {},
   "source": [
    "### Academic Performance in HS"
   ]
  },
  {
   "cell_type": "code",
   "execution_count": 98,
   "metadata": {
    "collapsed": false
   },
   "outputs": [],
   "source": [
    "df = pd.get_dummies(df,columns=['Academic Performance in High School'], prefix='HS')"
   ]
  },
  {
   "cell_type": "markdown",
   "metadata": {
    "collapsed": true
   },
   "source": [
    "### Final Columns"
   ]
  },
  {
   "cell_type": "code",
   "execution_count": 220,
   "metadata": {
    "collapsed": true
   },
   "outputs": [],
   "source": [
    "def getFinalCols(df):\n",
    "    final_cols = ['SAT_total_final', 'SAT_times_taken', 'High School GPA', 'Male', 'leader', 'arts', 'award',\n",
    "                  'community','academic','gov','diversity','race_ecc','Home Country_US','sportsVarsity','sportsCaptain']\n",
    "\n",
    "    ethnicity_cols = [col for col in df.columns if col.find('Ethnicity_')>-1]\n",
    "    HS_perf_cols = [col for col in df.columns if col.find('HS_')>-1]\n",
    "#     sports_cols = [col for col in df.columns if col.find('sports_')>-1]\n",
    "#     sports_cols.extend(['sportsVarsity', 'sportsCaptain'])\n",
    "#     essay_cols = ['essay_topic'+str(i) for i in range(1,8)]\n",
    "\n",
    "    final_cols.extend(ethnicity_cols)\n",
    "    final_cols.extend(HS_perf_cols)\n",
    "#     final_cols.extend(sports_cols)\n",
    "#     final_cols.extend(essay_cols)\n",
    "    return final_cols"
   ]
  },
  {
   "cell_type": "code",
   "execution_count": 221,
   "metadata": {
    "collapsed": false
   },
   "outputs": [],
   "source": [
    "final_cols = getFinalCols(df)"
   ]
  },
  {
   "cell_type": "markdown",
   "metadata": {},
   "source": [
    "### StandardScale"
   ]
  },
  {
   "cell_type": "code",
   "execution_count": 61,
   "metadata": {
    "collapsed": false
   },
   "outputs": [],
   "source": [
    "scaler = StandardScaler()\n",
    "# df = pd.DataFrame(scaler.fit_transform(df[final_cols]), columns=final_cols)"
   ]
  },
  {
   "cell_type": "markdown",
   "metadata": {},
   "source": [
    "# Modeling: Identifying Important Variables"
   ]
  },
  {
   "cell_type": "markdown",
   "metadata": {},
   "source": [
    "### Shrinking beta coefficients to 0 using L1 regularization (Logistic Regression) in sklearn"
   ]
  },
  {
   "cell_type": "code",
   "execution_count": 251,
   "metadata": {
    "collapsed": true
   },
   "outputs": [],
   "source": [
    "def getBetas(df, y, alphas):\n",
    "    scaler = StandardScaler()\n",
    "    X_scaled = scaler.fit_transform(df)\n",
    "    \n",
    "    betas = []\n",
    "    for a in alphas:\n",
    "        lr = LogisticRegression(penalty='l1', C=a)\n",
    "        lr.fit(X_scaled, y)\n",
    "        betas.append(lr.coef_[0])  \n",
    "    \n",
    "    return betas"
   ]
  },
  {
   "cell_type": "code",
   "execution_count": 252,
   "metadata": {
    "collapsed": false,
    "scrolled": false
   },
   "outputs": [],
   "source": [
    "alphas = np.logspace(4,-2,10)\n",
    "betas = getBetas(df[final_cols], y, alphas)"
   ]
  },
  {
   "cell_type": "code",
   "execution_count": 256,
   "metadata": {
    "collapsed": false
   },
   "outputs": [
    {
     "data": {
      "text/plain": [
       "<matplotlib.text.Text at 0x118e69510>"
      ]
     },
     "execution_count": 256,
     "metadata": {},
     "output_type": "execute_result"
    },
    {
     "data": {
      "image/png": "[encoded data removed]",
      "text/plain": [
       "<matplotlib.figure.Figure at 0x129218e90>"
      ]
     },
     "metadata": {},
     "output_type": "display_data"
    }
   ],
   "source": [
    "betas_t = np.array(betas).T\n",
    "\n",
    "fig = plt.figure(figsize=(15,8))\n",
    "for i,b in enumerate(betas_t):\n",
    "    plt.plot(alphas[::-1], b, label=final_cols[i])\n",
    "plt.legend(ncol=4)\n",
    "plt.title('L1 Regularization Effect on Beta Coefficients', fontdict={'fontsize':20, 'fontweight':'bold'})\n",
    "plt.xlabel('Regularization')\n",
    "plt.ylabel('Beta Coefficient')"
   ]
  },
  {
   "cell_type": "code",
   "execution_count": 272,
   "metadata": {
    "collapsed": false
   },
   "outputs": [
    {
     "name": "stdout",
     "output_type": "stream",
     "text": [
      "['SAT_total_final', 'SAT_times_taken', 'High School GPA', 'Male', 'leader', 'arts', 'award', 'academic', 'gov', 'sportsVarsity', 'sportsCaptain', 'Ethnicity_Asian', 'Ethnicity_Black', 'Ethnicity_White', 'HS_Low at first but improved', 'HS_Low one semester/year', 'HS_Some good some bad', 'HS_Steady']\n"
     ]
    }
   ],
   "source": [
    "goodcols = []\n",
    "for i,val in enumerate(betas[-2]):\n",
    "    if (abs(val)>0.005):\n",
    "        goodcols.append(final_cols[i])\n",
    "print goodcols"
   ]
  },
  {
   "cell_type": "markdown",
   "metadata": {},
   "source": [
    "#### Using statsmodel.api"
   ]
  },
  {
   "cell_type": "markdown",
   "metadata": {},
   "source": [
    "Now let's re-run the logistic regression (only using goodcols) using statsmodels.api and identify the less informative variables. We arbitrarily set a p value of 0.05 as a cutoff point."
   ]
  },
  {
   "cell_type": "code",
   "execution_count": 267,
   "metadata": {
    "collapsed": false
   },
   "outputs": [
    {
     "name": "stdout",
     "output_type": "stream",
     "text": [
      "Optimization terminated successfully.\n",
      "         Current function value: 0.325080\n",
      "         Iterations 7\n"
     ]
    },
    {
     "data": {
      "text/html": [
       "<table class=\"simpletable\">\n",
       "<caption>Logit Regression Results</caption>\n",
       "<tr>\n",
       "  <th>Dep. Variable:</th> <td>top_school_final</td> <th>  No. Observations:  </th>   <td>  9693</td>  \n",
       "</tr>\n",
       "<tr>\n",
       "  <th>Model:</th>               <td>Logit</td>      <th>  Df Residuals:      </th>   <td>  9675</td>  \n",
       "</tr>\n",
       "<tr>\n",
       "  <th>Method:</th>               <td>MLE</td>       <th>  Df Model:          </th>   <td>    17</td>  \n",
       "</tr>\n",
       "<tr>\n",
       "  <th>Date:</th>          <td>Wed, 16 Nov 2016</td> <th>  Pseudo R-squ.:     </th>   <td>0.1772</td>  \n",
       "</tr>\n",
       "<tr>\n",
       "  <th>Time:</th>              <td>13:27:18</td>     <th>  Log-Likelihood:    </th>  <td> -3151.0</td> \n",
       "</tr>\n",
       "<tr>\n",
       "  <th>converged:</th>           <td>True</td>       <th>  LL-Null:           </th>  <td> -3829.7</td> \n",
       "</tr>\n",
       "<tr>\n",
       "  <th> </th>                      <td> </td>        <th>  LLR p-value:       </th> <td>2.163e-278</td>\n",
       "</tr>\n",
       "</table>\n",
       "<table class=\"simpletable\">\n",
       "<tr>\n",
       "                <td></td>                  <th>coef</th>     <th>std err</th>      <th>z</th>      <th>P>|z|</th> <th>[95.0% Conf. Int.]</th> \n",
       "</tr>\n",
       "<tr>\n",
       "  <th>SAT_total_final</th>              <td>    0.0029</td> <td>    0.000</td> <td>   15.624</td> <td> 0.000</td> <td>    0.003     0.003</td>\n",
       "</tr>\n",
       "<tr>\n",
       "  <th>SAT_times_taken</th>              <td>   -0.6077</td> <td>    0.068</td> <td>   -8.877</td> <td> 0.000</td> <td>   -0.742    -0.474</td>\n",
       "</tr>\n",
       "<tr>\n",
       "  <th>High School GPA</th>              <td>   -1.8774</td> <td>    0.101</td> <td>  -18.508</td> <td> 0.000</td> <td>   -2.076    -1.679</td>\n",
       "</tr>\n",
       "<tr>\n",
       "  <th>Male</th>                         <td>    0.2122</td> <td>    0.073</td> <td>    2.894</td> <td> 0.004</td> <td>    0.068     0.356</td>\n",
       "</tr>\n",
       "<tr>\n",
       "  <th>leader</th>                       <td>    0.7999</td> <td>    0.099</td> <td>    8.053</td> <td> 0.000</td> <td>    0.605     0.995</td>\n",
       "</tr>\n",
       "<tr>\n",
       "  <th>arts</th>                         <td>    0.0478</td> <td>    0.102</td> <td>    0.468</td> <td> 0.640</td> <td>   -0.152     0.248</td>\n",
       "</tr>\n",
       "<tr>\n",
       "  <th>award</th>                        <td>    0.1398</td> <td>    0.102</td> <td>    1.376</td> <td> 0.169</td> <td>   -0.059     0.339</td>\n",
       "</tr>\n",
       "<tr>\n",
       "  <th>academic</th>                     <td>    0.8242</td> <td>    0.124</td> <td>    6.657</td> <td> 0.000</td> <td>    0.582     1.067</td>\n",
       "</tr>\n",
       "<tr>\n",
       "  <th>gov</th>                          <td>    0.4075</td> <td>    0.105</td> <td>    3.876</td> <td> 0.000</td> <td>    0.201     0.614</td>\n",
       "</tr>\n",
       "<tr>\n",
       "  <th>sportsVarsity</th>                <td>    0.3100</td> <td>    0.103</td> <td>    3.004</td> <td> 0.003</td> <td>    0.108     0.512</td>\n",
       "</tr>\n",
       "<tr>\n",
       "  <th>sportsCaptain</th>                <td>    0.3817</td> <td>    0.120</td> <td>    3.175</td> <td> 0.001</td> <td>    0.146     0.617</td>\n",
       "</tr>\n",
       "<tr>\n",
       "  <th>Ethnicity_Asian</th>              <td>    0.0766</td> <td>    0.088</td> <td>    0.866</td> <td> 0.387</td> <td>   -0.097     0.250</td>\n",
       "</tr>\n",
       "<tr>\n",
       "  <th>Ethnicity_Black</th>              <td>   -0.9329</td> <td>    0.122</td> <td>   -7.651</td> <td> 0.000</td> <td>   -1.172    -0.694</td>\n",
       "</tr>\n",
       "<tr>\n",
       "  <th>Ethnicity_White</th>              <td>   -0.5989</td> <td>    0.080</td> <td>   -7.479</td> <td> 0.000</td> <td>   -0.756    -0.442</td>\n",
       "</tr>\n",
       "<tr>\n",
       "  <th>HS_Low at first but improved</th> <td>   -0.4813</td> <td>    0.201</td> <td>   -2.394</td> <td> 0.017</td> <td>   -0.875    -0.087</td>\n",
       "</tr>\n",
       "<tr>\n",
       "  <th>HS_Low one semester/year</th>     <td>   -0.3315</td> <td>    0.257</td> <td>   -1.288</td> <td> 0.198</td> <td>   -0.836     0.173</td>\n",
       "</tr>\n",
       "<tr>\n",
       "  <th>HS_Some good some bad</th>        <td>   -1.1165</td> <td>    0.247</td> <td>   -4.520</td> <td> 0.000</td> <td>   -1.601    -0.632</td>\n",
       "</tr>\n",
       "<tr>\n",
       "  <th>HS_Steady</th>                    <td>    0.7523</td> <td>    0.092</td> <td>    8.146</td> <td> 0.000</td> <td>    0.571     0.933</td>\n",
       "</tr>\n",
       "</table>"
      ],
      "text/plain": [
       "<class 'statsmodels.iolib.summary.Summary'>\n",
       "\"\"\"\n",
       "                           Logit Regression Results                           \n",
       "==============================================================================\n",
       "Dep. Variable:       top_school_final   No. Observations:                 9693\n",
       "Model:                          Logit   Df Residuals:                     9675\n",
       "Method:                           MLE   Df Model:                           17\n",
       "Date:                Wed, 16 Nov 2016   Pseudo R-squ.:                  0.1772\n",
       "Time:                        13:27:18   Log-Likelihood:                -3151.0\n",
       "converged:                       True   LL-Null:                       -3829.7\n",
       "                                        LLR p-value:                2.163e-278\n",
       "================================================================================================\n",
       "                                   coef    std err          z      P>|z|      [95.0% Conf. Int.]\n",
       "------------------------------------------------------------------------------------------------\n",
       "SAT_total_final                  0.0029      0.000     15.624      0.000         0.003     0.003\n",
       "SAT_times_taken                 -0.6077      0.068     -8.877      0.000        -0.742    -0.474\n",
       "High School GPA                 -1.8774      0.101    -18.508      0.000        -2.076    -1.679\n",
       "Male                             0.2122      0.073      2.894      0.004         0.068     0.356\n",
       "leader                           0.7999      0.099      8.053      0.000         0.605     0.995\n",
       "arts                             0.0478      0.102      0.468      0.640        -0.152     0.248\n",
       "award                            0.1398      0.102      1.376      0.169        -0.059     0.339\n",
       "academic                         0.8242      0.124      6.657      0.000         0.582     1.067\n",
       "gov                              0.4075      0.105      3.876      0.000         0.201     0.614\n",
       "sportsVarsity                    0.3100      0.103      3.004      0.003         0.108     0.512\n",
       "sportsCaptain                    0.3817      0.120      3.175      0.001         0.146     0.617\n",
       "Ethnicity_Asian                  0.0766      0.088      0.866      0.387        -0.097     0.250\n",
       "Ethnicity_Black                 -0.9329      0.122     -7.651      0.000        -1.172    -0.694\n",
       "Ethnicity_White                 -0.5989      0.080     -7.479      0.000        -0.756    -0.442\n",
       "HS_Low at first but improved    -0.4813      0.201     -2.394      0.017        -0.875    -0.087\n",
       "HS_Low one semester/year        -0.3315      0.257     -1.288      0.198        -0.836     0.173\n",
       "HS_Some good some bad           -1.1165      0.247     -4.520      0.000        -1.601    -0.632\n",
       "HS_Steady                        0.7523      0.092      8.146      0.000         0.571     0.933\n",
       "================================================================================================\n",
       "\"\"\""
      ]
     },
     "execution_count": 267,
     "metadata": {},
     "output_type": "execute_result"
    }
   ],
   "source": [
    "logit = sm.Logit(y, df[goodcols])\n",
    "\n",
    "# fit the model\n",
    "result = logit.fit(maxiter=100)\n",
    "result.summary()"
   ]
  },
  {
   "cell_type": "code",
   "execution_count": 275,
   "metadata": {
    "collapsed": false
   },
   "outputs": [],
   "source": [
    "for col in ['arts', 'Ethnicity_Asian','HS_Low one semester/year']:\n",
    "    goodcols.remove(col)"
   ]
  },
  {
   "cell_type": "markdown",
   "metadata": {},
   "source": [
    "### Random Forests"
   ]
  },
  {
   "cell_type": "code",
   "execution_count": 276,
   "metadata": {
    "collapsed": false
   },
   "outputs": [
    {
     "data": {
      "text/plain": [
       "RandomForestClassifier(bootstrap=True, class_weight=None, criterion='gini',\n",
       "            max_depth=None, max_features='auto', max_leaf_nodes=None,\n",
       "            min_samples_leaf=2, min_samples_split=4,\n",
       "            min_weight_fraction_leaf=0, n_estimators=10, n_jobs=1,\n",
       "            oob_score=False, random_state=None, verbose=0,\n",
       "            warm_start=False)"
      ]
     },
     "execution_count": 276,
     "metadata": {},
     "output_type": "execute_result"
    }
   ],
   "source": [
    "params = {\n",
    "    'min_samples_split': range(2,5),\n",
    "    'min_weight_fraction_leaf': [0,0.03,0.05],\n",
    "    'min_samples_leaf': range(1,4)\n",
    "}\n",
    "gs = GridSearchCV(RandomForestClassifier(), param_grid=params)\n",
    "gs.fit(df[goodcols], y)\n",
    "gs.best_estimator_"
   ]
  },
  {
   "cell_type": "code",
   "execution_count": 285,
   "metadata": {
    "collapsed": false
   },
   "outputs": [
    {
     "data": {
      "text/plain": [
       "<matplotlib.text.Text at 0x126fcdcd0>"
      ]
     },
     "execution_count": 285,
     "metadata": {},
     "output_type": "execute_result"
    },
    {
     "data": {
      "image/png": "[encoded data removed]",
      "text/plain": [
       "<matplotlib.figure.Figure at 0x122bc4e10>"
      ]
     },
     "metadata": {},
     "output_type": "display_data"
    }
   ],
   "source": [
    "fig = plt.figure(figsize=(8,6))\n",
    "plt.barh(range(len(goodcols)), gs.best_estimator_.feature_importances_, tick_label=goodcols, align='center')\n",
    "plt.title('Feature Importances using a Random Forest Classifier')\n",
    "plt.xlabel('Feature Importance (%)')\n",
    "plt.ylabel('Features')"
   ]
  },
  {
   "cell_type": "code",
   "execution_count": 286,
   "metadata": {
    "collapsed": false
   },
   "outputs": [],
   "source": [
    "# goodcols_rf = []\n",
    "# for i,val in enumerate(rf.feature_importances_):\n",
    "#     if val>0.01:\n",
    "#         goodcols_rf.append(final_cols[i])"
   ]
  },
  {
   "cell_type": "code",
   "execution_count": 287,
   "metadata": {
    "collapsed": true
   },
   "outputs": [],
   "source": [
    "for col in ['HS_Some good some bad', 'HS_Low at first but improved']:\n",
    "    goodcols.remove(col)"
   ]
  },
  {
   "cell_type": "code",
   "execution_count": 288,
   "metadata": {
    "collapsed": false
   },
   "outputs": [
    {
     "name": "stdout",
     "output_type": "stream",
     "text": [
      "['SAT_total_final', 'SAT_times_taken', 'High School GPA', 'Male', 'leader', 'award', 'academic', 'gov', 'sportsVarsity', 'sportsCaptain', 'Ethnicity_Black', 'Ethnicity_White', 'HS_Steady']\n"
     ]
    }
   ],
   "source": [
    "print goodcols"
   ]
  },
  {
   "cell_type": "code",
   "execution_count": null,
   "metadata": {
    "collapsed": true
   },
   "outputs": [],
   "source": []
  }
 ],
 "metadata": {
  "kernelspec": {
   "display_name": "Python 2",
   "language": "python",
   "name": "python2"
  },
  "language_info": {
   "codemirror_mode": {
    "name": "ipython",
    "version": 2
   },
   "file_extension": ".py",
   "mimetype": "text/x-python",
   "name": "python",
   "nbconvert_exporter": "python",
   "pygments_lexer": "ipython2",
   "version": "2.7.12"
  }
 },
 "nbformat": 4,
 "nbformat_minor": 0
}
