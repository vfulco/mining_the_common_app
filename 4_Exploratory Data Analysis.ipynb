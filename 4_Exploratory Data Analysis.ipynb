{
 "cells": [
  {
   "cell_type": "code",
   "execution_count": 120,
   "metadata": {
    "collapsed": true
   },
   "outputs": [],
   "source": [
    "import pandas as pd\n",
    "import numpy as np\n",
    "import matplotlib.pyplot as plt\n",
    "import seaborn as sns\n",
    "import re\n",
    "from collections import Counter, defaultdict\n",
    "import exploratory_analysis as ea\n",
    "%matplotlib inline"
   ]
  },
  {
   "cell_type": "code",
   "execution_count": 3,
   "metadata": {
    "collapsed": false
   },
   "outputs": [],
   "source": [
    "df = pd.read_csv('../data/train.csv', low_memory=False)"
   ]
  },
  {
   "cell_type": "markdown",
   "metadata": {},
   "source": [
    "### Clean SAT"
   ]
  },
  {
   "cell_type": "code",
   "execution_count": 4,
   "metadata": {
    "collapsed": false,
    "scrolled": false
   },
   "outputs": [
    {
     "data": {
      "text/plain": [
       "<matplotlib.axes._subplots.AxesSubplot at 0x1150b6cd0>"
      ]
     },
     "execution_count": 4,
     "metadata": {},
     "output_type": "execute_result"
    },
    {
     "data": {
      "image/png": "[encoded data removed]",
      "text/plain": [
       "<matplotlib.figure.Figure at 0x117221c90>"
      ]
     },
     "metadata": {},
     "output_type": "display_data"
    }
   ],
   "source": [
    "sat_scores = df['Highest Composite SAT Score']\n",
    "sat_scores.hist()"
   ]
  },
  {
   "cell_type": "code",
   "execution_count": 5,
   "metadata": {
    "collapsed": false
   },
   "outputs": [
    {
     "data": {
      "text/plain": [
       "<matplotlib.axes._subplots.AxesSubplot at 0x117bd5690>"
      ]
     },
     "execution_count": 5,
     "metadata": {},
     "output_type": "execute_result"
    },
    {
     "data": {
      "image/png": "[encoded data removed]",
      "text/plain": [
       "<matplotlib.figure.Figure at 0x117c1ded0>"
      ]
     },
     "metadata": {},
     "output_type": "display_data"
    }
   ],
   "source": [
    "sat_scores[sat_scores<=2400].hist()"
   ]
  },
  {
   "cell_type": "markdown",
   "metadata": {},
   "source": [
    "There's a a fair amount of nonsensical scores. Let's set all scores that are 0, under 600 (min score), or above 2400 (max score) to None."
   ]
  },
  {
   "cell_type": "code",
   "execution_count": 6,
   "metadata": {
    "collapsed": true
   },
   "outputs": [],
   "source": [
    "df['Highest Composite SAT Score'] = df['Highest Composite SAT Score'].apply(lambda x: None if x>2400 or x<600 else x)"
   ]
  },
  {
   "cell_type": "markdown",
   "metadata": {},
   "source": [
    "We have to be careful about SAT scores here:\n",
    "- In 2005, the maximum score was raised to 2400 (from 1600).\n",
    "- In 2016, the maximum score returned to 1600."
   ]
  },
  {
   "cell_type": "markdown",
   "metadata": {},
   "source": [
    "We shouldn't have to worry too much about the 2016 test-takers, since they would have only had a few months to take it (from the score change until the date of this analysis), and would not have been accepted to a college in that time frame, let alone applied to any. We may, however, have to scale the scores of pre-2005 test-takers from a 1600 to 2400 point scale. Let's see if there are outliers/weird data."
   ]
  },
  {
   "cell_type": "markdown",
   "metadata": {},
   "source": [
    "Let's first look at the distribution of scores where Undergradate Graduation Year < 2010, bc we assume people take SATs in their junior year of high school, i.e. take SAT in 2005, graduate HS in 2006, graduate college in 2010."
   ]
  },
  {
   "cell_type": "code",
   "execution_count": 11,
   "metadata": {
    "collapsed": false,
    "scrolled": true
   },
   "outputs": [
    {
     "data": {
      "image/png": "[encoded data removed]",
      "text/plain": [
       "<matplotlib.figure.Figure at 0x11dc509d0>"
      ]
     },
     "metadata": {},
     "output_type": "display_data"
    }
   ],
   "source": [
    "ea.histogramSAT(df, 2010, 'before')"
   ]
  },
  {
   "cell_type": "code",
   "execution_count": 14,
   "metadata": {
    "collapsed": false,
    "scrolled": true
   },
   "outputs": [
    {
     "data": {
      "image/png": "[encoded data removed]",
      "text/plain": [
       "<matplotlib.figure.Figure at 0x11e55f110>"
      ]
     },
     "metadata": {},
     "output_type": "display_data"
    }
   ],
   "source": [
    "ea.histogramSAT(df, 2009, 'after')"
   ]
  },
  {
   "cell_type": "markdown",
   "metadata": {},
   "source": [
    "Let's see if can get more accurate scores by looking at the 'Highest SAT Scores' column. "
   ]
  },
  {
   "cell_type": "markdown",
   "metadata": {},
   "source": [
    "There is no standard format in which these scores are listed. They are all separated by whitespace (\\n), but the number of scores are inconsistent- some have 2, some have 3, some have 4. We'll have to create some detailed rule that parses through the text to determine what the person's total score is."
   ]
  },
  {
   "cell_type": "markdown",
   "metadata": {},
   "source": [
    "Let's create a new column called 'SAT_total_temp' and store our parsed values there."
   ]
  },
  {
   "cell_type": "code",
   "execution_count": 16,
   "metadata": {
    "collapsed": false,
    "scrolled": false
   },
   "outputs": [],
   "source": [
    "df['SAT_total_temp'] = df['Highest SAT Scores'].apply(lambda x: ea.parseSAT(x) if type(x)==str else x)"
   ]
  },
  {
   "cell_type": "markdown",
   "metadata": {},
   "source": [
    "Note that our parseSAT function couldn't parse out the rows with irregular number of scores, but that doesn't matter, since most of them only have one score (which not only isn't helpful, most of them are 1's - nonsense). A very small minority have detailed scores but we can just impute something for them later. Let's take a look at the distribution again."
   ]
  },
  {
   "cell_type": "code",
   "execution_count": 17,
   "metadata": {
    "collapsed": false
   },
   "outputs": [
    {
     "data": {
      "text/plain": [
       "<matplotlib.axes._subplots.AxesSubplot at 0x11e4d2c10>"
      ]
     },
     "execution_count": 17,
     "metadata": {},
     "output_type": "execute_result"
    },
    {
     "data": {
      "image/png": "[encoded data removed]",
      "text/plain": [
       "<matplotlib.figure.Figure at 0x118e70b90>"
      ]
     },
     "metadata": {},
     "output_type": "display_data"
    }
   ],
   "source": [
    "df['SAT_total_temp'].hist()"
   ]
  },
  {
   "cell_type": "markdown",
   "metadata": {},
   "source": [
    "From inspection, it looks like all scores < 1600 are on a 2400-point scale (almost all have three scores in the 'Highest SAT Scores box'). No point conversion is needed. While we're not sure which score is correct, we can just take the larger of the two columns."
   ]
  },
  {
   "cell_type": "code",
   "execution_count": 18,
   "metadata": {
    "collapsed": true
   },
   "outputs": [],
   "source": [
    "reload(ea)\n",
    "ea.finalizeSAT(df)"
   ]
  },
  {
   "cell_type": "code",
   "execution_count": 19,
   "metadata": {
    "collapsed": false
   },
   "outputs": [
    {
     "data": {
      "text/plain": [
       "count    4277.000000\n",
       "mean     1980.692425\n",
       "std       320.288947\n",
       "min       600.000000\n",
       "25%      1810.000000\n",
       "50%      2050.000000\n",
       "75%      2220.000000\n",
       "max      2400.000000\n",
       "Name: SAT_total_final, dtype: float64"
      ]
     },
     "execution_count": 19,
     "metadata": {},
     "output_type": "execute_result"
    }
   ],
   "source": [
    "df['SAT_total_final'].describe()"
   ]
  },
  {
   "cell_type": "code",
   "execution_count": 20,
   "metadata": {
    "collapsed": false
   },
   "outputs": [
    {
     "data": {
      "text/plain": [
       "<matplotlib.axes._subplots.AxesSubplot at 0x118e45350>"
      ]
     },
     "execution_count": 20,
     "metadata": {},
     "output_type": "execute_result"
    },
    {
     "data": {
      "image/png": "[encoded data removed]",
      "text/plain": [
       "<matplotlib.figure.Figure at 0x11e548110>"
      ]
     },
     "metadata": {},
     "output_type": "display_data"
    }
   ],
   "source": [
    "df['SAT_total_final'].hist()"
   ]
  },
  {
   "cell_type": "markdown",
   "metadata": {},
   "source": [
    "SAT scores now look good for data processing."
   ]
  },
  {
   "cell_type": "markdown",
   "metadata": {},
   "source": [
    "### SAT (times taken)"
   ]
  },
  {
   "cell_type": "code",
   "execution_count": 21,
   "metadata": {
    "collapsed": false
   },
   "outputs": [
    {
     "data": {
      "text/plain": [
       "2    1848\n",
       "1    1211\n",
       "3     713\n",
       "0      65\n",
       "Name: How many times did you take the official SAT?, dtype: int64"
      ]
     },
     "execution_count": 21,
     "metadata": {},
     "output_type": "execute_result"
    }
   ],
   "source": [
    "df['How many times did you take the official SAT?'].value_counts()"
   ]
  },
  {
   "cell_type": "code",
   "execution_count": 22,
   "metadata": {
    "collapsed": true
   },
   "outputs": [],
   "source": [
    "df['SAT_times_taken'] = df['How many times did you take the official SAT?'].copy()"
   ]
  },
  {
   "cell_type": "markdown",
   "metadata": {},
   "source": [
    "### Clean High School GPA"
   ]
  },
  {
   "cell_type": "code",
   "execution_count": 23,
   "metadata": {
    "collapsed": false
   },
   "outputs": [
    {
     "data": {
      "text/plain": [
       "count    12925.000000\n",
       "mean         1.868832\n",
       "std          3.220446\n",
       "min          0.000000\n",
       "25%          0.000000\n",
       "50%          0.000000\n",
       "75%          3.860000\n",
       "max        100.000000\n",
       "Name: High School GPA, dtype: float64"
      ]
     },
     "execution_count": 23,
     "metadata": {},
     "output_type": "execute_result"
    }
   ],
   "source": [
    "df['High School GPA'].describe()"
   ]
  },
  {
   "cell_type": "markdown",
   "metadata": {},
   "source": [
    "Two observations: the vast majority are 0s, and the max is 101. Let's remove these first."
   ]
  },
  {
   "cell_type": "code",
   "execution_count": 24,
   "metadata": {
    "collapsed": true
   },
   "outputs": [],
   "source": [
    "df['High School GPA'] = df['High School GPA'].apply(lambda x: np.nan if x==0 or x>100 else x)"
   ]
  },
  {
   "cell_type": "code",
   "execution_count": 25,
   "metadata": {
    "collapsed": false
   },
   "outputs": [
    {
     "data": {
      "text/plain": [
       "count    6055.000000\n",
       "mean        3.989207\n",
       "std         3.698709\n",
       "min         1.500000\n",
       "25%         3.600000\n",
       "50%         3.900000\n",
       "75%         4.190000\n",
       "max       100.000000\n",
       "Name: High School GPA, dtype: float64"
      ]
     },
     "execution_count": 25,
     "metadata": {},
     "output_type": "execute_result"
    }
   ],
   "source": [
    "df['High School GPA'].describe()"
   ]
  },
  {
   "cell_type": "code",
   "execution_count": 26,
   "metadata": {
    "collapsed": false,
    "scrolled": true
   },
   "outputs": [
    {
     "data": {
      "text/plain": [
       "<matplotlib.axes._subplots.AxesSubplot at 0x11f1f44d0>"
      ]
     },
     "execution_count": 26,
     "metadata": {},
     "output_type": "execute_result"
    },
    {
     "data": {
      "image/png": "[encoded data removed]",
      "text/plain": [
       "<matplotlib.figure.Figure at 0x117609ed0>"
      ]
     },
     "metadata": {},
     "output_type": "display_data"
    }
   ],
   "source": [
    "df[df['High School GPA']<50]['High School GPA'].hist()"
   ]
  },
  {
   "cell_type": "markdown",
   "metadata": {},
   "source": [
    "Couple more observations:\n",
    "- Over half of GPA's are 4.0 or below\n",
    "- A handful of GPAs are between 4 and 4.5\n",
    "- A minority of GPAs are above 4.5- some are out of 100, some are on an arbitrary scale/typos"
   ]
  },
  {
   "cell_type": "markdown",
   "metadata": {},
   "source": [
    "Let's not use the GPA scores 2.0 or below (set to nan)"
   ]
  },
  {
   "cell_type": "code",
   "execution_count": 27,
   "metadata": {
    "collapsed": true
   },
   "outputs": [],
   "source": [
    "df['High School GPA'] = df['High School GPA'].apply(lambda x: np.nan if x<=2 else x)"
   ]
  },
  {
   "cell_type": "markdown",
   "metadata": {},
   "source": [
    "Taking a look at scores between 4 and 5:"
   ]
  },
  {
   "cell_type": "code",
   "execution_count": 28,
   "metadata": {
    "collapsed": false
   },
   "outputs": [
    {
     "data": {
      "text/plain": [
       "<matplotlib.axes._subplots.AxesSubplot at 0x118e29b50>"
      ]
     },
     "execution_count": 28,
     "metadata": {},
     "output_type": "execute_result"
    },
    {
     "data": {
      "image/png": "[encoded data removed]",
      "text/plain": [
       "<matplotlib.figure.Figure at 0x118f23e90>"
      ]
     },
     "metadata": {},
     "output_type": "display_data"
    }
   ],
   "source": [
    "df[(df['High School GPA']>4)&(df['High School GPA']<5)]['High School GPA'].hist()"
   ]
  },
  {
   "cell_type": "markdown",
   "metadata": {},
   "source": [
    "We don't have reliable info as to what the GPA scales are for these scores, but it looks like there are two separate distributions, one for a 4.2 scale, and one for a 4.5 scale, and a small number of datapoints in what looks like a 5 scale. Our best option at this point is to set these to the 4.0-scale median."
   ]
  },
  {
   "cell_type": "code",
   "execution_count": 29,
   "metadata": {
    "collapsed": true
   },
   "outputs": [],
   "source": [
    "GPA_median = df[df['High School GPA']<=4]['High School GPA'].median()\n",
    "df['High School GPA'] = df['High School GPA'].apply(lambda x: GPA_median if x>4 else x)"
   ]
  },
  {
   "cell_type": "code",
   "execution_count": 30,
   "metadata": {
    "collapsed": false
   },
   "outputs": [
    {
     "data": {
      "text/plain": [
       "(2, 4.1)"
      ]
     },
     "execution_count": 30,
     "metadata": {},
     "output_type": "execute_result"
    },
    {
     "data": {
      "image/png": "[encoded data removed]",
      "text/plain": [
       "<matplotlib.figure.Figure at 0x11ebbed90>"
      ]
     },
     "metadata": {},
     "output_type": "display_data"
    }
   ],
   "source": [
    "plt.figure(figsize=(12,7))\n",
    "plt.scatter(df['SAT_total_final'], df['High School GPA'], color=['r' if x==1 else 'b' for x in df['top_school_final']],\n",
    "            alpha=0.5)\n",
    "plt.title('SAT vs GPA')\n",
    "plt.xlabel('SAT')\n",
    "plt.ylabel('GPA')\n",
    "plt.ylim([2,4.1])"
   ]
  },
  {
   "cell_type": "markdown",
   "metadata": {},
   "source": [
    "Unfortunately it doesn't look like GPA and SAT have a strong bearing on whether someone is accepted in a top school. Let's continue with other variables"
   ]
  },
  {
   "cell_type": "markdown",
   "metadata": {},
   "source": [
    "### Gender"
   ]
  },
  {
   "cell_type": "code",
   "execution_count": 31,
   "metadata": {
    "collapsed": true
   },
   "outputs": [],
   "source": [
    "df['Male'] = df['Gender'].apply(lambda x: 1 if x=='Male' else 0)"
   ]
  },
  {
   "cell_type": "markdown",
   "metadata": {},
   "source": [
    "### Ethnicity"
   ]
  },
  {
   "cell_type": "code",
   "execution_count": 32,
   "metadata": {
    "collapsed": false
   },
   "outputs": [
    {
     "data": {
      "text/plain": [
       "White Non-Hispanic                             4099\n",
       "Asian                                          1841\n",
       "Black / African American                       1470\n",
       "Hispanic                                       1253\n",
       "Prefer Not to Share                             378\n",
       "Asian|White Non-Hispanic                        161\n",
       "Black / African American|White Non-Hispanic     131\n",
       "Native American                                  84\n",
       "Hispanic|White Non-Hispanic                      72\n",
       "Black / African American|Hispanic                59\n",
       "Name: Ethnicity, dtype: int64"
      ]
     },
     "execution_count": 32,
     "metadata": {},
     "output_type": "execute_result"
    }
   ],
   "source": [
    "df['Ethnicity'].value_counts()[:10]"
   ]
  },
  {
   "cell_type": "code",
   "execution_count": 33,
   "metadata": {
    "collapsed": false,
    "scrolled": false
   },
   "outputs": [],
   "source": [
    "df['Ethnicity2'] = df['Ethnicity'].apply(lambda x: ea.parseEthnicity(x) if type(x)==str else x)"
   ]
  },
  {
   "cell_type": "code",
   "execution_count": 34,
   "metadata": {
    "collapsed": true
   },
   "outputs": [],
   "source": [
    "df['Ethnicity_Asian'] = df['Ethnicity2'].apply(lambda x: 1 if type(x)==list and 'asian' in x else 0)\n",
    "df['Ethnicity_Black'] = df['Ethnicity2'].apply(lambda x: 1 if type(x)==list and 'black / african american' in x else 0)\n",
    "df['Ethnicity_Hispanic'] = df['Ethnicity2'].apply(lambda x: 1 if type(x)==list and 'hispanic' in x else 0)\n",
    "df['Ethnicity_White'] = df['Ethnicity2'].apply(lambda x: 1 if type(x)==list and 'white non-hispanic' in x else 0)\n",
    "df['Ethnicity_Pacific'] = df['Ethnicity2'].apply(lambda x: 1 if type(x)==list and 'native hawaiian / pacific islander' in x else 0)\n",
    "df['Ethnicity_NativeAm'] = df['Ethnicity2'].apply(lambda x: 1 if type(x)==list and 'native american' in x else 0)"
   ]
  },
  {
   "cell_type": "code",
   "execution_count": 35,
   "metadata": {
    "collapsed": false
   },
   "outputs": [
    {
     "name": "stdout",
     "output_type": "stream",
     "text": [
      "Ethnicity_Asian 2215\n",
      "Ethnicity_Black 1814\n",
      "Ethnicity_Hispanic 1500\n",
      "Ethnicity_White 4578\n",
      "Ethnicity_Pacific 112\n",
      "Ethnicity_NativeAm 185\n"
     ]
    }
   ],
   "source": [
    "for c in df.columns:\n",
    "    if c.find('Ethnicity_')>-1:\n",
    "        print c, df[c].sum()"
   ]
  },
  {
   "cell_type": "markdown",
   "metadata": {},
   "source": [
    "### High School Activities / Leadership / Honors"
   ]
  },
  {
   "cell_type": "code",
   "execution_count": 36,
   "metadata": {
    "collapsed": false,
    "scrolled": false
   },
   "outputs": [
    {
     "data": {
      "text/plain": [
       "3497"
      ]
     },
     "execution_count": 36,
     "metadata": {},
     "output_type": "execute_result"
    }
   ],
   "source": [
    "df['High School Extracurricular Activities'].notnull().sum()"
   ]
  },
  {
   "cell_type": "code",
   "execution_count": 43,
   "metadata": {
    "collapsed": false,
    "scrolled": false
   },
   "outputs": [
    {
     "data": {
      "text/plain": [
       "[('Member', 5821),\n",
       " ('2', 3542),\n",
       " ('4', 3514),\n",
       " ('3', 2594),\n",
       " ('1', 2376),\n",
       " ('Lead role', 2251),\n",
       " ('School Award', 2014),\n",
       " ('Regional/State Recognition', 1311),\n",
       " ('President', 1284),\n",
       " ('National Honor Society', 1259),\n",
       " ('Executive Board', 1113),\n",
       " ('Recognized in Local Media', 1053),\n",
       " ('Community Award', 921),\n",
       " ('Tutoring/Mentoring', 688),\n",
       " ('National Recognition', 672),\n",
       " ('Committee Leader', 643),\n",
       " ('Student Council / Government', 616),\n",
       " ('Founder', 554),\n",
       " ('Awarded Monetary Prize', 475),\n",
       " ('Community Cleanup / Service', 472),\n",
       " ('Received Scholarship For Achievement', 439),\n",
       " ('School Newspaper/Magazine/Journalism', 402),\n",
       " ('Debate Club/Team', 398),\n",
       " ('Won National Award', 385),\n",
       " ('Science Club/Team', 355),\n",
       " ('Key Club', 340),\n",
       " ('Church', 330),\n",
       " ('School theater/plays', 319),\n",
       " ('Math Team', 299),\n",
       " ('Choir', 282)]"
      ]
     },
     "execution_count": 43,
     "metadata": {},
     "output_type": "execute_result"
    }
   ],
   "source": [
    "ea.showTopPhrases(df, 'High School Extracurricular Activities', n=30)"
   ]
  },
  {
   "cell_type": "code",
   "execution_count": 44,
   "metadata": {
    "collapsed": true
   },
   "outputs": [],
   "source": [
    "leader_words = ['leader','president','founder']\n",
    "arts_words = ['arts', 'music', 'jazz', 'band', 'orchestra', 'choir', 'drama', 'theater']\n",
    "award_words = ['award', 'scholarship', 'achievement', 'prize']\n",
    "community_words = ['volunteer', 'community','cleanup', 'ngo', 'environment', 'humanity','green', 'charity']\n",
    "academic_words = ['science', 'math', 'engineering']\n",
    "gov_words = ['debate', 'model', 'government']\n",
    "diversity_words = ['alliance', 'multicultural', 'diversity']\n",
    "race_words = ['naacp','asian','jewish','german','french','japanese','italian','chinese']"
   ]
  },
  {
   "cell_type": "code",
   "execution_count": null,
   "metadata": {
    "collapsed": true
   },
   "outputs": [],
   "source": [
    "ecc_colnames = ['leader','arts','award','community','academic','gov','diversity','race_ecc']\n",
    "ecc_words = [leader_words, arts_words, award_words, community_words, academic_words, gov_words, diversity_words, race_words]\n",
    "for colname, words in zip(ecc_colnames, ecc_words):\n",
    "    df[colname] = df['High School Extracurricular Activities'].apply(lambda x: ea.parseECC(x, words))"
   ]
  },
  {
   "cell_type": "markdown",
   "metadata": {},
   "source": [
    "### Sports"
   ]
  },
  {
   "cell_type": "code",
   "execution_count": 46,
   "metadata": {
    "collapsed": false
   },
   "outputs": [
    {
     "data": {
      "text/plain": [
       "2693"
      ]
     },
     "execution_count": 46,
     "metadata": {},
     "output_type": "execute_result"
    }
   ],
   "source": [
    "df['High School Sports Played'].notnull().sum()"
   ]
  },
  {
   "cell_type": "code",
   "execution_count": 159,
   "metadata": {
    "collapsed": false
   },
   "outputs": [],
   "source": [
    "# re.findall('[[]\\S+[]]\\s[[]\\S+[]]\\s(.+)', df[df['High School Sports Played'].notnull()]['High School Sports Played'].values[2])"
   ]
  },
  {
   "cell_type": "code",
   "execution_count": 102,
   "metadata": {
    "collapsed": false,
    "scrolled": false
   },
   "outputs": [],
   "source": [
    "all_sports = list(df['High School Sports Played'].apply(ea.getAllSports))\n",
    "unique_sports = ea.getUniqueSports(all_sports)"
   ]
  },
  {
   "cell_type": "code",
   "execution_count": 135,
   "metadata": {
    "collapsed": true
   },
   "outputs": [],
   "source": [
    "# Initialize dummy variables for each sport category, set to 0s.\n",
    "ea.makeSportsDummies(df, unique_sports)"
   ]
  },
  {
   "cell_type": "code",
   "execution_count": 137,
   "metadata": {
    "collapsed": false
   },
   "outputs": [],
   "source": [
    "# Fill in the dummy variables for each sport category accordingly (1 if that sport was played)\n",
    "ea.parseSports(df, unique_sports)"
   ]
  },
  {
   "cell_type": "code",
   "execution_count": 157,
   "metadata": {
    "collapsed": false
   },
   "outputs": [],
   "source": [
    "# Create a varsity dummy variable that indicates if someone played sports at a varsity level\n",
    "df['sportsVarsity'] = df['High School Sports Played'].apply(lambda x: ea.parseVarsity(x, unique_sports))\n",
    "# Create a varsity dummy variable that indicates if someone was a captain of a sport\n",
    "df['sportsCaptain'] = df['High School Sports Played'].apply(lambda x: ea.parseCaptain(x, unique_sports))"
   ]
  },
  {
   "cell_type": "markdown",
   "metadata": {},
   "source": [
    "### Home Country"
   ]
  },
  {
   "cell_type": "code",
   "execution_count": 160,
   "metadata": {
    "collapsed": false
   },
   "outputs": [
    {
     "data": {
      "text/plain": [
       "[1703] [united-states] United States    9548\n",
       "[1793] [india] India                      64\n",
       "[1738] [canada] Canada                    43\n",
       "[1744] [china] China                      43\n",
       "[1837] [morocco] Morocco                  33\n",
       "[1794] [indonesia] Indonesia              33\n",
       "[1830] [mexico] Mexico                    26\n",
       "[1861] [philippines] Philippines          22\n",
       "[1790] [hong-kong] Hong Kong              21\n",
       "[1849] [nigeria] Nigeria                  21\n",
       "Name: Home Country, dtype: int64"
      ]
     },
     "execution_count": 160,
     "metadata": {},
     "output_type": "execute_result"
    }
   ],
   "source": [
    "df['Home Country'].value_counts()[:10]"
   ]
  },
  {
   "cell_type": "code",
   "execution_count": 161,
   "metadata": {
    "collapsed": false
   },
   "outputs": [],
   "source": [
    "df['Home Country'] = df['Home Country'].apply(lambda x:re.search('[[]\\S+[]]\\s[[]\\S+[]]\\s(.+)', x).group(1)\n",
    "                                              if type(x)==str else x)"
   ]
  },
  {
   "cell_type": "code",
   "execution_count": 162,
   "metadata": {
    "collapsed": true
   },
   "outputs": [],
   "source": [
    "df['Home Country_US'] = df['Home Country'].apply(lambda x: 1 if x=='United States' else 0)"
   ]
  },
  {
   "cell_type": "markdown",
   "metadata": {},
   "source": [
    "### Academic Performance in HS"
   ]
  },
  {
   "cell_type": "code",
   "execution_count": 166,
   "metadata": {
    "collapsed": false
   },
   "outputs": [
    {
     "data": {
      "text/plain": [
       "Steady                         3250\n",
       "Low at first but improved       390\n",
       "Some good some bad              384\n",
       "Low one semester/year           226\n",
       "High at first but got worse      76\n",
       "Name: Academic Performance in High School, dtype: int64"
      ]
     },
     "execution_count": 166,
     "metadata": {},
     "output_type": "execute_result"
    }
   ],
   "source": [
    "df['Academic Performance in High School'].value_counts()"
   ]
  },
  {
   "cell_type": "code",
   "execution_count": 173,
   "metadata": {
    "collapsed": false
   },
   "outputs": [
    {
     "ename": "KeyError",
     "evalue": "'Academic Performance in High School'",
     "output_type": "error",
     "traceback": [
      "\u001b[0;31m---------------------------------------------------------------------------\u001b[0m",
      "\u001b[0;31mKeyError\u001b[0m                                  Traceback (most recent call last)",
      "\u001b[0;32m<ipython-input-173-bada416826c6>\u001b[0m in \u001b[0;36m<module>\u001b[0;34m()\u001b[0m\n\u001b[1;32m      1\u001b[0m \u001b[0mreload\u001b[0m\u001b[0;34m(\u001b[0m\u001b[0mea\u001b[0m\u001b[0;34m)\u001b[0m\u001b[0;34m\u001b[0m\u001b[0m\n\u001b[0;32m----> 2\u001b[0;31m \u001b[0mea\u001b[0m\u001b[0;34m.\u001b[0m\u001b[0mexploreCategorical\u001b[0m\u001b[0;34m(\u001b[0m\u001b[0mdf\u001b[0m\u001b[0;34m,\u001b[0m \u001b[0;34m'Academic Performance in High School'\u001b[0m\u001b[0;34m,\u001b[0m\u001b[0;34m'top_school_final'\u001b[0m\u001b[0;34m,\u001b[0m\u001b[0;36m2\u001b[0m\u001b[0;34m,\u001b[0m\u001b[0;36m3\u001b[0m\u001b[0;34m)\u001b[0m\u001b[0;34m\u001b[0m\u001b[0m\n\u001b[0m",
      "\u001b[0;32m/Users/MikeYung/Galvanize/Final Project/AdmitSee/code/exploratory_analysis.py\u001b[0m in \u001b[0;36mexploreCategorical\u001b[0;34m(df, x, y, i, j)\u001b[0m\n\u001b[1;32m    191\u001b[0m     '''\n\u001b[1;32m    192\u001b[0m     \u001b[0mfig\u001b[0m \u001b[0;34m=\u001b[0m \u001b[0mplt\u001b[0m\u001b[0;34m.\u001b[0m\u001b[0mfigure\u001b[0m\u001b[0;34m(\u001b[0m\u001b[0mfigsize\u001b[0m\u001b[0;34m=\u001b[0m\u001b[0;34m(\u001b[0m\u001b[0;36m15\u001b[0m\u001b[0;34m,\u001b[0m\u001b[0;36m6\u001b[0m\u001b[0;34m)\u001b[0m\u001b[0;34m)\u001b[0m\u001b[0;34m\u001b[0m\u001b[0m\n\u001b[0;32m--> 193\u001b[0;31m     \u001b[0;32mfor\u001b[0m \u001b[0midx\u001b[0m\u001b[0;34m,\u001b[0m\u001b[0mval\u001b[0m \u001b[0;32min\u001b[0m \u001b[0menumerate\u001b[0m\u001b[0;34m(\u001b[0m\u001b[0mdf\u001b[0m\u001b[0;34m[\u001b[0m\u001b[0mx\u001b[0m\u001b[0;34m]\u001b[0m\u001b[0;34m.\u001b[0m\u001b[0munique\u001b[0m\u001b[0;34m(\u001b[0m\u001b[0;34m)\u001b[0m\u001b[0;34m)\u001b[0m\u001b[0;34m:\u001b[0m\u001b[0;34m\u001b[0m\u001b[0m\n\u001b[0m\u001b[1;32m    194\u001b[0m         \u001b[0;32mif\u001b[0m \u001b[0;32mnot\u001b[0m \u001b[0mstr\u001b[0m\u001b[0;34m(\u001b[0m\u001b[0mval\u001b[0m\u001b[0;34m)\u001b[0m \u001b[0;34m==\u001b[0m \u001b[0;34m'nan'\u001b[0m\u001b[0;34m:\u001b[0m\u001b[0;34m\u001b[0m\u001b[0m\n\u001b[1;32m    195\u001b[0m             \u001b[0;32mprint\u001b[0m \u001b[0mval\u001b[0m\u001b[0;34m\u001b[0m\u001b[0m\n",
      "\u001b[0;32m/Users/MikeYung/anaconda/lib/python2.7/site-packages/pandas/core/frame.pyc\u001b[0m in \u001b[0;36m__getitem__\u001b[0;34m(self, key)\u001b[0m\n\u001b[1;32m   1967\u001b[0m             \u001b[0;32mreturn\u001b[0m \u001b[0mself\u001b[0m\u001b[0;34m.\u001b[0m\u001b[0m_getitem_multilevel\u001b[0m\u001b[0;34m(\u001b[0m\u001b[0mkey\u001b[0m\u001b[0;34m)\u001b[0m\u001b[0;34m\u001b[0m\u001b[0m\n\u001b[1;32m   1968\u001b[0m         \u001b[0;32melse\u001b[0m\u001b[0;34m:\u001b[0m\u001b[0;34m\u001b[0m\u001b[0m\n\u001b[0;32m-> 1969\u001b[0;31m             \u001b[0;32mreturn\u001b[0m \u001b[0mself\u001b[0m\u001b[0;34m.\u001b[0m\u001b[0m_getitem_column\u001b[0m\u001b[0;34m(\u001b[0m\u001b[0mkey\u001b[0m\u001b[0;34m)\u001b[0m\u001b[0;34m\u001b[0m\u001b[0m\n\u001b[0m\u001b[1;32m   1970\u001b[0m \u001b[0;34m\u001b[0m\u001b[0m\n\u001b[1;32m   1971\u001b[0m     \u001b[0;32mdef\u001b[0m \u001b[0m_getitem_column\u001b[0m\u001b[0;34m(\u001b[0m\u001b[0mself\u001b[0m\u001b[0;34m,\u001b[0m \u001b[0mkey\u001b[0m\u001b[0;34m)\u001b[0m\u001b[0;34m:\u001b[0m\u001b[0;34m\u001b[0m\u001b[0m\n",
      "\u001b[0;32m/Users/MikeYung/anaconda/lib/python2.7/site-packages/pandas/core/frame.pyc\u001b[0m in \u001b[0;36m_getitem_column\u001b[0;34m(self, key)\u001b[0m\n\u001b[1;32m   1974\u001b[0m         \u001b[0;31m# get column\u001b[0m\u001b[0;34m\u001b[0m\u001b[0;34m\u001b[0m\u001b[0m\n\u001b[1;32m   1975\u001b[0m         \u001b[0;32mif\u001b[0m \u001b[0mself\u001b[0m\u001b[0;34m.\u001b[0m\u001b[0mcolumns\u001b[0m\u001b[0;34m.\u001b[0m\u001b[0mis_unique\u001b[0m\u001b[0;34m:\u001b[0m\u001b[0;34m\u001b[0m\u001b[0m\n\u001b[0;32m-> 1976\u001b[0;31m             \u001b[0;32mreturn\u001b[0m \u001b[0mself\u001b[0m\u001b[0;34m.\u001b[0m\u001b[0m_get_item_cache\u001b[0m\u001b[0;34m(\u001b[0m\u001b[0mkey\u001b[0m\u001b[0;34m)\u001b[0m\u001b[0;34m\u001b[0m\u001b[0m\n\u001b[0m\u001b[1;32m   1977\u001b[0m \u001b[0;34m\u001b[0m\u001b[0m\n\u001b[1;32m   1978\u001b[0m         \u001b[0;31m# duplicate columns & possible reduce dimensionality\u001b[0m\u001b[0;34m\u001b[0m\u001b[0;34m\u001b[0m\u001b[0m\n",
      "\u001b[0;32m/Users/MikeYung/anaconda/lib/python2.7/site-packages/pandas/core/generic.pyc\u001b[0m in \u001b[0;36m_get_item_cache\u001b[0;34m(self, item)\u001b[0m\n\u001b[1;32m   1089\u001b[0m         \u001b[0mres\u001b[0m \u001b[0;34m=\u001b[0m \u001b[0mcache\u001b[0m\u001b[0;34m.\u001b[0m\u001b[0mget\u001b[0m\u001b[0;34m(\u001b[0m\u001b[0mitem\u001b[0m\u001b[0;34m)\u001b[0m\u001b[0;34m\u001b[0m\u001b[0m\n\u001b[1;32m   1090\u001b[0m         \u001b[0;32mif\u001b[0m \u001b[0mres\u001b[0m \u001b[0;32mis\u001b[0m \u001b[0mNone\u001b[0m\u001b[0;34m:\u001b[0m\u001b[0;34m\u001b[0m\u001b[0m\n\u001b[0;32m-> 1091\u001b[0;31m             \u001b[0mvalues\u001b[0m \u001b[0;34m=\u001b[0m \u001b[0mself\u001b[0m\u001b[0;34m.\u001b[0m\u001b[0m_data\u001b[0m\u001b[0;34m.\u001b[0m\u001b[0mget\u001b[0m\u001b[0;34m(\u001b[0m\u001b[0mitem\u001b[0m\u001b[0;34m)\u001b[0m\u001b[0;34m\u001b[0m\u001b[0m\n\u001b[0m\u001b[1;32m   1092\u001b[0m             \u001b[0mres\u001b[0m \u001b[0;34m=\u001b[0m \u001b[0mself\u001b[0m\u001b[0;34m.\u001b[0m\u001b[0m_box_item_values\u001b[0m\u001b[0;34m(\u001b[0m\u001b[0mitem\u001b[0m\u001b[0;34m,\u001b[0m \u001b[0mvalues\u001b[0m\u001b[0;34m)\u001b[0m\u001b[0;34m\u001b[0m\u001b[0m\n\u001b[1;32m   1093\u001b[0m             \u001b[0mcache\u001b[0m\u001b[0;34m[\u001b[0m\u001b[0mitem\u001b[0m\u001b[0;34m]\u001b[0m \u001b[0;34m=\u001b[0m \u001b[0mres\u001b[0m\u001b[0;34m\u001b[0m\u001b[0m\n",
      "\u001b[0;32m/Users/MikeYung/anaconda/lib/python2.7/site-packages/pandas/core/internals.pyc\u001b[0m in \u001b[0;36mget\u001b[0;34m(self, item, fastpath)\u001b[0m\n\u001b[1;32m   3209\u001b[0m \u001b[0;34m\u001b[0m\u001b[0m\n\u001b[1;32m   3210\u001b[0m             \u001b[0;32mif\u001b[0m \u001b[0;32mnot\u001b[0m \u001b[0misnull\u001b[0m\u001b[0;34m(\u001b[0m\u001b[0mitem\u001b[0m\u001b[0;34m)\u001b[0m\u001b[0;34m:\u001b[0m\u001b[0;34m\u001b[0m\u001b[0m\n\u001b[0;32m-> 3211\u001b[0;31m                 \u001b[0mloc\u001b[0m \u001b[0;34m=\u001b[0m \u001b[0mself\u001b[0m\u001b[0;34m.\u001b[0m\u001b[0mitems\u001b[0m\u001b[0;34m.\u001b[0m\u001b[0mget_loc\u001b[0m\u001b[0;34m(\u001b[0m\u001b[0mitem\u001b[0m\u001b[0;34m)\u001b[0m\u001b[0;34m\u001b[0m\u001b[0m\n\u001b[0m\u001b[1;32m   3212\u001b[0m             \u001b[0;32melse\u001b[0m\u001b[0;34m:\u001b[0m\u001b[0;34m\u001b[0m\u001b[0m\n\u001b[1;32m   3213\u001b[0m                 \u001b[0mindexer\u001b[0m \u001b[0;34m=\u001b[0m \u001b[0mnp\u001b[0m\u001b[0;34m.\u001b[0m\u001b[0marange\u001b[0m\u001b[0;34m(\u001b[0m\u001b[0mlen\u001b[0m\u001b[0;34m(\u001b[0m\u001b[0mself\u001b[0m\u001b[0;34m.\u001b[0m\u001b[0mitems\u001b[0m\u001b[0;34m)\u001b[0m\u001b[0;34m)\u001b[0m\u001b[0;34m[\u001b[0m\u001b[0misnull\u001b[0m\u001b[0;34m(\u001b[0m\u001b[0mself\u001b[0m\u001b[0;34m.\u001b[0m\u001b[0mitems\u001b[0m\u001b[0;34m)\u001b[0m\u001b[0;34m]\u001b[0m\u001b[0;34m\u001b[0m\u001b[0m\n",
      "\u001b[0;32m/Users/MikeYung/anaconda/lib/python2.7/site-packages/pandas/core/index.pyc\u001b[0m in \u001b[0;36mget_loc\u001b[0;34m(self, key, method, tolerance)\u001b[0m\n\u001b[1;32m   1757\u001b[0m                                  'backfill or nearest lookups')\n\u001b[1;32m   1758\u001b[0m             \u001b[0mkey\u001b[0m \u001b[0;34m=\u001b[0m \u001b[0m_values_from_object\u001b[0m\u001b[0;34m(\u001b[0m\u001b[0mkey\u001b[0m\u001b[0;34m)\u001b[0m\u001b[0;34m\u001b[0m\u001b[0m\n\u001b[0;32m-> 1759\u001b[0;31m             \u001b[0;32mreturn\u001b[0m \u001b[0mself\u001b[0m\u001b[0;34m.\u001b[0m\u001b[0m_engine\u001b[0m\u001b[0;34m.\u001b[0m\u001b[0mget_loc\u001b[0m\u001b[0;34m(\u001b[0m\u001b[0mkey\u001b[0m\u001b[0;34m)\u001b[0m\u001b[0;34m\u001b[0m\u001b[0m\n\u001b[0m\u001b[1;32m   1760\u001b[0m \u001b[0;34m\u001b[0m\u001b[0m\n\u001b[1;32m   1761\u001b[0m         indexer = self.get_indexer([key], method=method,\n",
      "\u001b[0;32mpandas/index.pyx\u001b[0m in \u001b[0;36mpandas.index.IndexEngine.get_loc (pandas/index.c:3979)\u001b[0;34m()\u001b[0m\n",
      "\u001b[0;32mpandas/index.pyx\u001b[0m in \u001b[0;36mpandas.index.IndexEngine.get_loc (pandas/index.c:3843)\u001b[0;34m()\u001b[0m\n",
      "\u001b[0;32mpandas/hashtable.pyx\u001b[0m in \u001b[0;36mpandas.hashtable.PyObjectHashTable.get_item (pandas/hashtable.c:12265)\u001b[0;34m()\u001b[0m\n",
      "\u001b[0;32mpandas/hashtable.pyx\u001b[0m in \u001b[0;36mpandas.hashtable.PyObjectHashTable.get_item (pandas/hashtable.c:12216)\u001b[0;34m()\u001b[0m\n",
      "\u001b[0;31mKeyError\u001b[0m: 'Academic Performance in High School'"
     ]
    },
    {
     "data": {
      "text/plain": [
       "<matplotlib.figure.Figure at 0x117dd9a90>"
      ]
     },
     "metadata": {},
     "output_type": "display_data"
    }
   ],
   "source": [
    "reload(ea)\n",
    "ea.exploreCategorical(df, 'Academic Performance in High School','top_school_final',2,3)"
   ]
  },
  {
   "cell_type": "markdown",
   "metadata": {},
   "source": [
    "Almost 30% of those who had 'Steady' grades in high school ended up getting into a top school - there could be something interesting here..."
   ]
  },
  {
   "cell_type": "code",
   "execution_count": 170,
   "metadata": {
    "collapsed": false
   },
   "outputs": [],
   "source": [
    "df = pd.get_dummies(df,columns=['Academic Performance in High School'], prefix='HS')"
   ]
  },
  {
   "cell_type": "code",
   "execution_count": 190,
   "metadata": {
    "collapsed": false
   },
   "outputs": [
    {
     "data": {
      "text/plain": [
       "array(['Unnamed: 0', 'id', 'Gender', 'Undergraduate Schools Attended',\n",
       "       'Undergraduate Graduation Year', 'Undergraduate Major(s)',\n",
       "       'Ethnicity', 'Home State or Territory (US)', 'Home City',\n",
       "       'High School Type', 'High School GPA', 'High School Class Rank',\n",
       "       'High School AP / IB Classes and Scores',\n",
       "       'Undergraduate Additional Info',\n",
       "       'High School Extracurricular Activities',\n",
       "       'High School Sports Played', 'High School Other Honors and Awards',\n",
       "       'Undergraduate Acceptance', 'Undergraduate Month Applied',\n",
       "       'Undergraduate Schools Applied', 'Who are you?', 'About Me',\n",
       "       'Birth Year', 'Home Country', 'Is English your first language?',\n",
       "       'Do you speak other languages?', 'Undergrad Legacy',\n",
       "       'Undergraduate Degree Type', 'Undergraduate Type of Major(s)',\n",
       "       'Highest SAT Scores',\n",
       "       'How many times did you take the official SAT?',\n",
       "       'SAT 2 Tests Taken and Highest Scores',\n",
       "       'Undergraduate Personal Statement Topic',\n",
       "       'Undergraduate Personal Statement Type',\n",
       "       'Undergraduate Personal Statement',\n",
       "       'Undergraduate Supplemental Essay',\n",
       "       'How did you spend your summers during high school?',\n",
       "       'Other SAT Scores', 'What SAT test prep did you use?',\n",
       "       'Highest ACT Scores', 'Other ACT Scores',\n",
       "       'How many times did you take the ACT?',\n",
       "       'What ACT test prep did you use?', 'PSAT Scores',\n",
       "       'Other Standardized Tests Taken In High School',\n",
       "       'College Classes in High School', 'Low Grades in High School',\n",
       "       'High School Work & Volunteer Experience',\n",
       "       'Undergraduate Application Additional Materials',\n",
       "       'Undergraduate Essay Details',\n",
       "       'Elaborate on High School Extracurricular or Work',\n",
       "       'Undergraduate Number of Schools Applied', 'Undergraduate Advice',\n",
       "       'Internal Use - Calculated Undergrad Price',\n",
       "       'Number of Advanced Placement (AP) Tests Taken',\n",
       "       'Undergrad Verification Documents', 'Highest Composite SAT Score',\n",
       "       'TOEFL iBT', 'TOEFL PBT',\n",
       "       'List your private college consultant(s), if any',\n",
       "       \"Undergrad Student's Grad School Interests\",\n",
       "       \"Undergrad Student's Grad School Other\", 'Nationality',\n",
       "       'No major in the list', 'No other languages',\n",
       "       'Did either of your parents attend college in the U',\n",
       "       'Five adjectives College',\n",
       "       \"Undergrad Student's Grad School Interests NEW\",\n",
       "       'ZIP / Postal Code', 'Home State / Province (Outside U.S.)',\n",
       "       'NEW Personal Statement', 'GPA Scale', 'School Type CEEB',\n",
       "       'Harvard University (Cambridge, MA)',\n",
       "       'Yale University (New Haven, CT)',\n",
       "       'Cornell University (Ithaca, NY)',\n",
       "       'Columbia University (New York, NY)',\n",
       "       'University of Pennsylvania (Philadelphia, PA)',\n",
       "       'Princeton University (Princeton, NJ)',\n",
       "       'Brown University (Providence, RI)',\n",
       "       'Dartmouth College (Hanover, NH)',\n",
       "       'Massachusetts Institute of Technology (Cambridge, MA)',\n",
       "       'Stanford University (Stanford, CA)', 'any_top_school',\n",
       "       'any_top_school_v2', 'top_school_final', 'SAT_total_temp',\n",
       "       'SAT_total_final', 'SAT_times_taken', 'Male', 'Ethnicity2',\n",
       "       'Ethnicity_Asian', 'Ethnicity_Black', 'Ethnicity_Hispanic',\n",
       "       'Ethnicity_White', 'Ethnicity_Pacific', 'Ethnicity_NativeAm',\n",
       "       'leader', 'arts', 'award', 'community', 'academic', 'gov',\n",
       "       'diversity', 'race_ecc', 'sports_Basketball', 'sports_Fencing',\n",
       "       'sports_Cross Country', 'sports_Hockey', 'sports_Rowing (Crew)',\n",
       "       'sports_Water Polo', 'sports_Soccer', 'sports_Sailing',\n",
       "       'sports_Football', 'sports_Squash', 'sports_Baseball',\n",
       "       'sports_Weight Lifting', 'sports_Mountain Biking/Cycling',\n",
       "       'sports_Lacrosse', 'sports_Tennis', 'sports_Rugby',\n",
       "       'sports_Table Tennis (Ping Pong)', 'sports_Rowing',\n",
       "       'sports_Softball', 'sports_Volleyball', 'sports_Drill',\n",
       "       'sports_Equestrian', 'sports_Swimming/Diving',\n",
       "       'sports_Field Hockey', 'sports_Golf', 'sports_Track &amp; Field',\n",
       "       'sports_Dance', 'sports_Wrestling', 'sports_Cheer/Spirit Squad',\n",
       "       'sports_Gymnastics', 'sports_Skiing', 'sports_Martial Arts',\n",
       "       'Varsity', 'sportsVarsity', 'sportsCaptain', 'Home Country_US',\n",
       "       'HS_High at first but got worse', 'HS_Low at first but improved',\n",
       "       'HS_Low one semester/year', 'HS_Some good some bad', 'HS_Steady'], dtype=object)"
      ]
     },
     "execution_count": 190,
     "metadata": {},
     "output_type": "execute_result"
    }
   ],
   "source": [
    "df.columns.values"
   ]
  },
  {
   "cell_type": "code",
   "execution_count": null,
   "metadata": {
    "collapsed": true
   },
   "outputs": [],
   "source": []
  }
 ],
 "metadata": {
  "kernelspec": {
   "display_name": "Python 2",
   "language": "python",
   "name": "python2"
  },
  "language_info": {
   "codemirror_mode": {
    "name": "ipython",
    "version": 2
   },
   "file_extension": ".py",
   "mimetype": "text/x-python",
   "name": "python",
   "nbconvert_exporter": "python",
   "pygments_lexer": "ipython2",
   "version": "2.7.12"
  }
 },
 "nbformat": 4,
 "nbformat_minor": 0
}
